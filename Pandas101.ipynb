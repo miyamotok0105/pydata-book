{
 "cells": [
  {
   "cell_type": "markdown",
   "metadata": {},
   "source": [
    "# Pandas 101"
   ]
  },
  {
   "cell_type": "code",
   "execution_count": 1,
   "metadata": {
    "ExecuteTime": {
     "end_time": "2017-08-21T16:34:05.581177Z",
     "start_time": "2017-08-21T16:34:02.953265Z"
    },
    "collapsed": true
   },
   "outputs": [],
   "source": [
    "import numpy as np\n",
    "import pandas as pd"
   ]
  },
  {
   "cell_type": "markdown",
   "metadata": {},
   "source": [
    "## Series"
   ]
  },
  {
   "cell_type": "markdown",
   "metadata": {},
   "source": [
    "- 1次元配列のようなオブジェクト\n",
    " - Numpyが持つデータ型のデータ配列\n",
    " - Index\n",
    "    - デフォルトのインデックスは0からN-1の連番\n",
    "<br><br>\n",
    "- インデックスとデータ値がマッピングされた、**固定長の順序付きディクショナリ**\n",
    " "
   ]
  },
  {
   "cell_type": "markdown",
   "metadata": {},
   "source": [
    "## DataFrame"
   ]
  },
  {
   "cell_type": "markdown",
   "metadata": {},
   "source": [
    "- テーブル形式のスプレッドシート風のデータ構造\n",
    " - 行と列の両方にインデックスを持つ\n",
    "<br><br>\n",
    "- Series型の値を持つ、ディクショナリ(Key-Value)ともみなせる"
   ]
  },
  {
   "cell_type": "markdown",
   "metadata": {},
   "source": [
    "## info (型とサイズ)"
   ]
  },
  {
   "cell_type": "code",
   "execution_count": 2,
   "metadata": {
    "ExecuteTime": {
     "end_time": "2017-08-14T07:03:29.023877Z",
     "start_time": "2017-08-14T07:03:29.000817Z"
    },
    "scrolled": true
   },
   "outputs": [
    {
     "data": {
      "text/html": [
       "<div>\n",
       "<style>\n",
       "    .dataframe thead tr:only-child th {\n",
       "        text-align: right;\n",
       "    }\n",
       "\n",
       "    .dataframe thead th {\n",
       "        text-align: left;\n",
       "    }\n",
       "\n",
       "    .dataframe tbody tr th {\n",
       "        vertical-align: top;\n",
       "    }\n",
       "</style>\n",
       "<table border=\"1\" class=\"dataframe\">\n",
       "  <thead>\n",
       "    <tr style=\"text-align: right;\">\n",
       "      <th></th>\n",
       "      <th>col1</th>\n",
       "      <th>col2</th>\n",
       "      <th>col3</th>\n",
       "    </tr>\n",
       "  </thead>\n",
       "  <tbody>\n",
       "    <tr>\n",
       "      <th>one</th>\n",
       "      <td>0</td>\n",
       "      <td>1</td>\n",
       "      <td>2</td>\n",
       "    </tr>\n",
       "    <tr>\n",
       "      <th>two</th>\n",
       "      <td>3</td>\n",
       "      <td>4</td>\n",
       "      <td>5</td>\n",
       "    </tr>\n",
       "    <tr>\n",
       "      <th>three</th>\n",
       "      <td>6</td>\n",
       "      <td>7</td>\n",
       "      <td>8</td>\n",
       "    </tr>\n",
       "  </tbody>\n",
       "</table>\n",
       "</div>"
      ],
      "text/plain": [
       "       col1  col2  col3\n",
       "one       0     1     2\n",
       "two       3     4     5\n",
       "three     6     7     8"
      ]
     },
     "execution_count": 2,
     "metadata": {},
     "output_type": "execute_result"
    }
   ],
   "source": [
    "df = pd.DataFrame(np.arange(9).reshape(3,3), \n",
    "                  index=[\"one\", \"two\", \"three\"], columns=[\"col1\",\"col2\",\"col3\"])\n",
    "df"
   ]
  },
  {
   "cell_type": "code",
   "execution_count": 3,
   "metadata": {
    "ExecuteTime": {
     "end_time": "2017-08-14T07:03:29.068999Z",
     "start_time": "2017-08-14T07:03:29.025883Z"
    },
    "scrolled": true
   },
   "outputs": [
    {
     "name": "stdout",
     "output_type": "stream",
     "text": [
      "<class 'pandas.core.frame.DataFrame'>\n",
      "Index: 3 entries, one to three\n",
      "Data columns (total 3 columns):\n",
      "col1    3 non-null int32\n",
      "col2    3 non-null int32\n",
      "col3    3 non-null int32\n",
      "dtypes: int32(3)\n",
      "memory usage: 60.0+ bytes\n"
     ]
    }
   ],
   "source": [
    "df.info()"
   ]
  },
  {
   "cell_type": "code",
   "execution_count": 4,
   "metadata": {
    "ExecuteTime": {
     "end_time": "2017-08-14T07:03:29.097577Z",
     "start_time": "2017-08-14T07:03:29.071004Z"
    }
   },
   "outputs": [
    {
     "data": {
      "text/plain": [
       "Index    24\n",
       "col1     12\n",
       "col2     12\n",
       "col3     12\n",
       "dtype: int64"
      ]
     },
     "execution_count": 4,
     "metadata": {},
     "output_type": "execute_result"
    }
   ],
   "source": [
    "df.memory_usage()"
   ]
  },
  {
   "cell_type": "markdown",
   "metadata": {},
   "source": [
    "- int32(4 bytes) * 9 => 36 bytes\n",
    "- Index 24 bytes"
   ]
  },
  {
   "cell_type": "code",
   "execution_count": 5,
   "metadata": {
    "ExecuteTime": {
     "end_time": "2017-08-14T07:03:29.126653Z",
     "start_time": "2017-08-14T07:03:29.099583Z"
    }
   },
   "outputs": [
    {
     "name": "stdout",
     "output_type": "stream",
     "text": [
      "112\n",
      "112\n",
      "36\n"
     ]
    }
   ],
   "source": [
    "from sys import getsizeof\n",
    "print( getsizeof( df.values) )  # 解釈できていません\n",
    "print( df.values.__sizeof__() ) # 上記と同じ\n",
    "print( df.values.nbytes ) # 36 bytes"
   ]
  },
  {
   "cell_type": "markdown",
   "metadata": {},
   "source": [
    "## インデックス参照 (ix)"
   ]
  },
  {
   "cell_type": "markdown",
   "metadata": {},
   "source": [
    "- ix is deprecated. Please use => 今後廃止される予定、（こちらでは、ラベルによる指定も、位置による指定も使用できる）\n",
    " - loc for label based indexing or => ラベルで指定する場合\n",
    " - iloc for positional indexing => 位置で指定する場合"
   ]
  },
  {
   "cell_type": "markdown",
   "metadata": {},
   "source": [
    "### loc\n",
    "- loc, iloc では必ず、行(と列)で指定をしなければならない\n",
    " - 行、列の順で指定\n",
    " - 列は省略可能\n",
    " - ndarrayと同様なスライス処理が可能 => ex. [\"one\":\"two\"] => **※ 終端の値も含まれる**\n",
    " - ndarrayと同様なファンシーインデックスが可能 => ex. [[\"one\",\"three\"]]"
   ]
  },
  {
   "cell_type": "code",
   "execution_count": 77,
   "metadata": {
    "ExecuteTime": {
     "end_time": "2017-08-14T07:08:58.377076Z",
     "start_time": "2017-08-14T07:08:58.368056Z"
    },
    "scrolled": true
   },
   "outputs": [
    {
     "data": {
      "text/html": [
       "<div>\n",
       "<style>\n",
       "    .dataframe thead tr:only-child th {\n",
       "        text-align: right;\n",
       "    }\n",
       "\n",
       "    .dataframe thead th {\n",
       "        text-align: left;\n",
       "    }\n",
       "\n",
       "    .dataframe tbody tr th {\n",
       "        vertical-align: top;\n",
       "    }\n",
       "</style>\n",
       "<table border=\"1\" class=\"dataframe\">\n",
       "  <thead>\n",
       "    <tr style=\"text-align: right;\">\n",
       "      <th></th>\n",
       "      <th>col1</th>\n",
       "      <th>col2</th>\n",
       "      <th>col3</th>\n",
       "    </tr>\n",
       "  </thead>\n",
       "  <tbody>\n",
       "    <tr>\n",
       "      <th>one</th>\n",
       "      <td>0</td>\n",
       "      <td>1</td>\n",
       "      <td>2</td>\n",
       "    </tr>\n",
       "    <tr>\n",
       "      <th>two</th>\n",
       "      <td>3</td>\n",
       "      <td>4</td>\n",
       "      <td>5</td>\n",
       "    </tr>\n",
       "    <tr>\n",
       "      <th>three</th>\n",
       "      <td>6</td>\n",
       "      <td>7</td>\n",
       "      <td>8</td>\n",
       "    </tr>\n",
       "  </tbody>\n",
       "</table>\n",
       "</div>"
      ],
      "text/plain": [
       "       col1  col2  col3\n",
       "one       0     1     2\n",
       "two       3     4     5\n",
       "three     6     7     8"
      ]
     },
     "execution_count": 77,
     "metadata": {},
     "output_type": "execute_result"
    }
   ],
   "source": [
    "df = pd.DataFrame(np.arange(9).reshape(3,3), \n",
    "                  index=[\"one\", \"two\", \"three\"], columns=[\"col1\",\"col2\",\"col3\"])\n",
    "df"
   ]
  },
  {
   "cell_type": "code",
   "execution_count": 78,
   "metadata": {
    "ExecuteTime": {
     "end_time": "2017-08-14T07:09:00.995338Z",
     "start_time": "2017-08-14T07:09:00.988816Z"
    }
   },
   "outputs": [
    {
     "data": {
      "text/plain": [
       "col1    0\n",
       "col2    1\n",
       "col3    2\n",
       "Name: one, dtype: int32"
      ]
     },
     "execution_count": 78,
     "metadata": {},
     "output_type": "execute_result"
    }
   ],
   "source": [
    "df.loc[\"one\"]"
   ]
  },
  {
   "cell_type": "code",
   "execution_count": 79,
   "metadata": {
    "ExecuteTime": {
     "end_time": "2017-08-14T07:09:01.945562Z",
     "start_time": "2017-08-14T07:09:01.935535Z"
    }
   },
   "outputs": [
    {
     "data": {
      "text/html": [
       "<div>\n",
       "<style>\n",
       "    .dataframe thead tr:only-child th {\n",
       "        text-align: right;\n",
       "    }\n",
       "\n",
       "    .dataframe thead th {\n",
       "        text-align: left;\n",
       "    }\n",
       "\n",
       "    .dataframe tbody tr th {\n",
       "        vertical-align: top;\n",
       "    }\n",
       "</style>\n",
       "<table border=\"1\" class=\"dataframe\">\n",
       "  <thead>\n",
       "    <tr style=\"text-align: right;\">\n",
       "      <th></th>\n",
       "      <th>col1</th>\n",
       "      <th>col2</th>\n",
       "      <th>col3</th>\n",
       "    </tr>\n",
       "  </thead>\n",
       "  <tbody>\n",
       "    <tr>\n",
       "      <th>one</th>\n",
       "      <td>0</td>\n",
       "      <td>1</td>\n",
       "      <td>2</td>\n",
       "    </tr>\n",
       "    <tr>\n",
       "      <th>two</th>\n",
       "      <td>3</td>\n",
       "      <td>4</td>\n",
       "      <td>5</td>\n",
       "    </tr>\n",
       "  </tbody>\n",
       "</table>\n",
       "</div>"
      ],
      "text/plain": [
       "     col1  col2  col3\n",
       "one     0     1     2\n",
       "two     3     4     5"
      ]
     },
     "execution_count": 79,
     "metadata": {},
     "output_type": "execute_result"
    }
   ],
   "source": [
    "df.loc[\"one\":\"two\"]"
   ]
  },
  {
   "cell_type": "code",
   "execution_count": 80,
   "metadata": {
    "ExecuteTime": {
     "end_time": "2017-08-14T07:09:02.899996Z",
     "start_time": "2017-08-14T07:09:02.893975Z"
    }
   },
   "outputs": [
    {
     "data": {
      "text/plain": [
       "one      0\n",
       "two      3\n",
       "three    6\n",
       "Name: col1, dtype: int32"
      ]
     },
     "execution_count": 80,
     "metadata": {},
     "output_type": "execute_result"
    }
   ],
   "source": [
    "df.loc[:,\"col1\"]"
   ]
  },
  {
   "cell_type": "code",
   "execution_count": 10,
   "metadata": {
    "ExecuteTime": {
     "end_time": "2017-08-14T07:03:29.286082Z",
     "start_time": "2017-08-14T07:03:29.255999Z"
    }
   },
   "outputs": [
    {
     "data": {
      "text/html": [
       "<div>\n",
       "<style>\n",
       "    .dataframe thead tr:only-child th {\n",
       "        text-align: right;\n",
       "    }\n",
       "\n",
       "    .dataframe thead th {\n",
       "        text-align: left;\n",
       "    }\n",
       "\n",
       "    .dataframe tbody tr th {\n",
       "        vertical-align: top;\n",
       "    }\n",
       "</style>\n",
       "<table border=\"1\" class=\"dataframe\">\n",
       "  <thead>\n",
       "    <tr style=\"text-align: right;\">\n",
       "      <th></th>\n",
       "      <th>col1</th>\n",
       "      <th>col2</th>\n",
       "    </tr>\n",
       "  </thead>\n",
       "  <tbody>\n",
       "    <tr>\n",
       "      <th>one</th>\n",
       "      <td>0</td>\n",
       "      <td>1</td>\n",
       "    </tr>\n",
       "    <tr>\n",
       "      <th>two</th>\n",
       "      <td>3</td>\n",
       "      <td>4</td>\n",
       "    </tr>\n",
       "    <tr>\n",
       "      <th>three</th>\n",
       "      <td>6</td>\n",
       "      <td>7</td>\n",
       "    </tr>\n",
       "  </tbody>\n",
       "</table>\n",
       "</div>"
      ],
      "text/plain": [
       "       col1  col2\n",
       "one       0     1\n",
       "two       3     4\n",
       "three     6     7"
      ]
     },
     "execution_count": 10,
     "metadata": {},
     "output_type": "execute_result"
    }
   ],
   "source": [
    "df.loc[:,\"col1\":\"col2\"]"
   ]
  },
  {
   "cell_type": "code",
   "execution_count": 11,
   "metadata": {
    "ExecuteTime": {
     "end_time": "2017-08-14T07:03:29.318166Z",
     "start_time": "2017-08-14T07:03:29.288088Z"
    }
   },
   "outputs": [
    {
     "data": {
      "text/html": [
       "<div>\n",
       "<style>\n",
       "    .dataframe thead tr:only-child th {\n",
       "        text-align: right;\n",
       "    }\n",
       "\n",
       "    .dataframe thead th {\n",
       "        text-align: left;\n",
       "    }\n",
       "\n",
       "    .dataframe tbody tr th {\n",
       "        vertical-align: top;\n",
       "    }\n",
       "</style>\n",
       "<table border=\"1\" class=\"dataframe\">\n",
       "  <thead>\n",
       "    <tr style=\"text-align: right;\">\n",
       "      <th></th>\n",
       "      <th>col1</th>\n",
       "      <th>col2</th>\n",
       "      <th>col3</th>\n",
       "    </tr>\n",
       "  </thead>\n",
       "  <tbody>\n",
       "    <tr>\n",
       "      <th>one</th>\n",
       "      <td>0</td>\n",
       "      <td>1</td>\n",
       "      <td>2</td>\n",
       "    </tr>\n",
       "    <tr>\n",
       "      <th>three</th>\n",
       "      <td>6</td>\n",
       "      <td>7</td>\n",
       "      <td>8</td>\n",
       "    </tr>\n",
       "  </tbody>\n",
       "</table>\n",
       "</div>"
      ],
      "text/plain": [
       "       col1  col2  col3\n",
       "one       0     1     2\n",
       "three     6     7     8"
      ]
     },
     "execution_count": 11,
     "metadata": {},
     "output_type": "execute_result"
    }
   ],
   "source": [
    "df.loc[[\"one\",\"three\"]]"
   ]
  },
  {
   "cell_type": "code",
   "execution_count": 12,
   "metadata": {
    "ExecuteTime": {
     "end_time": "2017-08-14T07:03:29.345236Z",
     "start_time": "2017-08-14T07:03:29.320171Z"
    },
    "collapsed": true
   },
   "outputs": [],
   "source": [
    "# df.loc[\"col1\"]  # 列だけの指定はNG\n",
    "# df.loc[1,1]  # 位置による指定はNG"
   ]
  },
  {
   "cell_type": "markdown",
   "metadata": {},
   "source": [
    "### iloc\n",
    "- loc, iloc では必ず、行(と列)で指定をしなければならない\n",
    " - 行、列の順で指定\n",
    " - 列は省略可能\n",
    " - ndarrayと同様なスライス処理が可能 => ex. [1:2] => **※ 終端の値は含まれない**\n",
    " - ndarrayと同様なファンシーインデックスが可能 => ex. [[\"one\",\"three\"]]"
   ]
  },
  {
   "cell_type": "code",
   "execution_count": 13,
   "metadata": {
    "ExecuteTime": {
     "end_time": "2017-08-14T07:03:29.372811Z",
     "start_time": "2017-08-14T07:03:29.347242Z"
    }
   },
   "outputs": [
    {
     "data": {
      "text/plain": [
       "4"
      ]
     },
     "execution_count": 13,
     "metadata": {},
     "output_type": "execute_result"
    }
   ],
   "source": [
    "df.iloc[1,1]"
   ]
  },
  {
   "cell_type": "code",
   "execution_count": 14,
   "metadata": {
    "ExecuteTime": {
     "end_time": "2017-08-14T07:03:29.402004Z",
     "start_time": "2017-08-14T07:03:29.374817Z"
    }
   },
   "outputs": [
    {
     "data": {
      "text/plain": [
       "col1    0\n",
       "col2    1\n",
       "col3    2\n",
       "Name: one, dtype: int32"
      ]
     },
     "execution_count": 14,
     "metadata": {},
     "output_type": "execute_result"
    }
   ],
   "source": [
    "df.iloc[0]"
   ]
  },
  {
   "cell_type": "code",
   "execution_count": 15,
   "metadata": {
    "ExecuteTime": {
     "end_time": "2017-08-14T07:03:29.435090Z",
     "start_time": "2017-08-14T07:03:29.404009Z"
    }
   },
   "outputs": [
    {
     "data": {
      "text/html": [
       "<div>\n",
       "<style>\n",
       "    .dataframe thead tr:only-child th {\n",
       "        text-align: right;\n",
       "    }\n",
       "\n",
       "    .dataframe thead th {\n",
       "        text-align: left;\n",
       "    }\n",
       "\n",
       "    .dataframe tbody tr th {\n",
       "        vertical-align: top;\n",
       "    }\n",
       "</style>\n",
       "<table border=\"1\" class=\"dataframe\">\n",
       "  <thead>\n",
       "    <tr style=\"text-align: right;\">\n",
       "      <th></th>\n",
       "      <th>col1</th>\n",
       "      <th>col2</th>\n",
       "      <th>col3</th>\n",
       "    </tr>\n",
       "  </thead>\n",
       "  <tbody>\n",
       "    <tr>\n",
       "      <th>two</th>\n",
       "      <td>3</td>\n",
       "      <td>4</td>\n",
       "      <td>5</td>\n",
       "    </tr>\n",
       "  </tbody>\n",
       "</table>\n",
       "</div>"
      ],
      "text/plain": [
       "     col1  col2  col3\n",
       "two     3     4     5"
      ]
     },
     "execution_count": 15,
     "metadata": {},
     "output_type": "execute_result"
    }
   ],
   "source": [
    "df.iloc[1:2]"
   ]
  },
  {
   "cell_type": "code",
   "execution_count": 16,
   "metadata": {
    "ExecuteTime": {
     "end_time": "2017-08-14T07:03:29.472189Z",
     "start_time": "2017-08-14T07:03:29.437096Z"
    }
   },
   "outputs": [
    {
     "data": {
      "text/html": [
       "<div>\n",
       "<style>\n",
       "    .dataframe thead tr:only-child th {\n",
       "        text-align: right;\n",
       "    }\n",
       "\n",
       "    .dataframe thead th {\n",
       "        text-align: left;\n",
       "    }\n",
       "\n",
       "    .dataframe tbody tr th {\n",
       "        vertical-align: top;\n",
       "    }\n",
       "</style>\n",
       "<table border=\"1\" class=\"dataframe\">\n",
       "  <thead>\n",
       "    <tr style=\"text-align: right;\">\n",
       "      <th></th>\n",
       "      <th>col2</th>\n",
       "      <th>col3</th>\n",
       "    </tr>\n",
       "  </thead>\n",
       "  <tbody>\n",
       "    <tr>\n",
       "      <th>one</th>\n",
       "      <td>1</td>\n",
       "      <td>2</td>\n",
       "    </tr>\n",
       "    <tr>\n",
       "      <th>two</th>\n",
       "      <td>4</td>\n",
       "      <td>5</td>\n",
       "    </tr>\n",
       "    <tr>\n",
       "      <th>three</th>\n",
       "      <td>7</td>\n",
       "      <td>8</td>\n",
       "    </tr>\n",
       "  </tbody>\n",
       "</table>\n",
       "</div>"
      ],
      "text/plain": [
       "       col2  col3\n",
       "one       1     2\n",
       "two       4     5\n",
       "three     7     8"
      ]
     },
     "execution_count": 16,
     "metadata": {},
     "output_type": "execute_result"
    }
   ],
   "source": [
    "df.iloc[:,1:3]"
   ]
  },
  {
   "cell_type": "code",
   "execution_count": 17,
   "metadata": {
    "ExecuteTime": {
     "end_time": "2017-08-14T07:03:29.507283Z",
     "start_time": "2017-08-14T07:03:29.473693Z"
    },
    "scrolled": true
   },
   "outputs": [
    {
     "data": {
      "text/html": [
       "<div>\n",
       "<style>\n",
       "    .dataframe thead tr:only-child th {\n",
       "        text-align: right;\n",
       "    }\n",
       "\n",
       "    .dataframe thead th {\n",
       "        text-align: left;\n",
       "    }\n",
       "\n",
       "    .dataframe tbody tr th {\n",
       "        vertical-align: top;\n",
       "    }\n",
       "</style>\n",
       "<table border=\"1\" class=\"dataframe\">\n",
       "  <thead>\n",
       "    <tr style=\"text-align: right;\">\n",
       "      <th></th>\n",
       "      <th>col1</th>\n",
       "      <th>col2</th>\n",
       "      <th>col3</th>\n",
       "    </tr>\n",
       "  </thead>\n",
       "  <tbody>\n",
       "    <tr>\n",
       "      <th>one</th>\n",
       "      <td>0</td>\n",
       "      <td>1</td>\n",
       "      <td>2</td>\n",
       "    </tr>\n",
       "    <tr>\n",
       "      <th>three</th>\n",
       "      <td>6</td>\n",
       "      <td>7</td>\n",
       "      <td>8</td>\n",
       "    </tr>\n",
       "  </tbody>\n",
       "</table>\n",
       "</div>"
      ],
      "text/plain": [
       "       col1  col2  col3\n",
       "one       0     1     2\n",
       "three     6     7     8"
      ]
     },
     "execution_count": 17,
     "metadata": {},
     "output_type": "execute_result"
    }
   ],
   "source": [
    "df.iloc[[0,2]]"
   ]
  },
  {
   "cell_type": "code",
   "execution_count": 85,
   "metadata": {
    "ExecuteTime": {
     "end_time": "2017-08-14T07:16:12.280125Z",
     "start_time": "2017-08-14T07:16:12.268129Z"
    },
    "scrolled": true
   },
   "outputs": [
    {
     "data": {
      "text/html": [
       "<div>\n",
       "<style>\n",
       "    .dataframe thead tr:only-child th {\n",
       "        text-align: right;\n",
       "    }\n",
       "\n",
       "    .dataframe thead th {\n",
       "        text-align: left;\n",
       "    }\n",
       "\n",
       "    .dataframe tbody tr th {\n",
       "        vertical-align: top;\n",
       "    }\n",
       "</style>\n",
       "<table border=\"1\" class=\"dataframe\">\n",
       "  <thead>\n",
       "    <tr style=\"text-align: right;\">\n",
       "      <th></th>\n",
       "      <th>col1</th>\n",
       "      <th>col2</th>\n",
       "      <th>col3</th>\n",
       "    </tr>\n",
       "  </thead>\n",
       "  <tbody>\n",
       "    <tr>\n",
       "      <th>one</th>\n",
       "      <td>0</td>\n",
       "      <td>1</td>\n",
       "      <td>2</td>\n",
       "    </tr>\n",
       "    <tr>\n",
       "      <th>two</th>\n",
       "      <td>3</td>\n",
       "      <td>4</td>\n",
       "      <td>5</td>\n",
       "    </tr>\n",
       "    <tr>\n",
       "      <th>three</th>\n",
       "      <td>6</td>\n",
       "      <td>7</td>\n",
       "      <td>8</td>\n",
       "    </tr>\n",
       "  </tbody>\n",
       "</table>\n",
       "</div>"
      ],
      "text/plain": [
       "       col1  col2  col3\n",
       "one       0     1     2\n",
       "two       3     4     5\n",
       "three     6     7     8"
      ]
     },
     "execution_count": 85,
     "metadata": {},
     "output_type": "execute_result"
    }
   ],
   "source": [
    "df = pd.DataFrame(np.arange(9).reshape(3,3), \n",
    "                  index=[\"one\", \"two\", \"three\"], columns=[\"col1\",\"col2\",\"col3\"])\n",
    "df"
   ]
  },
  {
   "cell_type": "code",
   "execution_count": 91,
   "metadata": {
    "ExecuteTime": {
     "end_time": "2017-08-14T07:17:50.339395Z",
     "start_time": "2017-08-14T07:17:50.332370Z"
    }
   },
   "outputs": [
    {
     "data": {
      "text/plain": [
       "col1    0\n",
       "col2    1\n",
       "col3    2\n",
       "Name: one, dtype: int32"
      ]
     },
     "execution_count": 91,
     "metadata": {},
     "output_type": "execute_result"
    }
   ],
   "source": [
    "df.loc[\"one\"]"
   ]
  },
  {
   "cell_type": "markdown",
   "metadata": {},
   "source": [
    "## index"
   ]
  },
  {
   "cell_type": "markdown",
   "metadata": {},
   "source": [
    "- **DataFrameにおいて、indexは 列方向、縦方向、axis=1**\n",
    "- Seriesにおいては、方向がないので、単に順番\n",
    "- index を指定しない場合、0からの連番が自動的に採番される\n",
    " - index を指定することは、この自動採番の数字にラベルを付けること\n",
    " - **index とは別に数字で指定できる位置情報は別途持っている => iloc (Integer location ???) **\n",
    "<br><br> \n",
    "- index のラベルの変更は、リストでの一括で変更はできるが、個別には変更はできない(mutable)"
   ]
  },
  {
   "cell_type": "markdown",
   "metadata": {
    "ExecuteTime": {
     "end_time": "2017-08-10T04:32:22.774666Z",
     "start_time": "2017-08-10T04:32:22.769653Z"
    }
   },
   "source": [
    "<img src=\"data:image/png;base64,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\">"
   ]
  },
  {
   "cell_type": "code",
   "execution_count": 198,
   "metadata": {
    "ExecuteTime": {
     "end_time": "2017-08-16T08:55:12.186441Z",
     "start_time": "2017-08-16T08:55:12.177417Z"
    },
    "scrolled": true
   },
   "outputs": [
    {
     "data": {
      "text/html": [
       "<div>\n",
       "<style>\n",
       "    .dataframe thead tr:only-child th {\n",
       "        text-align: right;\n",
       "    }\n",
       "\n",
       "    .dataframe thead th {\n",
       "        text-align: left;\n",
       "    }\n",
       "\n",
       "    .dataframe tbody tr th {\n",
       "        vertical-align: top;\n",
       "    }\n",
       "</style>\n",
       "<table border=\"1\" class=\"dataframe\">\n",
       "  <thead>\n",
       "    <tr style=\"text-align: right;\">\n",
       "      <th></th>\n",
       "      <th>col1</th>\n",
       "      <th>col2</th>\n",
       "      <th>col3</th>\n",
       "    </tr>\n",
       "  </thead>\n",
       "  <tbody>\n",
       "    <tr>\n",
       "      <th>one</th>\n",
       "      <td>0</td>\n",
       "      <td>1</td>\n",
       "      <td>2</td>\n",
       "    </tr>\n",
       "    <tr>\n",
       "      <th>two</th>\n",
       "      <td>3</td>\n",
       "      <td>4</td>\n",
       "      <td>5</td>\n",
       "    </tr>\n",
       "    <tr>\n",
       "      <th>three</th>\n",
       "      <td>6</td>\n",
       "      <td>7</td>\n",
       "      <td>8</td>\n",
       "    </tr>\n",
       "  </tbody>\n",
       "</table>\n",
       "</div>"
      ],
      "text/plain": [
       "       col1  col2  col3\n",
       "one       0     1     2\n",
       "two       3     4     5\n",
       "three     6     7     8"
      ]
     },
     "execution_count": 198,
     "metadata": {},
     "output_type": "execute_result"
    }
   ],
   "source": [
    "df = pd.DataFrame(np.arange(9).reshape(3,3), \n",
    "                  index=[\"one\", \"two\", \"three\"], columns=[\"col1\",\"col2\",\"col3\"])\n",
    "df"
   ]
  },
  {
   "cell_type": "code",
   "execution_count": 199,
   "metadata": {
    "ExecuteTime": {
     "end_time": "2017-08-16T08:55:13.416174Z",
     "start_time": "2017-08-16T08:55:13.410158Z"
    }
   },
   "outputs": [
    {
     "data": {
      "text/plain": [
       "Index(['one', 'two', 'three'], dtype='object')"
      ]
     },
     "execution_count": 199,
     "metadata": {},
     "output_type": "execute_result"
    }
   ],
   "source": [
    "df.index"
   ]
  },
  {
   "cell_type": "code",
   "execution_count": 200,
   "metadata": {
    "ExecuteTime": {
     "end_time": "2017-08-16T08:55:16.792819Z",
     "start_time": "2017-08-16T08:55:16.782790Z"
    }
   },
   "outputs": [
    {
     "data": {
      "text/html": [
       "<div>\n",
       "<style>\n",
       "    .dataframe thead tr:only-child th {\n",
       "        text-align: right;\n",
       "    }\n",
       "\n",
       "    .dataframe thead th {\n",
       "        text-align: left;\n",
       "    }\n",
       "\n",
       "    .dataframe tbody tr th {\n",
       "        vertical-align: top;\n",
       "    }\n",
       "</style>\n",
       "<table border=\"1\" class=\"dataframe\">\n",
       "  <thead>\n",
       "    <tr style=\"text-align: right;\">\n",
       "      <th></th>\n",
       "      <th>col1</th>\n",
       "      <th>col2</th>\n",
       "      <th>col3</th>\n",
       "    </tr>\n",
       "  </thead>\n",
       "  <tbody>\n",
       "    <tr>\n",
       "      <th>uno</th>\n",
       "      <td>0</td>\n",
       "      <td>1</td>\n",
       "      <td>2</td>\n",
       "    </tr>\n",
       "    <tr>\n",
       "      <th>dos</th>\n",
       "      <td>3</td>\n",
       "      <td>4</td>\n",
       "      <td>5</td>\n",
       "    </tr>\n",
       "    <tr>\n",
       "      <th>tres</th>\n",
       "      <td>6</td>\n",
       "      <td>7</td>\n",
       "      <td>8</td>\n",
       "    </tr>\n",
       "  </tbody>\n",
       "</table>\n",
       "</div>"
      ],
      "text/plain": [
       "      col1  col2  col3\n",
       "uno      0     1     2\n",
       "dos      3     4     5\n",
       "tres     6     7     8"
      ]
     },
     "execution_count": 200,
     "metadata": {},
     "output_type": "execute_result"
    }
   ],
   "source": [
    "df.index = [\"uno\",\"dos\",\"tres\"]\n",
    "df"
   ]
  },
  {
   "cell_type": "code",
   "execution_count": 201,
   "metadata": {
    "ExecuteTime": {
     "end_time": "2017-08-16T08:55:19.842471Z",
     "start_time": "2017-08-16T08:55:19.839464Z"
    },
    "collapsed": true
   },
   "outputs": [],
   "source": [
    "# df.index[0] = \"ONE\"   # TypeError: Index does not support mutable operations"
   ]
  },
  {
   "cell_type": "code",
   "execution_count": 202,
   "metadata": {
    "ExecuteTime": {
     "end_time": "2017-08-16T08:55:22.186088Z",
     "start_time": "2017-08-16T08:55:22.177064Z"
    }
   },
   "outputs": [
    {
     "data": {
      "text/html": [
       "<div>\n",
       "<style>\n",
       "    .dataframe thead tr:only-child th {\n",
       "        text-align: right;\n",
       "    }\n",
       "\n",
       "    .dataframe thead th {\n",
       "        text-align: left;\n",
       "    }\n",
       "\n",
       "    .dataframe tbody tr th {\n",
       "        vertical-align: top;\n",
       "    }\n",
       "</style>\n",
       "<table border=\"1\" class=\"dataframe\">\n",
       "  <thead>\n",
       "    <tr style=\"text-align: right;\">\n",
       "      <th></th>\n",
       "      <th>col1</th>\n",
       "      <th>col2</th>\n",
       "      <th>col3</th>\n",
       "    </tr>\n",
       "  </thead>\n",
       "  <tbody>\n",
       "    <tr>\n",
       "      <th>uno</th>\n",
       "      <td>0</td>\n",
       "      <td>1</td>\n",
       "      <td>2</td>\n",
       "    </tr>\n",
       "    <tr>\n",
       "      <th>dos</th>\n",
       "      <td>3</td>\n",
       "      <td>4</td>\n",
       "      <td>5</td>\n",
       "    </tr>\n",
       "    <tr>\n",
       "      <th>tres</th>\n",
       "      <td>6</td>\n",
       "      <td>7</td>\n",
       "      <td>8</td>\n",
       "    </tr>\n",
       "  </tbody>\n",
       "</table>\n",
       "</div>"
      ],
      "text/plain": [
       "      col1  col2  col3\n",
       "uno      0     1     2\n",
       "dos      3     4     5\n",
       "tres     6     7     8"
      ]
     },
     "execution_count": 202,
     "metadata": {},
     "output_type": "execute_result"
    }
   ],
   "source": [
    "df"
   ]
  },
  {
   "cell_type": "code",
   "execution_count": 22,
   "metadata": {
    "ExecuteTime": {
     "end_time": "2017-08-14T07:03:29.665911Z",
     "start_time": "2017-08-14T07:03:29.636332Z"
    }
   },
   "outputs": [
    {
     "name": "stdout",
     "output_type": "stream",
     "text": [
      "uno\n",
      "0\n",
      "1\n",
      "2\n",
      "dos\n",
      "3\n",
      "4\n",
      "5\n",
      "tres\n",
      "6\n",
      "7\n",
      "8\n"
     ]
    }
   ],
   "source": [
    "for rowId in df.index: # ROWS\n",
    "    print(rowId)\n",
    "    for colId in df.loc[rowId].index: #COLUMNS\n",
    "        print(df.loc[rowId, colId]) #CELL"
   ]
  },
  {
   "cell_type": "markdown",
   "metadata": {},
   "source": [
    "## columns"
   ]
  },
  {
   "cell_type": "markdown",
   "metadata": {
    "ExecuteTime": {
     "end_time": "2017-08-10T04:32:22.774666Z",
     "start_time": "2017-08-10T04:32:22.769653Z"
    }
   },
   "source": [
    "- colomn 列方向、横方向、axis=0\n",
    "- column を指定しない場合、0からの連番が自動的に採番される\n",
    " - column を指定することは、この自動採番の数字にラベルを付けること\n",
    " - column とは別に数字で指定できる位置情報は別途持っている => **iloc (index location ???) **\n",
    "<br><br> \n",
    "- columns のラベルの変更は、リストでの一括で変更はできるが、個別には変更はできない(mutable)"
   ]
  },
  {
   "cell_type": "markdown",
   "metadata": {
    "ExecuteTime": {
     "end_time": "2017-08-10T04:32:22.774666Z",
     "start_time": "2017-08-10T04:32:22.769653Z"
    }
   },
   "source": [
    "<img src=\"data:image/png;base64,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\">"
   ]
  },
  {
   "cell_type": "code",
   "execution_count": 155,
   "metadata": {
    "ExecuteTime": {
     "end_time": "2017-08-16T08:51:09.423815Z",
     "start_time": "2017-08-16T08:51:09.408774Z"
    },
    "scrolled": true
   },
   "outputs": [
    {
     "data": {
      "text/html": [
       "<div>\n",
       "<style>\n",
       "    .dataframe thead tr:only-child th {\n",
       "        text-align: right;\n",
       "    }\n",
       "\n",
       "    .dataframe thead th {\n",
       "        text-align: left;\n",
       "    }\n",
       "\n",
       "    .dataframe tbody tr th {\n",
       "        vertical-align: top;\n",
       "    }\n",
       "</style>\n",
       "<table border=\"1\" class=\"dataframe\">\n",
       "  <thead>\n",
       "    <tr style=\"text-align: right;\">\n",
       "      <th></th>\n",
       "      <th>col1</th>\n",
       "      <th>col2</th>\n",
       "      <th>col3</th>\n",
       "    </tr>\n",
       "  </thead>\n",
       "  <tbody>\n",
       "    <tr>\n",
       "      <th>one</th>\n",
       "      <td>0</td>\n",
       "      <td>1</td>\n",
       "      <td>2</td>\n",
       "    </tr>\n",
       "    <tr>\n",
       "      <th>two</th>\n",
       "      <td>3</td>\n",
       "      <td>4</td>\n",
       "      <td>5</td>\n",
       "    </tr>\n",
       "    <tr>\n",
       "      <th>three</th>\n",
       "      <td>6</td>\n",
       "      <td>7</td>\n",
       "      <td>8</td>\n",
       "    </tr>\n",
       "  </tbody>\n",
       "</table>\n",
       "</div>"
      ],
      "text/plain": [
       "       col1  col2  col3\n",
       "one       0     1     2\n",
       "two       3     4     5\n",
       "three     6     7     8"
      ]
     },
     "execution_count": 155,
     "metadata": {},
     "output_type": "execute_result"
    }
   ],
   "source": [
    "df = pd.DataFrame(np.arange(9).reshape(3,3), \n",
    "                  index=[\"one\", \"two\", \"three\"], columns=[\"col1\",\"col2\",\"col3\"])\n",
    "df"
   ]
  },
  {
   "cell_type": "code",
   "execution_count": 24,
   "metadata": {
    "ExecuteTime": {
     "end_time": "2017-08-14T07:03:29.723564Z",
     "start_time": "2017-08-14T07:03:29.698498Z"
    }
   },
   "outputs": [
    {
     "data": {
      "text/plain": [
       "Index(['col1', 'col2', 'col3'], dtype='object')"
      ]
     },
     "execution_count": 24,
     "metadata": {},
     "output_type": "execute_result"
    }
   ],
   "source": [
    "df.columns"
   ]
  },
  {
   "cell_type": "code",
   "execution_count": 25,
   "metadata": {
    "ExecuteTime": {
     "end_time": "2017-08-14T07:03:29.761663Z",
     "start_time": "2017-08-14T07:03:29.725569Z"
    }
   },
   "outputs": [
    {
     "data": {
      "text/html": [
       "<div>\n",
       "<style>\n",
       "    .dataframe thead tr:only-child th {\n",
       "        text-align: right;\n",
       "    }\n",
       "\n",
       "    .dataframe thead th {\n",
       "        text-align: left;\n",
       "    }\n",
       "\n",
       "    .dataframe tbody tr th {\n",
       "        vertical-align: top;\n",
       "    }\n",
       "</style>\n",
       "<table border=\"1\" class=\"dataframe\">\n",
       "  <thead>\n",
       "    <tr style=\"text-align: right;\">\n",
       "      <th></th>\n",
       "      <th>1列</th>\n",
       "      <th>2列</th>\n",
       "      <th>3列</th>\n",
       "    </tr>\n",
       "  </thead>\n",
       "  <tbody>\n",
       "    <tr>\n",
       "      <th>one</th>\n",
       "      <td>0</td>\n",
       "      <td>1</td>\n",
       "      <td>2</td>\n",
       "    </tr>\n",
       "    <tr>\n",
       "      <th>two</th>\n",
       "      <td>3</td>\n",
       "      <td>4</td>\n",
       "      <td>5</td>\n",
       "    </tr>\n",
       "    <tr>\n",
       "      <th>three</th>\n",
       "      <td>6</td>\n",
       "      <td>7</td>\n",
       "      <td>8</td>\n",
       "    </tr>\n",
       "  </tbody>\n",
       "</table>\n",
       "</div>"
      ],
      "text/plain": [
       "       1列  2列  3列\n",
       "one     0   1   2\n",
       "two     3   4   5\n",
       "three   6   7   8"
      ]
     },
     "execution_count": 25,
     "metadata": {},
     "output_type": "execute_result"
    }
   ],
   "source": [
    "df.columns = [\"1列\",\"2列\",\"3列\"]\n",
    "df"
   ]
  },
  {
   "cell_type": "code",
   "execution_count": 26,
   "metadata": {
    "ExecuteTime": {
     "end_time": "2017-08-14T07:03:29.793751Z",
     "start_time": "2017-08-14T07:03:29.763671Z"
    }
   },
   "outputs": [
    {
     "data": {
      "text/plain": [
       "Index(['1列', '2列', '3列'], dtype='object')"
      ]
     },
     "execution_count": 26,
     "metadata": {},
     "output_type": "execute_result"
    }
   ],
   "source": [
    "df.columns"
   ]
  },
  {
   "cell_type": "code",
   "execution_count": 27,
   "metadata": {
    "ExecuteTime": {
     "end_time": "2017-08-14T07:03:29.825834Z",
     "start_time": "2017-08-14T07:03:29.795756Z"
    },
    "collapsed": true
   },
   "outputs": [],
   "source": [
    "#df.columns[0] = \"COL1\" #  TypeError: Index does not support mutable operations"
   ]
  },
  {
   "cell_type": "markdown",
   "metadata": {},
   "source": [
    "## values"
   ]
  },
  {
   "cell_type": "markdown",
   "metadata": {},
   "source": [
    "- 値の部分を取り出す"
   ]
  },
  {
   "cell_type": "code",
   "execution_count": 28,
   "metadata": {
    "ExecuteTime": {
     "end_time": "2017-08-14T07:03:29.854910Z",
     "start_time": "2017-08-14T07:03:29.827840Z"
    }
   },
   "outputs": [
    {
     "data": {
      "text/plain": [
       "array([[0, 1, 2],\n",
       "       [3, 4, 5],\n",
       "       [6, 7, 8]])"
      ]
     },
     "execution_count": 28,
     "metadata": {},
     "output_type": "execute_result"
    }
   ],
   "source": [
    "df.values"
   ]
  },
  {
   "cell_type": "markdown",
   "metadata": {},
   "source": [
    "## name"
   ]
  },
  {
   "cell_type": "markdown",
   "metadata": {
    "ExecuteTime": {
     "end_time": "2017-08-10T04:56:50.703266Z",
     "start_time": "2017-08-10T04:56:50.698252Z"
    }
   },
   "source": [
    "- name\n",
    " - objectの名前 => DataFrameオブジェクトの名前 => 注意！、命名されていないのにobj.nameすると例外が発生する => BUG!??\n",
    " - index の名前"
   ]
  },
  {
   "cell_type": "code",
   "execution_count": 29,
   "metadata": {
    "ExecuteTime": {
     "end_time": "2017-08-14T07:03:29.881986Z",
     "start_time": "2017-08-14T07:03:29.856915Z"
    },
    "collapsed": true
   },
   "outputs": [],
   "source": [
    "# df.name  #  AttributeError: 'DataFrame' object has no attribute 'name'"
   ]
  },
  {
   "cell_type": "code",
   "execution_count": 30,
   "metadata": {
    "ExecuteTime": {
     "end_time": "2017-08-14T07:03:29.910058Z",
     "start_time": "2017-08-14T07:03:29.884993Z"
    },
    "collapsed": true
   },
   "outputs": [],
   "source": [
    "df.name = \"sampleDF\""
   ]
  },
  {
   "cell_type": "code",
   "execution_count": 31,
   "metadata": {
    "ExecuteTime": {
     "end_time": "2017-08-14T07:03:29.939134Z",
     "start_time": "2017-08-14T07:03:29.912063Z"
    }
   },
   "outputs": [
    {
     "data": {
      "text/plain": [
       "'sampleDF'"
      ]
     },
     "execution_count": 31,
     "metadata": {},
     "output_type": "execute_result"
    }
   ],
   "source": [
    "df.name"
   ]
  },
  {
   "cell_type": "code",
   "execution_count": 32,
   "metadata": {
    "ExecuteTime": {
     "end_time": "2017-08-14T07:03:29.967210Z",
     "start_time": "2017-08-14T07:03:29.941140Z"
    },
    "collapsed": true
   },
   "outputs": [],
   "source": [
    "df.index.name = \"インデックス\""
   ]
  },
  {
   "cell_type": "code",
   "execution_count": 33,
   "metadata": {
    "ExecuteTime": {
     "end_time": "2017-08-14T07:03:30.003307Z",
     "start_time": "2017-08-14T07:03:29.969717Z"
    }
   },
   "outputs": [
    {
     "data": {
      "text/html": [
       "<div>\n",
       "<style>\n",
       "    .dataframe thead tr:only-child th {\n",
       "        text-align: right;\n",
       "    }\n",
       "\n",
       "    .dataframe thead th {\n",
       "        text-align: left;\n",
       "    }\n",
       "\n",
       "    .dataframe tbody tr th {\n",
       "        vertical-align: top;\n",
       "    }\n",
       "</style>\n",
       "<table border=\"1\" class=\"dataframe\">\n",
       "  <thead>\n",
       "    <tr style=\"text-align: right;\">\n",
       "      <th></th>\n",
       "      <th>1列</th>\n",
       "      <th>2列</th>\n",
       "      <th>3列</th>\n",
       "    </tr>\n",
       "    <tr>\n",
       "      <th>インデックス</th>\n",
       "      <th></th>\n",
       "      <th></th>\n",
       "      <th></th>\n",
       "    </tr>\n",
       "  </thead>\n",
       "  <tbody>\n",
       "    <tr>\n",
       "      <th>one</th>\n",
       "      <td>0</td>\n",
       "      <td>1</td>\n",
       "      <td>2</td>\n",
       "    </tr>\n",
       "    <tr>\n",
       "      <th>two</th>\n",
       "      <td>3</td>\n",
       "      <td>4</td>\n",
       "      <td>5</td>\n",
       "    </tr>\n",
       "    <tr>\n",
       "      <th>three</th>\n",
       "      <td>6</td>\n",
       "      <td>7</td>\n",
       "      <td>8</td>\n",
       "    </tr>\n",
       "  </tbody>\n",
       "</table>\n",
       "</div>"
      ],
      "text/plain": [
       "        1列  2列  3列\n",
       "インデックス            \n",
       "one      0   1   2\n",
       "two      3   4   5\n",
       "three    6   7   8"
      ]
     },
     "execution_count": 33,
     "metadata": {},
     "output_type": "execute_result"
    }
   ],
   "source": [
    "df"
   ]
  },
  {
   "cell_type": "markdown",
   "metadata": {},
   "source": [
    "## 列操作"
   ]
  },
  {
   "cell_type": "markdown",
   "metadata": {
    "ExecuteTime": {
     "end_time": "2017-08-10T05:07:06.518000Z",
     "start_time": "2017-08-10T05:07:06.513989Z"
    }
   },
   "source": [
    "### [key]指定"
   ]
  },
  {
   "cell_type": "markdown",
   "metadata": {
    "ExecuteTime": {
     "end_time": "2017-08-10T05:11:00.317637Z",
     "start_time": "2017-08-10T05:11:00.312622Z"
    }
   },
   "source": [
    "- df[key] で指定できるのは、**列、複数の列**\n",
    " - df[key] => 列 => **DataFrameの列はディクショナリ風の参照や、属性指定でSeriesとして取り出せます**\n",
    " - df[[key1, key2]] => 複数の列\n",
    " - **iloc/locとは異なり、スライス、ファンシーインデックスはできないようです**\n",
    "<br><br>\n",
    "- 各列は、pd.Serial です\n",
    "- **行の取り出しは、iloc/locで行う、つまり、この指定方式は使えないみたい**"
   ]
  },
  {
   "cell_type": "markdown",
   "metadata": {
    "ExecuteTime": {
     "end_time": "2017-08-10T04:32:22.774666Z",
     "start_time": "2017-08-10T04:32:22.769653Z"
    }
   },
   "source": [
    "<img src=\"data:image/png;base64,iVBORw0KGgoAAAANSUhEUgAAAocAAAC4CAIAAAAexdHkAAAAAXNSR0IArs4c6QAAAARnQU1BAACxjwv8YQUAAAAJcEhZcwAAEnQAABJ0Ad5mH3gAAGx2SURBVHhe7b2FcyNZvqD7/oAXL2J3L+zevTCzM7t7aRi7e7pnerqru6pczIzGMjMzMzMzMzPKJDNIttBilkmWLAv8Tkoqly27yi5w2Vl9vviFQ/nLo5OWlMovDyjz/9mGQCAQCARyOoBWhkAgEAjktACtDEFQq9W6RxAIBAI5OaCVIQhc8fqKRAbNDIFAICcLtDIEaSi3YglZzeM88bouBYFAIJCTAFoZgli5ZgB306cornKQvyzRZSEQCATy0YFWhuisfME1z8A1L6YCw4NihkAgkBMCWhmis/JF94IzzoXnXfNjKwe54nU4/QsCgUA+PtDKEJ2VL3sWXw5pv+DfYOCWH181BMeYIRAI5OMDrQx5ZeVrkX13kiYQMWtazHCMGQKBQD4y0MqQPVa+nz6vFfMFtwI4xgyBQCAfGWhliL6Vd8QMx5ghEAjkIwOtDDnAyjti1o4xAzHrikIgEAjkOIFWhhxsZY2YJ+EYMwQCgXxMoJUhr7WyRsy6MebocjjGDIFAIMfOD93KXPE6g7/6Aw86byWnZfyiR9F+K4OAY8wQCATy0fhBW1mlUocU9RqGV8G45Vt8xinvQCuD2BljjqtCxKx7+yAQCATyoflBW1mpUlnF1X/jmGvg13DBv/EHHhcDW27Fj+r5eCd2jzHDrmwIBAI5JqCV679zLb6TPHU3ZeaHHqkz99Pm9GS8O16OMecjY8ywxQyBQCDHALRy/XduJffSZvUMBOPA2D3GzBHBMWYIBAL5wEArQyu/XbwaY9ZM/tK9lRAIBAL5EEArQyu/dWjGmBsNXPPhJTkhEAjkwwKtDK38LqFpMTdecMuPKh+ALWYIBAL5UEArQyu/Y+yMMYMWMxxjhkAgkA8CtDK08rsHHGOGQCCQDwu08pGs/DADBE4be/O6JIgHGbvz87sXtRkQezO6pzx4Wc/utUhet1HdovZ/2KlW+6ydRe3a3eU/TuwZYxbDMWYIBAJ5L6CVD7eyeeFi8QgXS13DLq0Nk1eDm5YeZSL+sy4mtM6JtPlx2lreIOd5Dh6Uf5aNb5gWFgxxd1eS0c9umxeb5i9oF0GZlllR9gAbPHapJIFKxpbW/Oqp2rUggG5Te1lTjPUuvNi+lPgkC1cwzMWxJSWjPO1WwNaRGjBsUNXTLFzWAHuEsgoqaZwRgn94p56PEK/GmMvgGDMEAoG8F9DKh1gZeBRDXJmkr/vWUa2KCGEttPopgVUxwaOaMs+SdC8s25YQwWJKD4vEl5aP8Z9m441yF2YYkrZ50e566qYEeM6GWYHOl8a5C3j2Rv20EDR5gYxFkq11mbIUy3ucqWsxG+XiRymrK1IFqNa1kgzU24kXyxVqhngzoGEJNIgdy0lA0vXTAsNcfEIXkyqUhTbT7MuI4OQgpJmmreSjBSJmv/pzLrmgxSxek+reXwgEAoG8JdDKh1gZtEGBCKPa6KBxDBZBExY0W4F6QZOUyJOCBqu2GGi/glYsVSAD8n4HK7OWN0FtZL4UuFZbIKadThPKZhjrBO4rKy8JZQSetJ+4Ypy3sGNl0DKuHOdTBLrnAmGDpry2ko8W4A28Gt71jWOuRWw9lSOGE78gEAjk3YBWPsTKzbOIfXdsqg3bEsK0pm8ZtGh3km5VZMH6Fmi2voOVgfiBdIHUswfYwPqGOXjw9Cn6euuciMDd2LEyaLJXT/CZy5txHQznCp2VgaFTe1lg0wPEFZdK0kkoee56VP93rkXGkdXDOLpCqdK9vxAIBAJ5S6CV32RlILxB0gposO6MB2vDo5oM2qb1UwLtEK82gBFBkzep+x2tnINhN8+KgOxB29enlgJOBRK7mFXjfD0ru1eTh8nI+LF3LUVrZfA/mGjEDJraoGHdPi+yLNK14D9CgLfuemTfWbdi44jqoXmoZAgEAnkvoJXfZGVgOwxxZY4p0bMyaBYDa4Jm9G4rgyR3VX70tvICZwMkd6wMtJrczQRej+9k5A5y5lgSUGHFmL6VgXFjOxhM8WYHTrxjZVDh40wcWAUq4azIwT8Gzie0GzrW0Cr5O5cik6iawXn6FlQyBAKBvB/Qyof0YCM9xuJNx3IS0OdO0jAX37u4PEFb27H1w4z51B4WRSADzdwDrVw5zifxpTuzo4HvyQJp0Qh3t5UtChdBWxnYGvi7DMszyV/Yb2VQBtTfhRfTRZs0kWzHytowzMED04MNOZQRd5LHFDtKNo2qha1kCAQC+SBAKx9iZY9q8iJ3AzRMrYsJjzJxQIGZ/WygxuQeJk0oyx/iPM3Gg3xUGx24sGlGCPSptXI7TgzyIJBfFafPBzctkfnSbAwojySBj4F9gW53W/lBxnzRMHdVpgB292+gPsnCHWhlcAbgW0cF5wpypRpY2aaEkD3ABmcDoFrbEiIo0zwrAm1xvRfyYQMZSwZKhmPJEAgE8kGBVj7EysCaXrWUsaW1Kfo6+DtCWc3oR34ibJy3ENi4hGNvgCQIoNhcDMeyCGkKAyuDYktCmXZV98KyVw0FyNu/njrHkmiTwJ3g6dr6vWsp4OmJ3UywaFdKBCcBQMCgPLBy4TAXbNelkgS22DAtHCKvalvbYFXWAFsk2aoa54P2enI3c1xTLSjcT1h5sXdu2gcPbSsZjiVDIBDIBwda+RArgwDiBOazLCKAAE1VYMSdPFg8ML9TXrvqqWbVrvKLZgWLO5flepyJA67VdkSDMsCpJi9HhUESLGp/xAxkD56l/YEWiMdZOFAbSCKPNTVoa9557jEFeK+uRfad0YwlQyVDIBDIhwVa+XArw9gJbSsZjiVDIBDIMQGtXP+da8m9VGjlw2NnLNkksmYEx4BKhkAgkA8OtHL9GeeCG9GYGzFDP/C4GTt8N2VKz8Q7oe24RsaS4fQuCAQCOTZ+6FZ2TGk2cM296FH0A49zrgWgEXw9ql9PxtrYGUs2hWPJEAgEcpz8oK2sUqs7xklFHVM/8CjsmPLIbD/vVgjUq+djEC/HkgtNo5GxZCVUMgQCgRwbP2grQ7So1eqaAdxlz+L9Vt4zloxnQCVDIBDIsQKtDHmtlXeNJdfAsWQIBAL5CEArQw62MhxLhkAgkI8PtDLkACtrlfydS6EZHEuGQCCQjwi0MkTfyq/GkqM0Y8kqqGQIBAL5SEArQ/ZYeWcs2QQZS4aXCoFAIJCPCrQyZJeVI3qAks+4FJpG1cLpXRAIBPLxgVaG6Kx8yaPovE+NdiwZKBmOJUMgEMjHB1oZorPyBbe8b+yz4VgyBAKBnCDQypCXbWX3fDiWDIFAICcLtDJEZ2X75CY4lgyBQCAnC7QyBFh5e4rEniFzYMc1BAKBnCzQyhCELaUKuBkCgUAgJwu0MgQCgUAgpwVoZQgEAoFATgvQyhAIBAKBnBaglSEQCAQCOS1AK0MgEAgEclqAVoZAIBAI5LQArQyBQCAQyGnhLa2sVu269pNaqdwCoP1qUColeAW63+qq1UoF8pqUYFkqpFbG2VhYWNo5RPZRVhRKUE6JlEEevP1LBm+dpto3oCkCagZbUCpVKulii4+7g4X5C8/UOubKlq7QEVCrlJp6tLx8SSo1AN8Y5mJvaWnpml4/vrwFXjuSB0/QvuS3BGznsJ85gzdUqUCKgC0plOoValV6MNi8nbtf/bRAV+YoIPXsfErbKlAbQIEklinDqYHmFpZWnoHZMwL53vfwXV6TAvyfuoWD0b4UbUnwmDFU4mBnAz6m4PLRZSmyh0AgEMg783ZWllAwASlZU4w18Fi5Sa8t9Hj08I51dCNvC60HI5Vc0l8ZFdqI1ywpqLgSB9NrV02De4gC0RI21vVqfNXgCHaeJ1XxZ5tcw0InKTxcTYpjSANb84SjoxJNxNmmYFjLO7ZUKWTLIrF011tH7oh7EVPMYlKbEyNDS0YFYvrI8FBHcZR1YNwUU6ordAREk+W2KXXMZRl4LJfMJEeY3374PKBwZF2l7Im8YBdX3juAJTDF0o21uhSb4Po5FaXT8UVMF3P57T5FuXi4ODejaHRFt6zelK7xeFwujy+WyLRmk3AWkqIci0aYa9hiG4ecuRURGTc50NOR4msY1ELXPOtIbIlpJbnRhSMs8FitXBnvTzR5fPm+U8Ycf505UuDpblHcPDQ2SQDnGdSuBPOYQgZjqTU5Kqhw5OX/dkTUG9TOKOeC+Q25LrGtVsjWhaLVrZ2TD7V6rMTJPrtzgzWb6B5aMEIS8YiDg4NNKY7GMTXs1bc4eYJAIJD9vJ2VV+fqH7sFYEhi8Jg1nPfY3qYEu8gSSdDbQFBKV+oSzIxzx8HjLYkwL/CqYUYniScCslxZwqaFmnYtaQtuc0YKHtg6YPCMiVzvW5aFTF36qCg53fZnPZroYo2VFWvCxZG6LPOHjyIa5xF5asBXOBm4pzLpxEIvB/uUvmVNcg3X5BeX/FZW5nbHnPXIpIuQivHVrpddozrwS/wVGWjZ9cVejWynac8EwOvN97lgXjClXKi8ZeDWxND+b0dmk98SGegb0yFCFtSyVUp1uv+9e7cv3br3ODCtFS/YUm2vMaZ8HG4m9dCEvfEXroZPShFpKWWrPZm2b2XlTf5iVKBVdAcVPF5lTPq73vapm1gSrABZskYKwuOjFoTagtuLVa4X3JJoNGKpr4NNQg+yp74F6tX5shcGIVidleUi1lx3TvD1O1bVM2yFJqVWq/oS7lwNa5DSR10f2iT2ELQfH78v3i6lAVoZAoG8J+9uZcZApo2P7zTrLWxxCtltZfm6oND7bFAzTbtKz8qruEaf2KQpuhjfle4e3KJV5tHZbWW1ilaW6uVv5e3g5OhVPrXzDgKbWiU38QSsppz4xLJJbf49rTxXYmscWcJZQ5yi3mtlpWylO8M6qJmu4vY4WidPcNfersN3t5Xly/0lIVaucVi6eG2FU5Ho8sw3jbyiBDbNjXcrmRCvLpRb2xXQNpF/432tTJ+IcL9TPKH7BPSszOuNs0mu5/BZrXnx8cXjb7l37rGyXDaVGeYU4ehxy8SzcIyu861atVDhbFcwLhPj4vxi6l/moZUhEMgH4XArq1XC+bZSLwcnV7+MpsZcxMqLXGp/ofHtM7/8wx/vm9jm9VM1A3woQilmDOUE+lta+qQ19BdGGgMrq9hj4V7W3/32Hz679NQ3o4G1sqVn5TV8S3xOAY4roczWJaYNaxpTqmXefE5CgIWlRVhGOWVlQ/MuqOUbzPqCOGtrS+/IlCm2SNuRsMfKavE8jshcIuWEue+2Mq8vIahsULgu6mstr24maBtnR7SySkHHFKQ72zr7xlZ0lwchVmYxR2oS737/i599+b2Fa2DjrHC/lYcKXFKGllUbE1Hh1TTBhqYeMaYpx9nBxtknpHNuSdtmVKsk+NEGbzcHO2f3st5JibY7d5eVZSJyaoJXSg9D+z8zh/Kf2tkOklc3+YSqrMCmxc01XndoWOuKHNnwEa2sVm+wZtti3Nyt7cKKm1tD/C2j2ynSxVZ366df/OYn5+6aRFSNLUuVelbm9ycFlw7w10QD7eWVjQvg/1Gr5SzSUEyQu5W1TUplB29TK07VCh+XlxhkYWERmlZKWpZo+gn2WlnOnZgiCYjD9vZeu61MrPEKbiTJZbSCrNLRWa62gwFa+ZNBvSVbaCoJtrWxsPBIbhhblmm+LRJSVWkPgUoarinoHNZ9LyCQ4+AwK6ukC71Z7q52aY3tnV31ObGWX1j4YwiCDS6hNs39ruHzgiYMkb/TBYsO5OKZdN9n7uml7YM9deVJ9na3nmePqyX8yaFOX+MvX0RXTRFZ0i2VnpWVUjFXKN5UquTyFT4fEZhcPJvub+aeW9I+2FKU7WYVUc6QKdSbrLIIK6fE1Lr+jrryYFOvyGHmKpDY3h5sDSu03PA9Vt5aYbGXpSq1cm1teW1N98U/kpWVKwPFvk4BwQUdnR3tlckBd3/tkEkXrPKX5osC712x8mvoHWOubOlZWa1SrPPI4KUA/3G5KypwaqVcwZQEOYWHFHS0tzbGW7v71s3zFCoZYaDA3cs+pamtvSPXL8glunFGBl7SLisrFTIWmybeQOpVq6QzTTH23mHgqWqFTMRngpeiVK6zWMh0BMDRrKwSkDrDXZ8HlTR0YTrK8oLvWhlFd1C2lhnddblWT7/zy2mfp4uUav22MvIeijfAe7i+rn0PQT3d4Z6mQRUNnf01CXEu7lk9K2rQtp/LCDBzyy5uH2wtzvGyiiggIYX1erA1sEb2WBk5BaGzVsErlQsEyzKZ9jwEWvnTQTSca+qUWFjdN9RW4mF0L66ZvAk+beGAm2Vgoudzj9jsvqWNV99iCORDc4iVlSJSeqhzWO3EGjLZVkHtSbli6bDTg23r6zvDRpmSgTSoDf4P3LOJazLVtkoiXEr2vGScMwbWaHuwQ17aQs/K+oB6Gv0fuGUTVpF6VnkzhTGpk8Kt9fHchw6xA3SxEpxzb642Rz9wKBzdVKiPYuUDOYqVt5b6nF08y8eom2q1SiWfKrb7s33CTg+2SVQJ96Ae7P1sLfWDesqwFE094v78lNphwrqAkhPhElQ5tqrZByi96Za+wVOsjT092LsQzHX6OTsmtM1qm5/7OZKVtySYAg+zqHqeXAFOFoSEfmfb27t7sEte04Otz5ZksMDDNFJbzxYH35OXWkKWqGnNQQ/cMhdWpOCz2xAtZfrdD20hH9HKBwKt/Mkwnm34JLxBIFVuq7bwzQmJbYvg+wusbPf0sX1YNVskkUMnQ46TN1tZLST2hDg/a8AhTUOAZlzZH9VWBo2oBr8LLiUzcs0sYWRcOd5k97jyEa2sVoF6Lu7Ug1Ss2FKpt8ayzW0SG/haI6mU5FqvC741YrnyOK2spPamOfkEzXB0LuF0x5x1fzWufGQra+sJnGbr6gHllUDOlIEw58c1c7p9QEbqMnX2acLxVQdZWTzfEuJi4ZXYzXv9j8eOYmX5Oj3P7UJkB0f75m7yFyMDLN7Byi/rYWvr0XxMCpVqoznwsnPR5Kbms1NtrnVn2D1OHJBDK0PAkW0k94W5a3xOcX//LG9NovuCCwdcHjqXjXN0X3cI5Nh4s5WVXFydv7Vpj27+k/5sLzRaWaXklNh/H9pM39JYY/9sryNaWaXkltifDW3S1fOSte6Yp+6ZfWLtu6JW8Tsjz9nk0eWK47TyJr45ws03lvBSj3qzvY5s5U18S6Srb8zinsavkr/YGGhlqBGiBuaQrb136SRToWdltUqM6/Dy8Iqs6eNL3nToOoqVZavzSS8MsrC6U4H9s72OaGVtPZkv69ECPpYyp/PBDVTNMDfSnp4s9rkd2LQMrQwBX+2t5cX+xoz01JSU2CD36IohvrYH290hGct49ctGCOSYOKStvEIdDHF5Ujmzql1ema195Ir2trK0O+qmXd6YTIGYA1i5JtbondrKso7wa3Z5WG09oCbJyqpMoZwttjcJL+Wsa4Yb1VvTBfaXAuvXtsDJwPFZWc0cyrX39JlgbWqXWZ2R79RWVjMGc+w8vMZZ2s8UtCFXV2WqFdpIuMuj0intT3/Va7hmYxffdrxgbw+2Ws6YjLN3DigfEh829e9obWVOkfeV4Gaati4ZbyHC3/yd2sqcAo8LQS/rUSnk62sbW4rN3tg7tjnDUs1np9pcbkm0eJY6pIRWhmyr5GvidblaqdwSi1lTDWm2Rlmz65vQypCPxmGzvdYYBdFurtld3E2lQrE+XR/1nQnqx5U5mPT79nEY5opiWyFamgy2NTDMfutxZWA4fGPIfduocT6oR71C7gq1QWbmbi7Umlp6Ns8wZWrlxvJMhM19j/LpLeXxjiuruOM+rq6RzbPLCqVcttyd+uIL23cZV5ZQ+pytLZK7ZlaVKqWMUxPsG12LWxGxSmPdPDPaecg+IBooCzBxj53nynZbWa0Q9edFhkY1Lq3pTlLewBHHlccrgp76FuCWZaptOX2y2cz05jtYGWyrK8Pe0D+PtI4M/y8NVfq5pmJ5au5Q1mO7aCx9GewDAmqbz4uH8T0M8DqglX/wrE4V+QXnjQuRQSgFZyD+6e3oGYkcWhny0TjMytsK1lSNnYujQ0R8ckZaZJDDZ0bobisDNteohZG2D72iYlLTEjKTjIwfGma/dVsZsLlKqYizs42IiklJiXVytHKvoMhVauXyQFGgnUtwRGpsRLiNU2I5cRWZsLzHymopoaciNyH46fVzF0w8kzKr57gbr2thHsXKoDGJa0s2dvLwT0xJyUgLdjf8pfU7tJUBSD0eQR5BKSlpYQHWRsENs5ytbQV7tj7YxdE9PDY+0cc50K8cu7QJ/ttXVlavMbChlpeN3aJSX5JW08dd1bXd9TiSlbdVa5yJSB9rk8DY2KSUuPigq8/N3mW2F6iHPZ4Wau0UExufEBtha+8Z3y1Qg8+aVh3tYOsZGZMaGRhs55bZxkO6s/dYWaVcnWguzAh3PXPmwjPXkLyyDuqqpgvkIKCVPxmYg+WOD1wiw8BeHBXkZuZeMiRTqqCVIR+NQ60M2GIQRkvy83JL2meJ+B7sJHsFOdpKuAtD4+CM8rUH+FOMWiZhdzWUpqWXdE4QSNPdvYvIQV0plxBH6ycZujFIYOXUYMNWglwu33qNMpF6ukE9aek1tSMMsa6ZuCUXj/XUpaelldR10Fd0Q6zqDdZo2zhDugUW1eqNhb6a7Iw0Ldn59Tghojl9VAqwbeF0HXL1kkOsDOqULk50Z2fmlDQMERfH28YXpJpRUxFpEDNLQiaRgjIaK4c1Edel8tf9xPxlPRl5eVXjOOHLH/5ssUhjpQU5WbkFQ3i6riGplDFmJsZnWTLkwl707jLwil+RXtevveTnHpALbsulq/yOdJvDrAxQrvCJdeUFWbm1QwvU6fH+Wc1vq7YkoumRNrJQ918AK4fGhM2w5Vtbr2umI/XUlxdkZGQ3t80LXn4gMgmnp7EM/Ks1ncMiuc6mm0JyX+OkQPPmKDaF4435L19VRkFpB+2gaeVqJfIxMTtjbFPqoZU/AdSKLe5kf3k68slXd0wJNJe+2ZZxxkfxgt2dKBDI8XAUK/9AWWNMh5v8/pvzV+48cGnACT/23Eu1anWq0uzZvYvf/9nAOnJaN9b7XgAr9yfeO3vh4pUrj4Jye/gHN2WPEzEhN8zm8sUL5y8ahLYeauUjwZ2str33+dkL159bRgxzPvpLUsjInal3b98w+OsfbwdWcl7fmIZAIJCjAK38etRqyTJXg1By+Gjph0e9tYHc7IHL5YtX3+WWTgextbGsqZInXt04gd94qJWSVRGyfS53VXvJpPdGrdx6WaXoA1X5dqg317SbF66+dhgCAoFAjgi0MgQCgUAgpwVoZQgEAoFATgvQyhAI5CRRqNTLUsXyxruHZFO5c/9rCATtHGDljY2N4eHhQQgE8iFYXdVdhAdyICSe1LWS/KJg8Z0jtoMh3niv2e/z8/O6TwtyihkfH1coPv0JlQdYeWRk5O//+T9+/Nubn0785sb/+1/+xz//3EA/j+b4+5/84W9/9Gu9JKrjR7++9v/97b/86FdX9fKojr/5x//o6urSfbUgB7HI3bAoXLyfPv/OEdBAFa6/l5UNLlz8p5+d0/vsUB3//adf/M0//VwvieoAx4ff/P6LtTXdrec+YQ628o9/c/1bu4FPJr6x6f3bn375pXG1Xh7V8R9nPf7v1zZ6SVTHn180gY/pa6tOvTyq40e/u9fZ2an7akEO4lRY+dL1L56V6n12qI6fXwz86Z9M9JKojr+Yt/728++hlT+RgFZGRUAr/zCBVj6OgFZGL9DKaA1oZVQEtPKhQCsfR0AroxdoZbQGtDIqAlr5UKCVjyOgldHLYVa2H/jeEfO9/Z5355Cwx5x1wOgnTzTez8qYs06YM/rJk4/3sfJ3Dpjv3uoz/SjxXlYGe53jafyYoJUP5bRZGXw73nZfAk95u4Pk8Qe0Mno5xMpX/CbSh8VVFXO3nPe8QW+ISyGzeY1kk4BhvfwJxvtY+Tvvmcx+qrPP8Hc7GcfBa14jF5xO+Mzj3a3sNGJbRE7Jn7n6MmPgMnzLZ/S2z8h1t8ETPLi8j5UvBONyu0kvnAe1i987DV33Bq9o9IbX8HmHPSU/ckArH8pps7JNGasTy/IM0O1LhwY4INgU0XIKpvTyJxvQyujlECtf9pvIGBaVl84e3cpXo/CdQ0zrkBG9/AnGe1nZb75pkRPgq7Uy5or3hH0uuQMnzMyeNNhb8iPHu1vZedSzgVVVPX9Ts2jgPh5exxyYEg5NC3o6KD7hI+dOSMzvY+XLkcQuHMNea2UXrFMprXNKPDArbp/gxedMXjs5MUMrH8pps7JtGbN9lOnmf2QrOw95NPLaa2f18icb0Mro5fBxZaRzxuEt+nM+YSufsR+PrmeVDzFrh7nFhdMX9hX+mPFhrOw04lhKbx2gWvsPX3IbDaxl93eRn3qcTDfAh7LyvTRa1wjLLWz0rOOIRSq1d47rc+Qj7AcPaOVDOW1WPmOP+d4Rs9M3dmhAK3+cgFZ+aWXHYbOMhYCkiYvax8k49/hp6+TFrB5WRSfVPWL0nKbYGYeRF5mE4j5WeRs5oIC0Y+UzDkNPEhfyulhVfYyYouk7rkjhq75TgSUEE2/k8SWfMd9CokXAELKtY4t9Vsbc8J2Kq6fXDXDyqgnPPIa05xwGrmOBZdSafnZJE8XSb+R7TXKvlUdMwsfvB42HdXBOm5W/dxxxySGV97IrOmgeUePnNUnw/pslLBR1sap7mOFp05e1jeBdVr7gNZ7czEpIHTurKf8wkdCHZVsHn8zog56Vz9gPPgidzWhl1vazkwtxd5y15wqY6z6TsXWaz66G8NxjSHv03G3la8FTtqEjZzQv9rwbNnVInJ0xqnnuCQS08qGcNiuf852JrMI/1+xv53ymQ4vmTYJnQupoFQPstJLZuy/3w6u+M9Gt9DoMMzV/PqyN/9LKmEvek/41IM8paCPahQ2fRfbDIet8SkDCqGYwBWOSSQpLmTjviGzr+AJaGb0cZmXnUd9mVkXF/A3t42p62xgru2TRLmUuvIWD6aM89xn81n7IOIVcj2EnZMw5JS8kt/IIExorg3wysbKXFZc+Z580D0ReWjx71X7grNdEVB+vqnT2qsOQaTalrpdi5HK8jTM9K5/3mkrr4laXLzrHzEdWsRtaCY+cMWecx6JaOQ0NZO+4Ob8iemsfzc5/GNh6bw+2JjzGTp2VHYadS+hNbbSw5Dn3LGrTANMvYvSs/aBRMrG+j52YPuecQizpYqfnTF0Ax4hdVv7OcfCuL/aq5v0HCrfIobb0UY19jvfjeF3stTLmZsh8cT+vIB/nGI9Pb+aUV81ftx845zmVCj67CgL47CIqmQ2tpGfuiIn39GDvhAPmZsBcwQg7JPx4T/veENDKh3LarHwpnNCBYzq5IPvSpTBCD46VX08LTZ+xziY2jgkyM8ZB/pzHZHIXv6YW7IezAUXU+tHl7jrEyiCf2M4pqwL5Kc9iStvgkr0n2PcwD7OXukZp4PF5v5n8YVZMzJj2pP/4AloZvbyllZv4g/1EY+9BoKvrsQs9w0yr4OHvvcZjOznZudNXkKnXmKdppNEJNrAykm9ixmZMaKfbPEwmtvTSTPyQ4+P9eEJtL907fbF0iBsWN3zcO+geK9tjHucze/vJz9wGv7PDXPGZimkkW3thLieQeoaX7P2Rf+as05Bfq6C+YuacAzqsfC54rnKIFRw7BprIoEHvXEYJSRi/7D0e1c7JzX/5uaSS2vrpZv5Du628UxuIW1HzRYOc5PTJi6dhXNlpyK6S3dKMv41MgMfcDZtLqCE8cxt4mMfoHSAbuoPPbuCiJzapV5CXgxwl9awMzjbuh01bZxLyupkJKeOXjrld8oaAVj6UU23lcCKGJIxPHDVwxHznMuzfwm+pmQH5+9n03gGKiaar5oLHaHyvuENj5ftZtI62xTua/fO8+2hEp6A4bwLkz7qPhjVxCyvw4U2c0qq5uy57dpLjCGhl9PKWVgaPKzWPd40f3wyZLR/m+UbqmiPXduXrcWstXdTYChISzayJGbZb2IhGbyNuDaxBwnJXI+7W8R8xd1sZtAiDe8R1ZZPAuNq1yM+E7AYdqjhtTbgbrppmoj3mSSFrpHfxGvgqosDKmGcppJZ+mqmfzkln7DHf2WNuBM+WDvP9o3Sfy4XQ+cZhlkf46HcHWflGFC4Pwyupmrt9QkoGsdvK51zHkgbFOZmvep41v+YaCuoS1ZdPac/zvnMecq7jtjfMgXMRPSsbeI761bCq+7i9E6KKWvxT95Np/YOAVj6U021lQiee6eyKPN41fjzo1y5sqJw20By7QN7zZd6/UzQzxU6o0hzxqiiFI6K+lnnNtFDMzeD5ssXV2TG6Z5hudOxYA1oZvby9lbWPd1n5bvhCDZbjGqx773byd8IWWhdWKhuJESW6CMube+SpG8Q1K2YucGWNxa/seHyx28rfOWDjhpZL8rBn92x32KuR31g7c0071RwoLYuOHSE/ckKFlQdNM5eaeynPvXYXwNwJxVePcT1CXmYCZytH2CHR2LN6VgYvNmq+pJ+Vnjt7WzPwf1Kx28oG7pO54+KkRJ1ltXHGfjQGs1yaj9XtM05DZhWsvo6F66/rwbYbehQxXz8lLshG2tMnEtDKh3L6reykb+XRyH5xedH4ztnhTj56cGVoaCm27OVBr3jRVdODhVTlN5GP22TM0C189fbSYwloZfTyAax8LWimZIgfFKObInQ9Gt+1Kx/8Mv+d4+AVtyHtHJxzXpPJA5xKjGB8jGatGRc81tjbVh70aRM1Vc8Y6KyMuewxbOCIsShl9XQs3nHTtZUtKjlDXQuX0NFWHniURGzFMCxfzjQ2cBu+6oK5FjhdNMQPjdW9/1cjca3DTKewEfA57rby+YDpVAwnP3fm+sm1krWx28rnXUfjB8SFuWPac7jvHAYvuw+dcxx0bxY018xc0LVRhr2beS21s6DlscvKmPPuI5ecdHV+7zIc3CFsrkZ6HU8koJUPBYVWxrg08Fvr5i5pLloA8t7N2tlee/IgzrsOX9LODrMfNMwgN+GEA5P8/KypjzBIBK2MXj6Alb91x4a2sCsr5+84Yc46DlnlU2dmkHHlb92wIS3ssqr526DF6YB5nEooa6Q88x464zjsUMLo6KNYREwkdfHLq+eOe9hvj5XtMcZ59P4Rmo3P8Fm7gWshuJJhhn8o5nzEQssYyycKa2CPueQ5XTAqrCieAu1pVFj5cshsFZaXkj511QHzvTM2pJ1VkD9xxQsb1Mwur0ZmL591HHEpZnQPUI3AefouK58B+VJ6ST3ukfZ05ERjt5W/dx52q+V0dpGea4b/nyQSqvopNr4DN5PIPSM02wDw2WFuB+OqJgSpaWOg/I6Vz9iPmJcyispn7nggR9LLfpOFWHFl0aR2Ex8/oJUPBYVWHrieQOoeobsEjYD98EbAZN7Icme9Lt81QrdH8gMXvMdCmtlJKci48pXA+dJRfkbOhGnWUu8owyIAmUkK8scX0Mro5UNY2Q5zPxJfj2HXNlGTKimF3VzCzKt8HoZd1kRJrqHUYRgZuVPXnTA3gudKsJyohLHz4MAajq8aZwVEHO9Ay57ZXuAE1m0srIHd0kpLqyRnDXIaOhefOmLOOIw4FdNaB+lZldS8Nm5V3eJTN81XcY+Vh4xTFyJraW0Lq9hRZmLZgpmP7pc5Hz92W/lbu0GTNHJdN6ugipzYQm8co/uGjYLjxb0IfCmGXdVETa1l1nUxA7WdabusfCVgumh8ua1nKU479g8id/bm8fdeHBh7ZnshE/GmU9s4DU3UlBpq3gintHrulj1ofIyFNLJb+8Bnt1TayS2rxN1yRM4ndvdgX4nCVWO5Ra1LsZXkok5OazfZyvvEzjmglQ8FjVY+54INqWf199PSKihZNUttU6LOOl3ev55Vi+RJBZ2Mpm6yLfKLhmGfdk5rC/4eaEPbY4O6uNWVszeO+eKA0Mro5TArOwzej5g2DxlFjua7H4P9zxNrFzf18gg++CBkOqBgMTh3zjR0Ynf+Rsi0bwEhomjRO27iBtKviLnoMW6TNKl5jDSJTBLmzAI/qpVBGLhinTIXwksIPlnTDzx1X4+zTiOWybjwEmJA5twDd9349xlXrFXy9APNV+iM/ZBhIi60WDdoFJKPM/ZCpqNrn/6RY6+VNf9b9GxoESGkEG8RPvKyf37wfsi0fwEhrHDRJkw3vgU+x3vh0xahWAOkrxvrlEfQjYFpIixz5tapsDIIzFXvcc/cxfBignvaxK2XY94GrqOOGchn550yvXNoO+857pA2BbQNHp9xwNwKmfJAXhchOGvukeeJfUYgoJUP5bRZ+ZznuP3LfUn7WDsF8ozD4N2IWftw3fWRzruMOqQvRJQsusZMPIl6lT/rMmqB5Imh2XOmuuPDsHHijJGPbj+8FjztnjShu3jAsQW0Mno5zMqfROy38icQelb+BGKflT+FgFY+lNNm5U8joJXRC7QyWgNaGRUBrXwo0MrHEdDK6AVaGa0BrYyKgFY+FGjl4whoZfQCrYzWgFZGRUArHwq08nEEtDJ6gVZGa0AroyKglQ/lQCs/zcY/yNiTAfEgff55Dv7hvjy08v6AVkYvB1v5H//9m9/eSfpk4je34v/rP//2F5eC9fKojh/9/tE//+a2XhLV8YvLIf/lH3/565uxenlUx3//12+gld/MgVaO72TEtNPNChaBibWZR5k45wpS9QTfpZK8U0wbH8TKP7vgp/fZoTp+8rnhP/7iql4S1fHLq+G/+v1ffrhW/vnPf25oZPLphKHx//iHf7h259EjQ/NPJr7487e/++xPeklUx70nxv/y4/9197GxXh7V8Z+/+DW08ps50MpZA2y6SNaBE/vWUR9n4szyF9N6WTi2ZEko86qh6BX+AFY2MLh1+47+cQPN8c23Z3752z/o7Y2ojvtPTf742ec/XCs/e/ZM9AnB4/HOnTfATJPIAtknExGJmV5BkXpJVMc4gXXm3MV5ulgvj+owMreBVn4zB1r5RcFiVBt9ir5O5EkbZ4RD5FXW8mYXXuxXR32eg9cr/P5WvnXr1tjYmO548UmQm5vr4O6rtzeiOqbIPIOLl6CVPxGglVER0Mo/TF432+thxrxPHaVncXlDrhRLtnIxHMsigl4ZbUAr7wdaGb1AK6M1oJVREdDKh/K62V6eNZTexWX28uY0Y53Ml86xJKm9LFBy/ywwaOX9QCujF2hltAa0MioCWvlQDrRybAdjSSjDsSUZfWyT/AVg6IZpIUO82U9Yti7WbzFDK+8HWhm9QCujNaCVURFvsLJaKZcrVLqFbdXWpky2KVeq1MotaX+ei/kLU1NT97Jh6oZCtbW1pVKrkSJyhVpX/gOgUsplW0rwjyi2thRKlXSx1dvF1sTYyDG2jCKS6wodPwdaOW+IUzspcKsi78zBfpaNj+tgYKmrfvXUnWLagFbeD7SylhXaWLq/kYmJmaNH8hhHplJubWr2eaVmn9cV+hBoKgZfUuXm5pZqc3WqKQV8gQGxTTjp1tttCFr5lId0kSkcnaeAf36cIiLuWoVqKxM5y+N4xgxzfXcSzVbewNG4Q7NkzAxllCxa5L9a9Vorq9XUjjiH3L4NOThGbK+wW/2c7199bJvdTVzfEFf6fe+d14sdm2GINtY4i4nhtnlDzDVskYV1xszGB/MltSveNDKXRl9qTQr3yx0UrLInJ8Z7KxPtAiJHaRu6QsfPgVa2LSEa5y7oJR9l4hzLSYZwttcRQLOVJdNEOmaGNIxn4bkbO/l3szJ3ssbP3aiodWxyhrS8tU3vSzOPyCDTaN3pkR6pfSJdqfdFKd9oSbP0LB/fpve7mYc3EdlCNgGLxdbFmFlmDUrk0Mr7QK+VF5n04tywq3dunr16zcQ3qnSMQXi5CrVWXp9emKrISbx//Y5T/hhu1yrUWlmKo+CSItwvXLv+zeXbV13iMvpoCzzd2jdYeb7MySCkAVhZrVb1JN25Flw8y+avSbfkG+LakCtZYzovrjNnApxuxnfRxP1JF6+GT3w4KxNrPC65JSwtkSoCnKzjusSa5PpiR0BM3IlbOb2PBRrK2seWRQSjXJ2J03pf5XcCWnk/qLXy+tBArZ2DyV8NLlx9ZhpY1j/OXCdpVr2zlSOjfad5ukVKU8BV1ygChdIQ7mwa2irUpd8XhWy1Mujy04yRbUrz02suVYs85Fx7e5tc522XOwStfABotTJ/rbsh/aGZU/4UY4ZOzMnwfOQQ10nVrUWplUl8Qnyku52Jp6m1nXn68PyuVWi1MptTkh74yDqqboY3R2OmRTnfsI/pJOq6AY5q5dhrllkY6RbSP72118qbAmJBgmvRmHhtsdLGrmBJ9l762Q2/L8E2uY7FZ7cXJsQW6rZ3SqxcPy0IaVrSPq6ZFAQ16h7XTb3K7wS08n7QamXyuL25iUtx1yhLODRabvTcMK6Doj3H/SBWFg2mOyZV0LjcvrLE8MxhiS79vqjkkqFcW69a8rZoyMsxcWhJrPXwcVlZwKf1t+TZWpoYm1un13bThUIky6X2NlZVt/T2NOX5vjAxt/OtwixyX5afbMlzAuWNbRLSuxcYmvInCkqtTGLxC6KsboZ3LyCL0omxzhfPr4e3MbRrUWtlbvswbmgKH+nr/GlYGUfEB4W5B9SStN0Yg605N0zNS0e52rV7razeXJutjYswN3MIymppzbRBrMwnVab6Xfz8x//+9XXbgIThpQ09K8sFpNqcwIYF+bqgNyKybWUTGRXblNBr82PMzc1cAmNGlngKTUn12mJpQccsebo1L87ZxNg3roYglmnGodVyCb23IMbS3MzVJbZthCvTnMkLMKlhZX28NfFQd1VFw4K2klNjZeGOfRFDN9P2P96JD21lAWVxMDHU9cmTx65hScPEJYEmy1nsSk+vH5nozAlyN3/2PDC1Ec/ma9YI6IuDeaFuj588cXVNbhum8k7+mIdWK890ZpyzjGqY42sWV/J9r18NrJ9hSsCinpW3VgVDeYkuJiYvzH3yenVjt3L+RHFxP5U82ZSbN04UgF1a38oj2RElHayVlfGBqqLKeVBArZazycMxgS5mL17EFNQzNzaRcmqlgIQprx4kkDBZvm521o7ZTXNr2u+SWi4iD2eA8mbmkTENOCbyFQNWnihxj+8TbG/OJ8VXE1m6f/J4rCxgDdXG2zhZx1fX1tWmuLhbB5f2s8A+x8YXxfiaPbcPzytoq69N9ze76xQ6sshGytcnOLvYJFY3NDdWBjg6Oyc1U096H0WplRdp9FiXS7ZFC9pFHG7K2fy+Tc4YXrOI7tleFELUp2JlInd1BEecpCMHDhJP3FQSYegQ1IJHFkHsWFkikdDpc0X+9584eqeWl+RkhNlbXvyjQ/biwvxAV3OgyVeXLQMqGjtnFpcoC9NZbuciGhcZGmhU0uzkMI7EWFpawGJxIEOnzxcFPHniAeopSI+3umEd2DSOp4GSU5UWTz09XS2Ds4oa8hKtHl+0TW0iUmigfHHgU2OkfEVJeujNWx6FgzNLDAYFNzY2u7hEX1pYmMOBDWhY6C1x9vGpHVzkcrlq9QecW/ZaXmflxC6mecEiiNY5UWL3q8fHbWUuZTDa9Zl9UlZdZ112iouRV9wwhQ3ytLG8R9cdgqMC8+ra20pSrIxuB1ZPacvHehq5J2XWdXZWZUc/MQpqIzI1NZ0k6LSytKvA855Xaj9xVZtpz7T7k2FiHx1Z3GNl5Sa+Mc7QNae5ewzTkGln+LwYuwzSEnKt+SOPZD9Dj8w2vFAOdl89KyvWebxliVKlkkpXVleBgFVial+kp2lgVXPvcFNGiodjcj0PCF4lXxrMfnbHMy43tb1vsLMo5oWVRekU2IRKvNQX42MeXtXcPzJUnh79wj2fBMqrlRtCGg9pessEglXly3lkx2JlPgkb5WXlX9RHF4DzRcFkfeRzF58BHAuxsvfj+5YJI0QOcC61L/eWtWvLOAUpH+YSU4vlIOVFc83xxq5+/bgT3kdRamUcecL/+bmQdpEuQyGEejpYZo5oTQatfAoD29dgbWHrVzk+t29cuaOj4/uvfvmTf//ZF9+cvXTlyqWL5//y63/5L//3DxcvXb5y5cqff/Z3//yLLzUPET77t//2868u6hb28f1Xv9pVz9kvfvG//uVXf0LqMfjLT/7u//z2T1+eMbh05fKlv/76X/723z4D+bO7yl++dOGvv/u3f/r1l9rt7ufi93/52c/+/c/fXXRyctrc1LQbjpkDrVwzKWAtb5J4UhD8tS3Wslz7mLcm3+nN3okPa+WZcq+btvEjVJZAJGRR55Ldr7sWY0GeNpJ25883UzpAC1kgYFGKgh/fj+tAylf53AvIxy2xwSGPQ8Nnet11KTn5znB0WllYGW32IrRihKbLTDZE/+V5Utc+KyukK81Rd60ysTIgUNnycGVM3jAiXgm54t715xH5A2tSuVJzSqlnZX0UUmyxh2FINQ/5dYNqhYYN83yWNcxHrNwVeeeCdTtFsqVSywXEOH8T/0YyUr7C1yK9W6L5NcQ6czLG2zgDlH8Nx2FlIRFb52l1v2SYpVkUsbGVjyxdK0cIAsTKrm7hdWRNfglTdNfWrXmcDMpbXvvtA2ufEC2uZn+6Y1sBymuKnRSotfKY79Nz4Z3LugyFEO7jDK18amOiv8be0tQytA3Lk+4kd6ysVstHs8xt4ipZK3IFwtZMsYNBUO3qxqZia6sz+oplZv+6bAuskK7yq4IvZ4ysaortR6qrZ1lXD7ne97xHKVci22J3O553qyVwNjX5mRJHTf3ro9nmF2/d8w2OiNLgZ3X7S/tCjkSmebo+y7gWv6iYIcoaeKw9IBw3B1o5sHGpDMsrH+PrRSmWZ1tK1Cv8Qa3MKve6aJXaxdJ0Qws49KYE8xtBdaCxTBvJeX7Go5WGtJsFbFpV5PPb0W3goFjmfu7rW6YBQcHIES/Q1+bZ1Ut+tUihEwWlVq6IMjUPq9qx8lRj7F8MD7Cyaks62xT1zNQtMbtkcAgvkm5qfzIoIVSZ3/XpYUqRBQ1vtvKWlF3kbhDczNAuKlcY+RE2rmWzCsTKaeb3kgiaauWipbRQc596IiifY/3FOWOvOC3hAcbPHyHlNU/fz3FYmb8wVORq8qRuWrMELD3TZGTmkts/zz/YykRQ3uLyn238E5NekpxfP0VmnmwfNkqtjKeSQq3OedbQtIuLi7M+9iZW0MqnMPgb4/0NlvbungXdWPorJYPYNa683pdg6JbWLtQeMfbN9rLKHpQdNNtrH+v9iUZuqe0C3ZFHLeyJOWedQwVP5vc5G7jXUwTIqLFajSt3Ngiul8hX+hMN7xk7xaeBA7WG/KLqXvzGa3qnT8m4sjYeZsw/zsI9ycKBv48ycTu/XdaLD2plUq7tWY8CrG7ImMfsz3K57FJE0VnZs42uZ2VSlsXXN0y9YuJ1R7yk1KzKrhmO5tknCPicUWjl9eYMh8e+WRiybrJkX6HnV88S9lsZ7N8KKX+6szY3Nzs5OTrIO7V1bh3s0BJyrZ1dHmXX7xTebGW5hJhueT4Js6pbXufUJLhbZw1LdFZOJmrSO1YG5ROfffHUI1H7TUIorsGSkAHsAzmWtjJ1qtXb5l5OH1W3OFD4wNqtHkvS9GAf0FbeW14k4DIpNJpAO0Hs5ECplQl0Tnrg04dJw9ofBkxPYlys70W1MbWL0MqnJqT46SEPUweH7L6JXa1kbeyysgpf7mISks9Y1fhDrZ4psgHWfHsrq/AVLqav6lHMFjleDqhdAfUcbOUtfIWraUgefUXnLYVEKN7QzgI7gNNjZeO8hchWehdePEZdG6Gs1k4KvGspQM96xUB8UCvzmsNvG8c00rlIB5+AQ60MN7wb0Qwc/Rora8s3aMsDOHTSEls78/UkAb5A42yvsYa487YxbTjtsN1GWdj9u8H1U2zkV8t7rayUrogkcrVCIRPyl3pzoh0dKulvb+UtqbA68JpXDVGrTbmInBFi4VO7qHqNlfXKq1XKjXXxxtZre5WOZ7YXfS4t0M4ptmqRzefxCLUpTk+dIpBZXa+x8u7yAj5vqi7NNSwSS6RrSp0YKLUymS1syAu65ZzeubRMFIjbqtPMzB2r5nQ/q4dWPiVB4rBKEoOdA2v7qXsuiqKNXVbeVpCaLK3cisaWNlQK6Qq7wO/GN77Vb2/lbQW5ydLarWZsSapSbKzMRto99CybQKo52MpKJbkZKY8F5dVb0tXORLewxsHNV5cV28MpsbJhDh5omLm8CdYCJU/Q1sh8KXgc18F4nKkv5g87rkzsTL5n6tMySeKJeITJSqent4JrZ0D+NVYG5VOQ8hOgvIhFnMzxt4puHkEqOlFQamXSZPNTE6eELtwcbx1HnPJ+cd+7fH7/L6MUUmZHkkdMNXkDfOyq9ekKPyOzPNbbW3lbIcM1Rj91y8AJNpTbMvJYkf0Ls+q5Fc248gFW3lt+e5k8lh7hUYfnakodwPFYWcTDDZR42VhYefj6B9pZergX9M4i54Gvs7KmfLCNha2Hv19goLmlR1RhL+WkTxzRamXBxgxuJNjH4rl3kLOPq4W5nXcxdv7ldaPQamW+uL0qL9DP89r5b768a+cRlt84JyRqXhQ6rSydmcY4PT173dwffBza8M5sHiSvaAvstrJavTZYGf7A0S8gLiE+LcXX/t5f/N6hBxtUtDZaGWHn6BcYFx4SbOWSXE5cQdq+r7MyKI+tjPB09AuKiwsKCbZzTu4krahe01g+JVaOaadTBNLiEa5VEeFhBg6Y2KWS3DonGltaszvecWURlzlfEm5jbOPlHeLl4m5mH1+1qGkHv87KoHx5hI01Uj7EycXdwj6+mwDbyu8cwtqCMCN3D/vgYGe7F8Z+ee1E8f6riKi2pLj6VKs7LuEhcTGRnl4uFlEdRLBHv7WVt9UbQlx+EPj0wkKjfbwCHEMrsUhX+OusrClfEmTt6hUWFhPt4RXgFVpJlbzmu3RsVgZw58e7c7PSUjOyu8bmdbubgD070Nc/uqAdPuFSZpt6+hdouiXyeHdhVlpSakZJ1xj55PdP9FoZxMbUwnx2fmFUSm5R18w8/1UHKUqtTOKLu5prYpIyIhKQiMmo6yCsaL91KLUynkopy8vSvhxdlPQOHWRlgGJrZXqwNS+vtHkIT13Ats0wkQtcq9UcfN8wSagd6gVWrgm+lIIRSqWva9Du1JNX1dzNWNEdFdQy7kTPFHMD+UEIQLw0oasfOYqtEDXlcyubsIyVg6+mDQ51UqlgpskvOvbErVw+xgMONs7bc9FN21LiEPkjXAdbyGEutlQXJCUlldR3kDi6QxiHMt1a2U8UIONxQj4HN9JaP0rUrBHymIu9mvJpJfVDJORnKScOaq0sI3D4zS2NkYmZicXN4O3euczw3h7sbdWmdGmoszw3N7+gqBMLzIjs01ur9NFRsmTXKSewcniYxwhNKtuUv+ZMVLUuprXXl+cXFHaOzmvr2VYrJZzFwe4F7cZUcglhdnCGqVuSiWm99eVgw6Wdo7SDlaxWbG2CbxOu0uOYrIx60Gzl1wa6e7APCtSOK78p9Kx8FICVK72//eb8lStXjTM6F9Y/0lRo9dpMtfnz+xfPfnPBKmyc8WoW63FzoJXrpgTR7XS9mzY+zMQ1zry6ushOfGgrfwqg18qvCz0rHxEBrs310WffX7j2xCy4n/GxzjVl4tGykCtXrhh892ezNMwGtPJ+oJVREdDKOwAxCxHE69pO7Y+DYlMM2n1gqytryN1vPhYHWrl+WpjRz3auIOlF7+Ly8V/b61MAWlmLWq3aWNV8mYQrsreT43uh2lzXbnUZGfp+O6CV0RrQyqiId7PyD4rXtZV5q3KaUKYXyxuKYNhWPgLQyugFWhmtAa2MioBWPpQDrexeRU7qZib36AdImu8rDK28H2hl9AKtjNaAVkZFQCsfyoFWfquAVt4PtDJ6OdjKly5dqv+EqK6u/tOXXyVmFxfXtn0yYWrl8NTEQi+J6kjOKf3dZ3/KLW/Qy6M6zl++Dq38Zg60MmgQe9ZQ9odHNfl5ju5eyzvxQayclpamO158Ejg7O997bKi3N6I60goq/vrtmR+ulX/5y1+++IQwMzP7n//zf9568OSZmdUnE1/99cwfv/hKL4nqeGRo9qP/9VPwVy+P6vj5r34LrfxmDrRywTCXubzJWpbvDt6qHNj3OH4ZZWBgcO/ePd3x4pPg+++//83vP9PbG1Edj41e/PGzz2EP9icC7MFGRcAe7B8mB1rZuYIU1UbXRkw7I6mbOUpZXZEq+Gty71qKXmHYg70f2IONXqCV0RrQyqgIaOVDecO48gPNpTeDG5cGSSt0kWyAuAIayk/3XQobWnk/0MroBVoZrQGtjIqAVj6U11n5cSbOq4bSOCNkLW+OLa0ldDGM8xYe7r2uiDaglfcDrYxeoJXRGtDKqAho5UM50Mq2pcSiES5VIANrC4e5oIDedb52B7TyfqCV0Qu0MloDWhkV8QYrqxWbu65zrZTLpFIZSKiVW9K+HEdTEyNjY5eSQapEoZLL5UqVelu5BdZ/wGtuqRSbUuTeFWqFXL6lVEkXWz2drI2eP7OLLiELX13f/7g50MpAyesyBUO8OUBcKR3lFQ1zd8K6mKBXGFp5P9DKWlaWsKm+z4yMTOzdErFsqUohR/Z55DrVyD6vK/QhUMhlSIUqhUwqV22uTjUmGxmBr7BRdMOcdOsDX3FTyGVSKUsMzSXZ0QqKrczfwC+xh6YJ/ZME7AJ3gftqFdqtTGAKRmcpU0yJ9tYUINBqZf7GPIWJmUQ+I02Qxihi7V2wQLzWymo1pT3WLqd3AzlGbC+zmn2c7l15bJvTQ1zfEFf5n/Ut6J+YmGOKpWuchYQw69xBxtpoobll+jRyPxylRMBckb3utk9HhdoRaxyRQ6NTWxLCfHMGBWuc6anJgepku8DIE787BbAyb1XOFG/SRbLdQRPJjv/uFHwaEU8/FfeYeHdQbWUid2UctzRJW905OIB4NytzJ2v8PUxKOiZm5sgrW9v03hSzsHQyjdaVFuGe0isC56bKzVWRUPZ+V5tXyiVNKebuZWPb9D5Xs7BGIlvEIU1MTDTEmVlmDX7wu1Owh0oD3AISp6i6ZTSCXivjcBPxflZXrl8wuHLlmYlbSgMR93IVuq3MX++qS738xZcO+WMzHF0SrVZmMfIj7b/8/TffXbjyPRKPXNN7x1i6tW+w8nyZk0HIyzs5Jt65FlIyzxGsS7fke+/kuM6cCXC6Gd9NFw8kXboWPrEhV6sFNT534tqWNEJ/d4i1HpfdE5dopIpAJ5u4brEmeUru5Pg4C2eSt3BggFV6hT+sldm00QTrm6ndJ3xX+PcEtVZen16crshNeXLjpkX60O77r7+zlXffyZHSFHDNNYpApTSEu5iGtgq3VaKlnlgX8zaKrsC7oZCtVgZfeZYxsk1tfnbNtWqRp/1qHtOdHNmYIm9bt3Dk1smoBaVWJnFEdZkuD22jOhaFeAY5L9n11lP/RopuLaqtjCfikiJt7l585lU0NI1+K+cmRXunYmZ5G0RdvLrh5lGtHHvNMhtz4P2VNwXEggTXojHx2mKljV0BDRRS88FTg+sp72llfl+CXXIdi89uL0yIK9Rt75RY+a3iQ1t5OPL5mZg2aOUTCXJyvLedqY+1vd3TuL65Xas+iJVFg+mOSRU0LrevPDE8c1iCWLkr1Pwecuvk90Allwzl2nrVkrdFQ16OSUNLYq2Hj8HKfM5Effz1M7/52a8/u/bAyDOrrqMwN7dikIGs4850F3u4BrfPUPhgSUhqTkmr6Jxh8UUC3lJfU461uZGhmUVqdSftFPR9o9bKK6Mj/c1zWktJJ7DtThYP0zA6aaHYyvz13rYSZ+/QMA+vgE/AyjRKYnyIR9EMQS+vib1WVstWp6tjwsxM7AIymloybBAr80kVKb4Gf/zRv/35qrVf3BB1Q8/KcgGpLjeocVG+LuiLjGpb4ZEqU1z/+vN//t3Z+4auYU1Dg6XhRVjWKiJo1UpfbmhgShNnE+mP29rAV0cXTfE2ke2uL9XkRZmZGjv5Rw5SuNruOiEmNby8n7e2PNxTVdmwqE2eEivHdTD6Ccv7o4+w7FJB0iv8Ia280Bvg+Oj3P/3vfzR48Mg9rrO7LiUgf5SO3Dmez54vCHULztLqWkCeacsJL5hAjoYCygImPsTl4aOHzsHxg4QlAVLghEGtlfldWPzQNCE52PnNVt5a5Q/mxjsZGpmaeeV0z21oxm7l/PHCwj4yaaIhJ2eMwAe7tJ6VxSM5kaWd7JWV8YHq4qp5CbHd1fzm7/71x2dvG1nEVU8PteantrORc2P1On8uOzQgt5sAvj/b2zLqWHt5Xg9/E5xOy1mkwSh/J2NT08i8GoYEWQ+sPFHqkdAn2N6cT06oIbF0/+QxWFnIZxFHs4NNHjyzLmzsH5pf7M31tnKLnKAKRezFsmSPS1/eT+kYZwtFfHKvr51XcecMT8AcrI61drJJqm1oqE9z9bAOKullnbSXP4XZXhxBZ3ORo2lQ3aJEm0GvlReJC6nBL8Ib5guDPgkrU4jRsX72ecMDU4S+KeIoSUjgvVq7Y+X19fUl6ky+793Hjt6p5SU5aSG25hf+YJ+Jx831dzYFGn912TKgoqFjCk8m4iYzXM+G1+OXNFDJhJnxoTnCEoWCGxmZWyLi+jtLnW9+9tgtoay+HTvZE2l41a+4n0AG1dfbPLh/47pz8yIBPHGuL8vsYUD7HAmsKPB79NgdbLcgPc7iuqV/A3aOurREmsNip/EUKgWHm5kDG9Aw313k6O1dPYBnsVhq7R3gj5kDrZzUzRyhrB4Q5FX3KrJe4Q9pZTZlsLvY/toXjkmNPaMzi/M9gY+vxnUhXYWM8YIHlx9a2kWMgYaIgDNUG25ll73IF3HJmCiXp44pOY09DbmprkaesUNkFlLViYLu2V5L1JQ3W1m5iWuIMXTLa+ubGGrKsjd8XohdBmkJudb8kXuSr6FndjteKAe7r56VFRIBf0WiVKtkstXVVblynYNpSbe5eyGmdmKawuLgW3xMjBrJim3VFm0k5/bZRyHptTzVtnpT2FkUGZzct6pSiSk94R6mITVtA9iWzFQPx6RaDpCuWiUVMfjIqeymULimfDmP7GP0YC90pFw3t22doPKJ2NhwFwvja+ZxFSSmYK4l4YG1XfvkEshHeVn5F/fRkSayYKoh+rmLd/88U1PViYFqKy9Q6S1tLVlJ0XbuobkYzuLLaURotTJ/tSszxMqtsJ/OLf5krBzqYGDocu/+vTNXrt6wiyjBsBZfrt2xMvh77s+/+ul//OKr7wyuXL929fLFv/7mR//1Xz+7fPXa9evXv/753/3Lr/58RfP4+rVrX/z73/zyL5eRxwdz8Y8//Zt/++yspvi1i1/82z/8/CtQz7mvfvGvv/rjf/z47//3H78BK8789p//9Td/vXTt+t7tGnz165/8y6+R8pqq9Ll87uuf/+I/vz532dnZeXNT0044Zg608qNM3PMc/IEBVukVPr4ebB6TnO15+WF8J3g8U+Fx1S7I2/ZO7hCTx6RkepwzTe4Bh7mZcs+btgmjVND6ELKp8ykeN1yKsJqaTpJP28oK6UpT1F2rTKxMta2SLY9Ux+WPIOKVkCvuX3sWUYBZl+luEa5n5X3s6cGW8vARrrcDmylgA2NlHnfsvX0CPcdYW+scfJT7jZgOhlohxRa5G4bW8JHqVSu0sXDPZ5lDfE1VB/BRxpUXO+2tvAsHcAvY5gh36+zsoGumoRMk8mBRbGBExixDSMTWeVrdLxnWnSqysVWPLV0qRggn26WDaitPTWJCfKyfvTC68Pi5W2ov9uU0IpRambQ4aGkfmtTBJvL5n4iVmdy6ouK4oplp5vocZTrC0+S2Q1rv0rp27a4ebDk2y9w2voq9uqVSqZRKxWyJo0Fw3Zp0S6lQdEVftcwakGwqwKrNNUF18OXM0TXw+ECUCm6p4/mgOpIU1KRUCsey7lvnLUnWsNluYfm1RbEvXsR2byj5ZQ6WWUP0TYUMm21hG1fJXtFuV0lt8D/vUcrdkGtr02MF3+ofHTNMXQePNf/2sXOqx5V5rOGSgIeupVQRq9LncUBuTajbE7+8QSYdm2j6LG8UtDdY5Z4XrVO7WDykS1DAoTcnWNwIqmMjTz5JPm0rq7akc80xz0xc4jIKMRicULapdbCEUGV+17eXJUMWNLyVlbel/JaMIM/MkVUpp9LnSVJti7OTffUYQ7g0lOzkOMDf3pKyi9wMglsYmtLbyhVGfqSta9ns63a+j2JlLj7XySGsvHuorzzMM2uW0u1z26txAlsSFxqV1skQ8ReGilxNntRNawqLRMKZJmMzl9z+eWTs+eT4BHqwiRxuU1Xy9QePY7sY2gwqrcwXNaeHmsfWYYiCeTo919/dO7trdGlV+zsitFp5T2yMdhbdNnctGeVqM7usvN6XYOiW2i6Uapb2zfayyh48cLbXfvRme21wsOHPXdtZS7UJyfW9s4TRcj+bwiXxoM+L+EHGsmp7vT/RyC21TaCrTy3qiTlnnUOVHXwkgbO99lhZyMP3lbgZefcsjcc6htSPTLRmxwQGVU9PFNg8jhlhckUiUq7tWfd8LFt7jOMx+7NcLrsUUTRLJ8gn3oO9DVqtgpnuhsLCvNSU6EDP5ObZdfDlkZBr7ezyKMivB3W8nZVVG3MNWYFBeQT+eLxz4iSXWhEUmd84hRsp8LAv5YAzawkx3fJ8EmZFUxp8Wzg1Ce7WWcMS3bI+H8XKIsFAuo2BQ1h+spttSi+PTytzu+Geku9icz+2YVooElKnWr1t7mX3an9HJaQOFD6wdq3HkjSLJwZqrbw+R2bNsnUTeufnJuztnnhVLWgXUWllBiHO4elXX5759tzFM+fO/eZf/8+//f7MDaPQqvlVsBalVibx1qeo3Hn2hmZROtlffc/Os3CYrV27y8oqfIWrSUg+Y1XjD7V6usgGqPX9rSyX8PO9blnHZfpHJXbh+MtLIwkeFmmpgfc9EokCcAqgWqh0NQ3Jo69ot6uYLXK8HFC78poJ3NDKenOw6fP9nhY3A2JDjHwzRhbpM60Znj6+if5Pb3rmUjhAxfyWiDtG0Q10LtIhKOBQK8Oe341oOdl2COBTt7JiY1m4LlcrFJsiAa0vN9rRvoL2/lbeVvOn683srIpygowjm0WyzZkSP+/kgoyAR2Yp/eALsyUVVgde96omaDUrF5HTgy18ahdfZ91jsjJ3uCzA1NG3l6DpoAG7LDbv5gvPAIeryX0MIZ/XkvjoGyPPyADfXqpmP6TPpQfZOcZULLB5PO5iTYrTU6eIEcIJd+eg1MoLS4v5EZ5e+VMzDKQ7dKC76u6je5HtNO1adPZgSxcYggkCCwh4nLCY5u7gnt7Wh+PhNdOjUGrlucX5oDAPn5Lpec4Gkc0sSfIx9U7rJmklvdvK2wpys5WVawGWuqECxxRWnu/1v/pWv5OVl2u9LzoWTa9pr/S1tTHZHHnD0Co4JREnVEm4uAif+0aGNpmdw6uaAkpKi7W1a9WoZrsrMxG2j7zKJ8FmkefuA1qZTZuIMf3WqxrP0y4z8XnJXo/vX/bIqiQwhaSh0qfWhjZPnif3TGmPicSu1HsmXk3jRJ6IR5iocHh6O6RuVvPMk+RTH1dmdiS5R1WSNsDHrlqbKvcxMstjvZOVl2mYEItbuVMb2rNUtWg+ODrc2fxSWAt+U7nN6Im+aecSZmddQ15FVitkuKaYp65pc3xQXkrCFtq9eFEz/7LpvI9jsrKIOlJtaXb7qbNXcnkfjS8Q8OcSrW/dNrftIIOdVkCZybt+4ap1UJGuLS3i4QfLvG3Nzd28fPxsLD3cC/vmuLpVJwZa28qc5b7arKePzBw9/dx8AoztbF4E12DourVone31Kj6hceXcyEcvLGy8/F09HU2svJI7iQsv1+62slq9Nlwded/BxzcqNiYl2c/+/td+79KDDSrC1QVdNbHwSSroX+ApthV8SqfNrcseRc08cDhSiPsqvb85Y1w3SdWZSr0+Vh1l5+DjFxUSFGjpmlJJWpEd7GRoZeQXULTaGMOzzyw8YvOHF2gCEWekKfnO+bMRjX0M0PTgTCX6Pfv6skMLjqJtqHCZuLJIWyMrd48ANyc3U4fEagLv5H8bhVorL3fUFAT4ety68PXvr1m4BGXXTvMJmhGuvePKMnxjuvUdp+DAqIgwN08Xy5guEsi/vZW3N5cZBcEPb9q6hxd0MVbB92K9vzD45p3H5Tg2ck4rmfS3vHfTJHpBqq1TvSHCFwZbW7sHB4V7eAY4hlWPS173XTo+K4t4zIne2tycrOLmMWSWoVAwh6krb0Mei5Drcc61FJW2TeweRuHhJnoLcrMyc/J6JnAnrmQAeseViZwVDKY7IycnOi0/tX50gvHq8hTot/L66NBY1yxb+5UDgeJxZQ6/r7cxOTMnLqu0dpS8o2QQu60MUGytzA53FBVVtI0sLhHGO+dYmstmqrmLA6NkkfaHSMDKNcGXkgcEGxuy111Ad2uVPdxRUVTRNE0Tg3N8hXR5CtOifQyWRLSpxrYRzsqrGdSKrdXZEbDdwtq2PubKaw4jSvnGxgZvutEvOvaHbGWRUMAiTNQWp6cV1E8QGeA4xyLPNNTrHoOlme6GsqZBBtJ9rUXIYRHaaotTU1PLm7rIHF0b+2RBrZVX+jqbEtNzolOQiMuqb18Qa6+7ubcHe1sll9JHe6oLC4tLynrGaRuaL8/WGnNsjLKx61q0wMrhYe7D1A2p9DXdQyrFMn22qbqwvAXLlyJ70Rpjqqtf9xgs4fs7W8Zpqle/ElStL9M7m6qLS0p7xvHa7e5DrZDLwLdprsLjeKyMftBr5TcE+q2sHyi28utDz8pHAVi50ue7b85fuXLVOKNzYf39rtB7ZNRrM9Xmz+9fPPftJZsIcP6nSx8/p87KnwTo7sE+KPSsfEQEuHbXx5+dvXDtqVnIAPNj7dUy0UhZyJUrVwy+//pFxuAGtPJ+oJVREdDKO2xtLGv23GWJtlP746DcXBaLka2urut+7PlRgFY+DqCVtajVqo017Vuyuvl2cnwvVHKJbqvSt94zoZXRGtDKqIh3s/IPCmjl4wBaGb1AK6M1oJVREdDKhwKtfBxAK6MXaGW0BrQyKgJa+VCglY8DaGX0crCVL168WP0JUVFR8cWfvozLKMivav5kwtjC7rHRC70kqiMhs/C3f/g8q6RWL4/qOHfxKrTymzkNVr5582ZycrLuePFJ4OjoeOfhM729EdWRnFv612/O/HCt/Ktf/criE8Lc3Pwf//Ef7zx6Bhoun0z8+ZvvP/vyL3pJVMcTY/Mf/+R/g796eVTHL379W2jlN3MarGxgYPDgwQPd8eKT4OzZs+AcV29vRHU8NbH47PPPYQ/2JwLswUZFwB7sHyawB/s4gD3Y6AVaGa0BrYyKgFY+FGjl4wBaGb1AK6M1oJVREdDKhwKtfBxAK6MXaGW0BrQyKgJa+VCglY8DaGX08pZWFgo4LO6J36TsbYFWRkX80KysVsh2XedauSnd2JDKFCq1Ui7tzbIzNnr+/LlTMYYi2VLJ5ZtKlXobrDjwwthqxeZrL5j97qjVe7e7slSZ4gP+J2Mrh5JRrq7Qh+CUW1nI53K5fO2NKFAEtLKWFeposvfjZ88MbV3iR9lSlWJzQ65AvjNyuVyx/0ujVm5tbR2Qf1/0tisjdng5WT17+tgqJHuB9+p69VoOtbKQw6CQqHSBdq9kjCU7hhT0zJzwrRnfElRbmchdnpgn9Y7j+6foMwzJTh6dVt6YJ9P7J/Dg5ezEIFFM0tygAsVW5klmiUt94HVNLA4RBAuaG1Nq47VWVqvJbdE22b0bmvscLzMbvRzuXnlsl9NDWt8QV/mf8ysanJrCs5elaxx8XIhlziBjdSTfzCJtGrkfjnKdz1iWaq+KqZZQ2kJssmd33SfngyDhLsSHWmZjGGujBWbmqVMryyzqwsToYE6wUUDTkq7Qh+D0WZm/RJincTSHPAF3piXb2yn35G/N+Jag2crrU4tU5OAwRRlnrGtvTQHi3azMnazx9zQr65qew1FXtrZpPUkmoWlkGq0zJcw1uVcEfKmUrQj5Uu3V5rdWxspzYpN7QP7DQu9NMQ1NJdFoXalhLkk9/HX+/NzMUEOWs39gP1miK/SSQ63MHiwNcPNPmKRqlpYw/ndtE5rHoZU/UnBXelvLLO7dv3Th1tUbjiHpg9MM3Sp0WlnclB/x6Pa185e0cfH3v/yPS8HtOA5yN2K0Wpm/NjHS5Wv/+Or1K2ev37vqHJXaTdXeMRrEG6w8X+ZkEPLyTo6Jt6+FlOK4IolsS773To7rrNlA51vx3XTxQPLl6xGTG3K1WlDtfTuudUkjdPUaruyFQfDoh7Yy2G6Q8624LroYk3L5WviEpn7V5lp/tu2nbWU2bTTe6kZKFx1ZELDHqyINb0ePa1ahCNRaeR3TW2lraXrm8vXv7ho+Cq1oWVgm7ruT49HRu5MjtTnwmls0gUppiHAxC20VbqtESz2xzi/aKJrVclFfWqiLT/3rb/z4jlBbgq+7RoHtNkW6moa0CDVJCbk/LCbsXayMKfK2dQsf194/GVr5o8bG1Hi7y0MTz8y5WcbaxOhQVm7zEFG3FrU92FISXxdE/IC5kVlkO017M0eUWplAIcb6Gj/xyxteWl1kcLJiXa7bRXUQ17Vrj2rl199feVNALExwLRoXry1W2toX0EAhNR88NbiecqxWlgtIRYmuhWPiNUIV2O6SDNHeD8PKw5HPz8S0QSufRBCxtqambuk9YxzJLH7c/tlVq7wxHAe5g+0HsbJoKN0xqZLG5faVJ4VnDUsQK3eFmt+rJ2pWH5uVRUMZTkkVS1xuf0VSWMaQ1sPvZGU+e6Iu7uo3v/6PX/3xyr3n7rndHHI/sHJMRVdHXrz9owfmLtEdc3RkmJk1W5JT1j2E7SqKyynuZ2qeTJ3rTvO1u//ggYtLStvI0suRmdfljxG0WpkrbioMvPEisY++b9UnMK7MFzamuz33L+un6rrlUWpl/MJcqL9dSBNNuzjeW2ntE1w7pXsVe62slq5MVkWFGBva+KU1NGfYIFbmkcqTvM/94Z//9avLlj4xg9QNPSvLheT63KDGRfm6oD8qun2VR6pIcv7Lz/7xN9/ffeoc0jjDA1Y2Ox/UtTBXF+5tZWgckdvDliG63uSOFBT0UgijNRm5E2QhSKkUa0vD1T72FqamtinZg8xV3fjZgXntdhvAdoXIdlc2kTrfwcqyLdUMY32QtPK6qBznG+cu6In2rcKxnNQ6L9KrdieGyKtEnhQZIH89r6yM7/F3ePi7n/z9H87du+8a2zdNAFZ+djOia6Qz0d7C6LlZbMkADRyyhLyFkfqMnPaZwcqU6LxxAkOIDEAT+0rizI2eGhnZp+YPk3Vtl115Q5Afepk/XlBq5dGevIe+2W0L2q+PtDj4hoFvxQwTOUToWXlrhT+QHWv/7JmRsXtmx4xEM7NCzhvLz+8hEcfqs7Kwi3zFPiuLR3OiyjrZKysTmJqSapyE2O784sZv/u+Pvr/57EVcLYPHBlZ28qiaHGmNs7W0tPWqGmbIwNMU67jh9trWWdJQWX5uB1cKTgHV8nVab0H0CxMjO9uQuh6GRHfH1YPzYmxedFkHa2VlcrCmuHJeW/adrCwUsEnY3BDTh4a2xc2YETwdtJX9bps8NXNILK8baKmOtL99P7iEwOAhbWhHT2/TO65B4SVDVAE431zsCnM19M4qauntqcyKemwc2kVFdsbX5Y8VlFqZyORlhRrfi+meIlL6xvF9U7QZFtrHlV8FYXbA3t4lunlhQdNQBoFSK5MYjIL0GJ+U7pGlFQKT21KR7xdb0r+E9MmD2LHy+vo6mTyZ63X7kaN3anlJdmqQ9QuDP9hlzM3N9Hc2BRp/ddkqsKKhfWKeuDg7lubyfWjtHEUDmbgwNTY4s0AhEueGh2coi/P9naXONz977JZYVt82Oo2fakm8/vMHpp6OSfnl5UkBj+9d9SvBUMjkqY6Ux1ct/S3OP/bPbhtfJFMW+6tjzI3v+WYVlBRnO5lZWoRWTiJb0M+bh1aAvGa7GLBdEkmzXQ1E3HRpuKFdVj94LJcfqXW+pVT3E1ZcKkgvChYPDOO8hQcZ+qJ9q3iciTPNX9CrVhvmhYvBjUsLnNfcnP4lr6zMpg73ljpc/5NzSnPf2CydyRivCr/820duyUmNrR11GUFPjY1y+ilIG7o57sk10wDX535FfQS2ADQ3mjI9nfz8clvaOxpL7Y3sgioGgatBvnl33tguqFyTP2ZQamU8jYkh8Ag8pHFMZJIj7O/YZo/iuciqPVZWbs7XRRu653cMTI+05DgYPisYXQZpCbnW/KFbgo+Rd27ngkgOPnM9KyslQsHqhlKtkslATXLlOneoLdP23sW4+um5Jd6WVNiXFnjn7IuoiurRwcHaZI9HTn6j9A2kDV0eZ//YJDTYM6WbsgFOALa4FfFOfikZLdjx0a5yKyPPkhkW0tW1xa1McPLdl9fbrvaf+WA92H63L9jGNy4wQQtZOFvh/Y1D4jyFDfK+FvfvOWZML9I4wMlC/lix872gEhKTC3Y/NnU22f2uZ8XUa/PHDEqtvLDEjHX61jg8Oz7E/NbtW+evWvnmYaY5urXotjJvrbM8ySEwpZOksxcI9M72msUN+bnYGTlERAUHuIbn1c/rRsJA7Fi5u7vb4C+/+unPfvX1uUvXb968fu3Kmd/9+L/9++fXrt+4efPmN7/8+x//5utryEPAjS//8+9+/c1V7cJBXP78f//Nv39+XvPUmzcvfP7jv/n3P539/jJ4/vWrX/z8n/7lt99q8z/6u59+/vVfz1+6Ckpeu2zwh1/+5Nd/+vbydbD9m1fPfvV//vNXfzW48ro8UsNBfPu7n/zr5+eBxmZmZrRHjEORylW1kwLgyAf7hHqsAWQPmtHjS2uH3i76jT3YPle/M62dZvIEQs7iSKDrU5+KSSTfGHTmvGle0zhTM0ObM91i4+VV1jfPE4Jms3CsyOWBb+oMhQPytt5epa/yrg99U0Bes6ljBM2zvZAgMrh1aQF37KKrZvnaCV+7rayQrjRF3bHKHJWptlWbK9jaxMJRPshLSBX3rz2LKBySyHSfuZ6V97G/B9vu3vPoaf6mSr29Tugyc3FumOEj+WKPs7d8B+dYMgVSr3SmxDgkc4q+DAStVimwORZm6d3rm0rpTKlxSMb+vKZ2fT7suPKYtnmLq/b/xiFhTmNlf2Pr+JpRcMoIEPKX8mz//OUNU28fXwRPV9OHV26HNrFA3u6A/HHvoei1ctiL3561iKgeJePYK+1Vxc+euWQM87RrUW1lAoUQ7WpnGdU1tSuJVitzV4faG/0tTW4+trx/986FO24hZVOzL0+edvVgy7HZFnYJ1dw1hRqgUs6VOhoE10s2FSqVsjvmqlUWRoqMMavl68KakCtZ2HWk2EGoVLxSZFyZDA4QYGllrvSFQfDIugwsgKNVc9KLJxkjSB5XanbXf5C7qX2SiDLgdvtX96x9w7R4Wv3lnn31FEtwUL5qiq35L/VRSFf7smz9G6ngseZFHRXZlqpxRgjErCfO4wugZOcK0tjSmuIwJQOOOK7MIY6Hexp6lY0j+bqI50/CsZrhOtAinm5Jun3+i+c2HppDm6+v5Z3f3ffrxVGmDsj79uKQXvBjBdVWJjJ4VfmRtx+5pXWRF14md1tZvSXFtcY+M3aKTsnr758XyuRI/zXwHKHK/K5fHxvpddby9lZ+Na4sIfdZurvUgSeDfF6IU0AtR9fK3ZopcQZnsW5+IeEafK1uf2GTx9mQzJQ6XwF5X738wZMejmW2124rBzgHV/TPa3/KLODjUww/u2MTkpqeoSOnsHkQzwF5o8/357maZx0f6LVyhO03Rsmji5pFIhEf6Glnnz+h3U1RbeWZ6WFXq7uB9RTCriQ6rSydmu73MX3mFNPQgxPM4gk5sRE3nrlnjzC1L22Xldf7EwzdUtuFUs3SkWd77ecNs71Um2styS+eZowiec0sLZpmlhZYIyC1ut/5xjWuZIfShoEl0Rr/4PzGgSp7n9lekk0lELPZRxGzVsmj1FXFG4eTd3gXKzcnWLsUUzR5kYg7Vhv+6NpVvxjdgQ2QV91DYjOwteGPr13Zk6/qIbJ5uucdG+i1MoklqMmJeuYcVjBM1fZda2PvuLJaIRPO9TWXlBSmpcYEuCc2Tq+BT1pCrrWzy6Psmvn4waxcnhSeOfzSnxvDmZaPjB1ScnRfmZKyioaBhQ2VZCTL6qD8wTvhR7WykM+qD7pqmtDBejmVi7VEoLI4SD74gLz28fGBUisTGNzMEKNHsRjt8Z1Iwgd52FpnY3GaRTRbeX2gM+vZ5ad546+GyUGg08rrg30lFjfty+Z1r4W4OOrwyDGsdlb7Me2ysmqh0tUkJJ++otGkWj1daAPU+rGsvL3GnIhxe5CPFWmPECqwmRWxQqk6ML+l1LY99HnPOdg6Mecfr5iBkl0qSVig5CO0krW8t5WFCz3ZlnY2TZO6trOARV2g0gRCgSZv3TTJ2Js/7qYyeq28hilLffg0IHWYvvuUHcReKys2xPy1TbVSuSkW0gfyoh3sKmgfz8oqUr3/i8A0sli3IYVEwF/bAF9kUkMAkhfp5bVL+ryzlbkjZQEmDr49izxkPzqalYGW8W0Jd0z82sAbKRIxcMOp3haJHRMioQDflnhA/phBqZXJvOWu8rQnxmEVBDFRIO3vqrz35EFk25J2lAXFVuYut+UFXL7m30jdk0enlTcmJ1rdjZ+HVy/iORtkvmS6p/qpoWdaH21fW3lbQWmxtnLJG6FIVAqJmJHjc/2vvtXvZOXlOu+LDkVTq8gQ11GtvL3BrUn2dEmoZ25sKZVb1N5y3+i4ed7aQfnYOZA/iPe0MuC4x5iBkp2ONpa8m91W5tAmY0y/9azCI+3Zo1pZJCQNeTtYBeS0kzh8Poc5kOnnkpy7QOeAvI+DlX92mybPGsjyc0lC8rqnHRsotfIiBeNl5hVXv4h7OTNjJ3ZbWSFldSS6RZQTkL5h1dpkmbfRi3z2O1l5mYYJsbiZMylBTnGPauVtFb3LwdaleIAgUSLDOl1JHsG1fVJwMkvvBvmifv287ml7eWcri6ijNVYvbj1ycE8o7V3S/DLqcCuD3Zc+WxZiYWnp6urjY2XvYumUqpma/dr8sYJWKwtkOBIhNsrSxNXX2dPHyNbGPLRuEN1XEUGCxBKUhpmfMc0b2ptH67gyk1udGXLv+TNrd18X3wAre3v3mIYRmm7tbiur1eujtdH37b28wqOikpP9He5/7fcuPdigInxD8FXjF57xuX04jviIVt5WCohdye52Dl5BgSGhds5ByVUTmnP91+UP4P2tDDi+MWaklXzkseTd7LYyn02rizX6/qmZS1Tu0DwBezQrg5WTLSn+VpZ2nt5unl6Gpt45LZMszTFPl/fQ5bObJ1k7B8pjA51WXusq8D1/7d4LZ38XnyAkfENDqqa0VxnabWW1QrbYnGF92yHANyw0yNnd2Sq2mwzyb2/lbfkyszDk4Q1r55DcdrqA3Xs0K4OT3OnGeB8HD+/wcN+AABuX5M5Fsaaj+nX5A3h3K4t4zMn++oL8vLLWCRaXOtzWP0mga0XKwg83Yia5fIGIRx3BYPFU1q5+GSGPudhTW5KZmZlX0za+tLMbvi5/jKDXysglKikLdVXlSZnFGY1jkwzkBwPaQLGVuavDg71lA1TtePlOoNXK4ASfwWruqkvOyY/LLs5sHx6lre2s2m1lgHJrdW60q7S0pnOMSCNOdOM4mt4tNY8wOEYVa3u6gJVrgi8m9/EkEunrLm+9tcoZ7aourWmdpYuly/TRbpz2yWqlnEMcHSKLwWP5KmN8fEm6p/tMsUqba62rKq2obp0gLe/4+rX5XaiVMunGqpDTnmb9nlYGaLuyP6yYtWPJSMf10caSd7PbyiKhgEWcbCjLyixumiIu0RbGOlvGtR3QAg5jbLBzBM8QCfkM4kTPwPzeOTGcheGO/NzszPziJiye8erYhuQLDsgfI+i08vrYKCY7tyAu42VklWR1E4n8A64iopLLGGN9daWlZeWVfZN0bTfx1hprYoK6u8sYWDks1G2IItnY2Dz4VE2lWGHMt9aVVrVPCCQSARk3g2Nrr0ytkAjGZmZYy5tgYwIGYZEq0v0mWQPyK//x3rKy0tL69nHG8s5XVaVYPzC/B6VcIpHw5tqDo97NyugHzVZ+baB6tteBgV4rvyH0rHwUgJWrfL//1uDKlavGmZ0L67uPBCeImJgXZnP50sWLV69GtNF1yffgw44xa8aSyVjqW7eSteyx8icBemd7vS70rHxEhLh2t8efn71w7emLkAGmdqblySOZr7c2fnDp/HeXLAJHaPq9YtDKaA1oZVTEO1gZoJCuiBFWJJuaTu3TgFq9KV3T/Fdiie53KO+LVK6qm/oAY8y6sWTa240l7wZa+fTHu1l5W62Srmt327XND7PbfgiU8tWVZfA/rayt799poZXRGtDKqIh3s/IPB9mWqun9urK1Y8njbz+WvBto5dMf72hlFAKtjNaAVkZFQCsfyvuMMb/PWPJuoJVPf0ArQyuf9oBWRkVAKx+Fd7vACFCy63uMJe8GWvn0xw/dygYGBhWfECUlJZ9/8aeY1JycsvpPJgxf2Dx8bqqXRHXEpuX95vefpRdW6uVRHWcvXIFWPgpvO8b8/mPJu7l582ZCQoLuePFJYG9vf+v+E729EdWRkFn09Tff/kCtzGQyXV1dnT5NnD+h0KKXRHt8aq/IxcVlcXFR99WCvJGjjzEjY8mV7zuWvJvs7GzNvvfpob9DojoiIiK2tg783d4nxQFWhkAgkBPhKGPM2uldSMf1+40lQyCnE2hlCARyinjzGPMHHEuGQE4n0MoQCOR0oR1jNt83xqwdS574QGPJEMjpBFoZAoGcOmRbqubZPV3ZH3wsGQI5nUArQyCQ04hkU7kz+UurZDiWDPkhAK0MgUBOKRI5ImbzwkXXSvI73AkKAkEj0MoQCOT0It1SdeDEM8wDLhcMgXyCbG///6xb8xlHzoZHAAAAAElFTkSuQmCC\">"
   ]
  },
  {
   "cell_type": "code",
   "execution_count": 156,
   "metadata": {
    "ExecuteTime": {
     "end_time": "2017-08-16T08:52:22.380192Z",
     "start_time": "2017-08-16T08:52:22.373173Z"
    },
    "scrolled": true
   },
   "outputs": [
    {
     "data": {
      "text/plain": [
       "one      0\n",
       "two      1\n",
       "three    2\n",
       "dtype: int32"
      ]
     },
     "execution_count": 156,
     "metadata": {},
     "output_type": "execute_result"
    }
   ],
   "source": [
    "sr = pd.Series(np.arange(3), index=[\"one\", \"two\", \"three\"])\n",
    "sr"
   ]
  },
  {
   "cell_type": "code",
   "execution_count": 157,
   "metadata": {
    "ExecuteTime": {
     "end_time": "2017-08-16T08:52:25.561844Z",
     "start_time": "2017-08-16T08:52:25.554826Z"
    }
   },
   "outputs": [
    {
     "data": {
      "text/plain": [
       "one      0\n",
       "two      1\n",
       "three    2\n",
       "Name: 番号, dtype: int32"
      ]
     },
     "execution_count": 157,
     "metadata": {},
     "output_type": "execute_result"
    }
   ],
   "source": [
    "sr.name = \"番号\"\n",
    "sr"
   ]
  },
  {
   "cell_type": "code",
   "execution_count": 158,
   "metadata": {
    "ExecuteTime": {
     "end_time": "2017-08-16T08:52:26.032094Z",
     "start_time": "2017-08-16T08:52:26.027081Z"
    }
   },
   "outputs": [
    {
     "data": {
      "text/plain": [
       "2"
      ]
     },
     "execution_count": 158,
     "metadata": {},
     "output_type": "execute_result"
    }
   ],
   "source": [
    "sr[\"three\"]"
   ]
  },
  {
   "cell_type": "code",
   "execution_count": 159,
   "metadata": {
    "ExecuteTime": {
     "end_time": "2017-08-16T08:52:26.253682Z",
     "start_time": "2017-08-16T08:52:26.242654Z"
    },
    "scrolled": true
   },
   "outputs": [
    {
     "data": {
      "text/html": [
       "<div>\n",
       "<style>\n",
       "    .dataframe thead tr:only-child th {\n",
       "        text-align: right;\n",
       "    }\n",
       "\n",
       "    .dataframe thead th {\n",
       "        text-align: left;\n",
       "    }\n",
       "\n",
       "    .dataframe tbody tr th {\n",
       "        vertical-align: top;\n",
       "    }\n",
       "</style>\n",
       "<table border=\"1\" class=\"dataframe\">\n",
       "  <thead>\n",
       "    <tr style=\"text-align: right;\">\n",
       "      <th></th>\n",
       "      <th>col1</th>\n",
       "      <th>col2</th>\n",
       "      <th>col3</th>\n",
       "    </tr>\n",
       "  </thead>\n",
       "  <tbody>\n",
       "    <tr>\n",
       "      <th>one</th>\n",
       "      <td>0</td>\n",
       "      <td>1</td>\n",
       "      <td>2</td>\n",
       "    </tr>\n",
       "    <tr>\n",
       "      <th>two</th>\n",
       "      <td>3</td>\n",
       "      <td>4</td>\n",
       "      <td>5</td>\n",
       "    </tr>\n",
       "    <tr>\n",
       "      <th>three</th>\n",
       "      <td>6</td>\n",
       "      <td>7</td>\n",
       "      <td>8</td>\n",
       "    </tr>\n",
       "  </tbody>\n",
       "</table>\n",
       "</div>"
      ],
      "text/plain": [
       "       col1  col2  col3\n",
       "one       0     1     2\n",
       "two       3     4     5\n",
       "three     6     7     8"
      ]
     },
     "execution_count": 159,
     "metadata": {},
     "output_type": "execute_result"
    }
   ],
   "source": [
    "df = pd.DataFrame(np.arange(9).reshape(3,3), \n",
    "                  index=[\"one\", \"two\", \"three\"], columns=[\"col1\",\"col2\",\"col3\"])\n",
    "df"
   ]
  },
  {
   "cell_type": "code",
   "execution_count": 160,
   "metadata": {
    "ExecuteTime": {
     "end_time": "2017-08-16T08:52:26.525405Z",
     "start_time": "2017-08-16T08:52:26.519391Z"
    }
   },
   "outputs": [
    {
     "data": {
      "text/plain": [
       "one      1\n",
       "two      4\n",
       "three    7\n",
       "Name: col2, dtype: int32"
      ]
     },
     "execution_count": 160,
     "metadata": {},
     "output_type": "execute_result"
    }
   ],
   "source": [
    "df[\"col2\"]"
   ]
  },
  {
   "cell_type": "code",
   "execution_count": 161,
   "metadata": {
    "ExecuteTime": {
     "end_time": "2017-08-16T08:52:26.842247Z",
     "start_time": "2017-08-16T08:52:26.833223Z"
    }
   },
   "outputs": [
    {
     "data": {
      "text/html": [
       "<div>\n",
       "<style>\n",
       "    .dataframe thead tr:only-child th {\n",
       "        text-align: right;\n",
       "    }\n",
       "\n",
       "    .dataframe thead th {\n",
       "        text-align: left;\n",
       "    }\n",
       "\n",
       "    .dataframe tbody tr th {\n",
       "        vertical-align: top;\n",
       "    }\n",
       "</style>\n",
       "<table border=\"1\" class=\"dataframe\">\n",
       "  <thead>\n",
       "    <tr style=\"text-align: right;\">\n",
       "      <th></th>\n",
       "      <th>col1</th>\n",
       "      <th>col3</th>\n",
       "    </tr>\n",
       "  </thead>\n",
       "  <tbody>\n",
       "    <tr>\n",
       "      <th>one</th>\n",
       "      <td>0</td>\n",
       "      <td>2</td>\n",
       "    </tr>\n",
       "    <tr>\n",
       "      <th>two</th>\n",
       "      <td>3</td>\n",
       "      <td>5</td>\n",
       "    </tr>\n",
       "    <tr>\n",
       "      <th>three</th>\n",
       "      <td>6</td>\n",
       "      <td>8</td>\n",
       "    </tr>\n",
       "  </tbody>\n",
       "</table>\n",
       "</div>"
      ],
      "text/plain": [
       "       col1  col3\n",
       "one       0     2\n",
       "two       3     5\n",
       "three     6     8"
      ]
     },
     "execution_count": 161,
     "metadata": {},
     "output_type": "execute_result"
    }
   ],
   "source": [
    "df[[\"col1\",\"col3\"]]"
   ]
  },
  {
   "cell_type": "code",
   "execution_count": 162,
   "metadata": {
    "ExecuteTime": {
     "end_time": "2017-08-16T08:52:27.057820Z",
     "start_time": "2017-08-16T08:52:27.051804Z"
    }
   },
   "outputs": [
    {
     "data": {
      "text/plain": [
       "one      0\n",
       "two      3\n",
       "three    6\n",
       "Name: col1, dtype: int32"
      ]
     },
     "execution_count": 162,
     "metadata": {},
     "output_type": "execute_result"
    }
   ],
   "source": [
    "sr = df[\"col1\"]\n",
    "sr"
   ]
  },
  {
   "cell_type": "code",
   "execution_count": 163,
   "metadata": {
    "ExecuteTime": {
     "end_time": "2017-08-16T08:52:27.308488Z",
     "start_time": "2017-08-16T08:52:27.303473Z"
    }
   },
   "outputs": [
    {
     "data": {
      "text/plain": [
       "pandas.core.series.Series"
      ]
     },
     "execution_count": 163,
     "metadata": {},
     "output_type": "execute_result"
    }
   ],
   "source": [
    "type(sr)"
   ]
  },
  {
   "cell_type": "markdown",
   "metadata": {},
   "source": [
    "### 列の追加 (df[key] = value)"
   ]
  },
  {
   "cell_type": "markdown",
   "metadata": {
    "ExecuteTime": {
     "end_time": "2017-08-10T05:35:26.540476Z",
     "start_time": "2017-08-10T05:35:26.534457Z"
    }
   },
   "source": [
    "- 列の追加をすると、元の列の後ろに追加される\n",
    "- リストを追加すると、順番に応じてインデックスが振られる\n",
    "- pd.Seriesを追加するには、明示的にインデックスを指定する"
   ]
  },
  {
   "cell_type": "code",
   "execution_count": 164,
   "metadata": {
    "ExecuteTime": {
     "end_time": "2017-08-16T08:52:28.131675Z",
     "start_time": "2017-08-16T08:52:28.122652Z"
    },
    "scrolled": true
   },
   "outputs": [
    {
     "data": {
      "text/html": [
       "<div>\n",
       "<style>\n",
       "    .dataframe thead tr:only-child th {\n",
       "        text-align: right;\n",
       "    }\n",
       "\n",
       "    .dataframe thead th {\n",
       "        text-align: left;\n",
       "    }\n",
       "\n",
       "    .dataframe tbody tr th {\n",
       "        vertical-align: top;\n",
       "    }\n",
       "</style>\n",
       "<table border=\"1\" class=\"dataframe\">\n",
       "  <thead>\n",
       "    <tr style=\"text-align: right;\">\n",
       "      <th></th>\n",
       "      <th>col1</th>\n",
       "      <th>col2</th>\n",
       "      <th>col3</th>\n",
       "    </tr>\n",
       "  </thead>\n",
       "  <tbody>\n",
       "    <tr>\n",
       "      <th>one</th>\n",
       "      <td>0</td>\n",
       "      <td>1</td>\n",
       "      <td>2</td>\n",
       "    </tr>\n",
       "    <tr>\n",
       "      <th>two</th>\n",
       "      <td>3</td>\n",
       "      <td>4</td>\n",
       "      <td>5</td>\n",
       "    </tr>\n",
       "    <tr>\n",
       "      <th>three</th>\n",
       "      <td>6</td>\n",
       "      <td>7</td>\n",
       "      <td>8</td>\n",
       "    </tr>\n",
       "  </tbody>\n",
       "</table>\n",
       "</div>"
      ],
      "text/plain": [
       "       col1  col2  col3\n",
       "one       0     1     2\n",
       "two       3     4     5\n",
       "three     6     7     8"
      ]
     },
     "execution_count": 164,
     "metadata": {},
     "output_type": "execute_result"
    }
   ],
   "source": [
    "df = pd.DataFrame(np.arange(9).reshape(3,3), \n",
    "                  index=[\"one\", \"two\", \"three\"], columns=[\"col1\",\"col2\",\"col3\"])\n",
    "df"
   ]
  },
  {
   "cell_type": "code",
   "execution_count": 165,
   "metadata": {
    "ExecuteTime": {
     "end_time": "2017-08-16T08:52:28.366298Z",
     "start_time": "2017-08-16T08:52:28.357274Z"
    },
    "scrolled": true
   },
   "outputs": [
    {
     "data": {
      "text/html": [
       "<div>\n",
       "<style>\n",
       "    .dataframe thead tr:only-child th {\n",
       "        text-align: right;\n",
       "    }\n",
       "\n",
       "    .dataframe thead th {\n",
       "        text-align: left;\n",
       "    }\n",
       "\n",
       "    .dataframe tbody tr th {\n",
       "        vertical-align: top;\n",
       "    }\n",
       "</style>\n",
       "<table border=\"1\" class=\"dataframe\">\n",
       "  <thead>\n",
       "    <tr style=\"text-align: right;\">\n",
       "      <th></th>\n",
       "      <th>col1</th>\n",
       "      <th>col2</th>\n",
       "      <th>col3</th>\n",
       "      <th>col0</th>\n",
       "    </tr>\n",
       "  </thead>\n",
       "  <tbody>\n",
       "    <tr>\n",
       "      <th>one</th>\n",
       "      <td>0</td>\n",
       "      <td>1</td>\n",
       "      <td>2</td>\n",
       "      <td>11</td>\n",
       "    </tr>\n",
       "    <tr>\n",
       "      <th>two</th>\n",
       "      <td>3</td>\n",
       "      <td>4</td>\n",
       "      <td>5</td>\n",
       "      <td>12</td>\n",
       "    </tr>\n",
       "    <tr>\n",
       "      <th>three</th>\n",
       "      <td>6</td>\n",
       "      <td>7</td>\n",
       "      <td>8</td>\n",
       "      <td>13</td>\n",
       "    </tr>\n",
       "  </tbody>\n",
       "</table>\n",
       "</div>"
      ],
      "text/plain": [
       "       col1  col2  col3  col0\n",
       "one       0     1     2    11\n",
       "two       3     4     5    12\n",
       "three     6     7     8    13"
      ]
     },
     "execution_count": 165,
     "metadata": {},
     "output_type": "execute_result"
    }
   ],
   "source": [
    "df[\"col0\"] = [11,12,13]\n",
    "df"
   ]
  },
  {
   "cell_type": "code",
   "execution_count": 166,
   "metadata": {
    "ExecuteTime": {
     "end_time": "2017-08-16T08:52:28.570842Z",
     "start_time": "2017-08-16T08:52:28.558810Z"
    }
   },
   "outputs": [
    {
     "data": {
      "text/html": [
       "<div>\n",
       "<style>\n",
       "    .dataframe thead tr:only-child th {\n",
       "        text-align: right;\n",
       "    }\n",
       "\n",
       "    .dataframe thead th {\n",
       "        text-align: left;\n",
       "    }\n",
       "\n",
       "    .dataframe tbody tr th {\n",
       "        vertical-align: top;\n",
       "    }\n",
       "</style>\n",
       "<table border=\"1\" class=\"dataframe\">\n",
       "  <thead>\n",
       "    <tr style=\"text-align: right;\">\n",
       "      <th></th>\n",
       "      <th>col1</th>\n",
       "      <th>col2</th>\n",
       "      <th>col3</th>\n",
       "      <th>col0</th>\n",
       "      <th>col4</th>\n",
       "    </tr>\n",
       "  </thead>\n",
       "  <tbody>\n",
       "    <tr>\n",
       "      <th>one</th>\n",
       "      <td>0</td>\n",
       "      <td>1</td>\n",
       "      <td>2</td>\n",
       "      <td>11</td>\n",
       "      <td>NaN</td>\n",
       "    </tr>\n",
       "    <tr>\n",
       "      <th>two</th>\n",
       "      <td>3</td>\n",
       "      <td>4</td>\n",
       "      <td>5</td>\n",
       "      <td>12</td>\n",
       "      <td>NaN</td>\n",
       "    </tr>\n",
       "    <tr>\n",
       "      <th>three</th>\n",
       "      <td>6</td>\n",
       "      <td>7</td>\n",
       "      <td>8</td>\n",
       "      <td>13</td>\n",
       "      <td>NaN</td>\n",
       "    </tr>\n",
       "  </tbody>\n",
       "</table>\n",
       "</div>"
      ],
      "text/plain": [
       "       col1  col2  col3  col0  col4\n",
       "one       0     1     2    11   NaN\n",
       "two       3     4     5    12   NaN\n",
       "three     6     7     8    13   NaN"
      ]
     },
     "execution_count": 166,
     "metadata": {},
     "output_type": "execute_result"
    }
   ],
   "source": [
    "df[\"col4\"] = pd.Series([11,12,13])\n",
    "df"
   ]
  },
  {
   "cell_type": "code",
   "execution_count": 167,
   "metadata": {
    "ExecuteTime": {
     "end_time": "2017-08-16T08:52:30.171306Z",
     "start_time": "2017-08-16T08:52:30.157269Z"
    }
   },
   "outputs": [
    {
     "data": {
      "text/html": [
       "<div>\n",
       "<style>\n",
       "    .dataframe thead tr:only-child th {\n",
       "        text-align: right;\n",
       "    }\n",
       "\n",
       "    .dataframe thead th {\n",
       "        text-align: left;\n",
       "    }\n",
       "\n",
       "    .dataframe tbody tr th {\n",
       "        vertical-align: top;\n",
       "    }\n",
       "</style>\n",
       "<table border=\"1\" class=\"dataframe\">\n",
       "  <thead>\n",
       "    <tr style=\"text-align: right;\">\n",
       "      <th></th>\n",
       "      <th>col1</th>\n",
       "      <th>col2</th>\n",
       "      <th>col3</th>\n",
       "      <th>col0</th>\n",
       "      <th>col4</th>\n",
       "      <th>col5</th>\n",
       "    </tr>\n",
       "  </thead>\n",
       "  <tbody>\n",
       "    <tr>\n",
       "      <th>one</th>\n",
       "      <td>0</td>\n",
       "      <td>1</td>\n",
       "      <td>2</td>\n",
       "      <td>11</td>\n",
       "      <td>NaN</td>\n",
       "      <td>11</td>\n",
       "    </tr>\n",
       "    <tr>\n",
       "      <th>two</th>\n",
       "      <td>3</td>\n",
       "      <td>4</td>\n",
       "      <td>5</td>\n",
       "      <td>12</td>\n",
       "      <td>NaN</td>\n",
       "      <td>12</td>\n",
       "    </tr>\n",
       "    <tr>\n",
       "      <th>three</th>\n",
       "      <td>6</td>\n",
       "      <td>7</td>\n",
       "      <td>8</td>\n",
       "      <td>13</td>\n",
       "      <td>NaN</td>\n",
       "      <td>13</td>\n",
       "    </tr>\n",
       "  </tbody>\n",
       "</table>\n",
       "</div>"
      ],
      "text/plain": [
       "       col1  col2  col3  col0  col4  col5\n",
       "one       0     1     2    11   NaN    11\n",
       "two       3     4     5    12   NaN    12\n",
       "three     6     7     8    13   NaN    13"
      ]
     },
     "execution_count": 167,
     "metadata": {},
     "output_type": "execute_result"
    }
   ],
   "source": [
    "df[\"col5\"] = pd.Series([11,12,13], index=[\"one\",\"two\",\"three\"])\n",
    "df"
   ]
  },
  {
   "cell_type": "code",
   "execution_count": 168,
   "metadata": {
    "ExecuteTime": {
     "end_time": "2017-08-16T08:52:30.427988Z",
     "start_time": "2017-08-16T08:52:30.425983Z"
    },
    "collapsed": true
   },
   "outputs": [],
   "source": [
    "# df.append(col1, axis=1) # ERROR"
   ]
  },
  {
   "cell_type": "markdown",
   "metadata": {},
   "source": [
    "### 列の追加 (insert)"
   ]
  },
  {
   "cell_type": "markdown",
   "metadata": {},
   "source": [
    "- insert\n",
    " - 追加する位置を指定して、列追加\n",
    " - 破壊的メソッド"
   ]
  },
  {
   "cell_type": "code",
   "execution_count": 169,
   "metadata": {
    "ExecuteTime": {
     "end_time": "2017-08-16T08:52:31.190014Z",
     "start_time": "2017-08-16T08:52:31.178984Z"
    }
   },
   "outputs": [
    {
     "data": {
      "text/html": [
       "<div>\n",
       "<style>\n",
       "    .dataframe thead tr:only-child th {\n",
       "        text-align: right;\n",
       "    }\n",
       "\n",
       "    .dataframe thead th {\n",
       "        text-align: left;\n",
       "    }\n",
       "\n",
       "    .dataframe tbody tr th {\n",
       "        vertical-align: top;\n",
       "    }\n",
       "</style>\n",
       "<table border=\"1\" class=\"dataframe\">\n",
       "  <thead>\n",
       "    <tr style=\"text-align: right;\">\n",
       "      <th></th>\n",
       "      <th>col1</th>\n",
       "      <th>col2</th>\n",
       "      <th>col3</th>\n",
       "    </tr>\n",
       "  </thead>\n",
       "  <tbody>\n",
       "    <tr>\n",
       "      <th>one</th>\n",
       "      <td>0</td>\n",
       "      <td>1</td>\n",
       "      <td>2</td>\n",
       "    </tr>\n",
       "    <tr>\n",
       "      <th>two</th>\n",
       "      <td>3</td>\n",
       "      <td>4</td>\n",
       "      <td>5</td>\n",
       "    </tr>\n",
       "    <tr>\n",
       "      <th>three</th>\n",
       "      <td>6</td>\n",
       "      <td>7</td>\n",
       "      <td>8</td>\n",
       "    </tr>\n",
       "  </tbody>\n",
       "</table>\n",
       "</div>"
      ],
      "text/plain": [
       "       col1  col2  col3\n",
       "one       0     1     2\n",
       "two       3     4     5\n",
       "three     6     7     8"
      ]
     },
     "execution_count": 169,
     "metadata": {},
     "output_type": "execute_result"
    }
   ],
   "source": [
    "df = pd.DataFrame(np.arange(9).reshape(3,3), \n",
    "                  index=[\"one\", \"two\", \"three\"], columns=[\"col1\",\"col2\",\"col3\"])\n",
    "df"
   ]
  },
  {
   "cell_type": "code",
   "execution_count": 170,
   "metadata": {
    "ExecuteTime": {
     "end_time": "2017-08-16T08:52:31.622162Z",
     "start_time": "2017-08-16T08:52:31.611135Z"
    }
   },
   "outputs": [
    {
     "data": {
      "text/html": [
       "<div>\n",
       "<style>\n",
       "    .dataframe thead tr:only-child th {\n",
       "        text-align: right;\n",
       "    }\n",
       "\n",
       "    .dataframe thead th {\n",
       "        text-align: left;\n",
       "    }\n",
       "\n",
       "    .dataframe tbody tr th {\n",
       "        vertical-align: top;\n",
       "    }\n",
       "</style>\n",
       "<table border=\"1\" class=\"dataframe\">\n",
       "  <thead>\n",
       "    <tr style=\"text-align: right;\">\n",
       "      <th></th>\n",
       "      <th>col1</th>\n",
       "      <th>col4</th>\n",
       "      <th>col2</th>\n",
       "      <th>col3</th>\n",
       "    </tr>\n",
       "  </thead>\n",
       "  <tbody>\n",
       "    <tr>\n",
       "      <th>one</th>\n",
       "      <td>0</td>\n",
       "      <td>1</td>\n",
       "      <td>1</td>\n",
       "      <td>2</td>\n",
       "    </tr>\n",
       "    <tr>\n",
       "      <th>two</th>\n",
       "      <td>3</td>\n",
       "      <td>2</td>\n",
       "      <td>4</td>\n",
       "      <td>5</td>\n",
       "    </tr>\n",
       "    <tr>\n",
       "      <th>three</th>\n",
       "      <td>6</td>\n",
       "      <td>3</td>\n",
       "      <td>7</td>\n",
       "      <td>8</td>\n",
       "    </tr>\n",
       "  </tbody>\n",
       "</table>\n",
       "</div>"
      ],
      "text/plain": [
       "       col1  col4  col2  col3\n",
       "one       0     1     1     2\n",
       "two       3     2     4     5\n",
       "three     6     3     7     8"
      ]
     },
     "execution_count": 170,
     "metadata": {},
     "output_type": "execute_result"
    }
   ],
   "source": [
    "df.insert(loc=1 ,value=[1,2,3], column=\"col4\")\n",
    "df"
   ]
  },
  {
   "cell_type": "markdown",
   "metadata": {},
   "source": [
    "### 列の追加 (concat)"
   ]
  },
  {
   "cell_type": "markdown",
   "metadata": {},
   "source": [
    "- pd.concat\n",
    " - 行や列を追加する\n",
    "   - 行方向 => axis=0\n",
    "   - 列方向 => axis= 1\n",
    " - デフォルトは行の方向の追加( axis = 0)\n",
    " - 追加できるのは、NDFrameオブジェクト( pd.Series, pd.DataFrame )のみ"
   ]
  },
  {
   "cell_type": "code",
   "execution_count": 171,
   "metadata": {
    "ExecuteTime": {
     "end_time": "2017-08-16T08:52:32.331046Z",
     "start_time": "2017-08-16T08:52:32.322022Z"
    }
   },
   "outputs": [
    {
     "data": {
      "text/html": [
       "<div>\n",
       "<style>\n",
       "    .dataframe thead tr:only-child th {\n",
       "        text-align: right;\n",
       "    }\n",
       "\n",
       "    .dataframe thead th {\n",
       "        text-align: left;\n",
       "    }\n",
       "\n",
       "    .dataframe tbody tr th {\n",
       "        vertical-align: top;\n",
       "    }\n",
       "</style>\n",
       "<table border=\"1\" class=\"dataframe\">\n",
       "  <thead>\n",
       "    <tr style=\"text-align: right;\">\n",
       "      <th></th>\n",
       "      <th>col1</th>\n",
       "      <th>col2</th>\n",
       "      <th>col3</th>\n",
       "    </tr>\n",
       "  </thead>\n",
       "  <tbody>\n",
       "    <tr>\n",
       "      <th>one</th>\n",
       "      <td>0</td>\n",
       "      <td>1</td>\n",
       "      <td>2</td>\n",
       "    </tr>\n",
       "    <tr>\n",
       "      <th>two</th>\n",
       "      <td>3</td>\n",
       "      <td>4</td>\n",
       "      <td>5</td>\n",
       "    </tr>\n",
       "    <tr>\n",
       "      <th>three</th>\n",
       "      <td>6</td>\n",
       "      <td>7</td>\n",
       "      <td>8</td>\n",
       "    </tr>\n",
       "  </tbody>\n",
       "</table>\n",
       "</div>"
      ],
      "text/plain": [
       "       col1  col2  col3\n",
       "one       0     1     2\n",
       "two       3     4     5\n",
       "three     6     7     8"
      ]
     },
     "execution_count": 171,
     "metadata": {},
     "output_type": "execute_result"
    }
   ],
   "source": [
    "df = pd.DataFrame(np.arange(9).reshape(3,3), \n",
    "                  index=[\"one\", \"two\", \"three\"], columns=[\"col1\",\"col2\",\"col3\"])\n",
    "df"
   ]
  },
  {
   "cell_type": "code",
   "execution_count": 172,
   "metadata": {
    "ExecuteTime": {
     "end_time": "2017-08-16T08:52:32.564667Z",
     "start_time": "2017-08-16T08:52:32.554641Z"
    }
   },
   "outputs": [
    {
     "data": {
      "text/html": [
       "<div>\n",
       "<style>\n",
       "    .dataframe thead tr:only-child th {\n",
       "        text-align: right;\n",
       "    }\n",
       "\n",
       "    .dataframe thead th {\n",
       "        text-align: left;\n",
       "    }\n",
       "\n",
       "    .dataframe tbody tr th {\n",
       "        vertical-align: top;\n",
       "    }\n",
       "</style>\n",
       "<table border=\"1\" class=\"dataframe\">\n",
       "  <thead>\n",
       "    <tr style=\"text-align: right;\">\n",
       "      <th></th>\n",
       "      <th>col1</th>\n",
       "      <th>col2</th>\n",
       "      <th>col3</th>\n",
       "      <th>col4</th>\n",
       "    </tr>\n",
       "  </thead>\n",
       "  <tbody>\n",
       "    <tr>\n",
       "      <th>one</th>\n",
       "      <td>0</td>\n",
       "      <td>1</td>\n",
       "      <td>2</td>\n",
       "      <td>11</td>\n",
       "    </tr>\n",
       "    <tr>\n",
       "      <th>two</th>\n",
       "      <td>3</td>\n",
       "      <td>4</td>\n",
       "      <td>5</td>\n",
       "      <td>12</td>\n",
       "    </tr>\n",
       "    <tr>\n",
       "      <th>three</th>\n",
       "      <td>6</td>\n",
       "      <td>7</td>\n",
       "      <td>8</td>\n",
       "      <td>13</td>\n",
       "    </tr>\n",
       "  </tbody>\n",
       "</table>\n",
       "</div>"
      ],
      "text/plain": [
       "       col1  col2  col3  col4\n",
       "one       0     1     2    11\n",
       "two       3     4     5    12\n",
       "three     6     7     8    13"
      ]
     },
     "execution_count": 172,
     "metadata": {},
     "output_type": "execute_result"
    }
   ],
   "source": [
    "sr = pd.Series([11,12,13], index=[\"one\", \"two\", \"three\"], name=\"col4\")\n",
    "pd.concat([df,sr], axis=1)"
   ]
  },
  {
   "cell_type": "code",
   "execution_count": 173,
   "metadata": {
    "ExecuteTime": {
     "end_time": "2017-08-16T08:52:32.780240Z",
     "start_time": "2017-08-16T08:52:32.768208Z"
    }
   },
   "outputs": [
    {
     "data": {
      "text/html": [
       "<div>\n",
       "<style>\n",
       "    .dataframe thead tr:only-child th {\n",
       "        text-align: right;\n",
       "    }\n",
       "\n",
       "    .dataframe thead th {\n",
       "        text-align: left;\n",
       "    }\n",
       "\n",
       "    .dataframe tbody tr th {\n",
       "        vertical-align: top;\n",
       "    }\n",
       "</style>\n",
       "<table border=\"1\" class=\"dataframe\">\n",
       "  <thead>\n",
       "    <tr style=\"text-align: right;\">\n",
       "      <th></th>\n",
       "      <th>col1</th>\n",
       "      <th>col2</th>\n",
       "      <th>col3</th>\n",
       "      <th>0</th>\n",
       "    </tr>\n",
       "  </thead>\n",
       "  <tbody>\n",
       "    <tr>\n",
       "      <th>one</th>\n",
       "      <td>0.0</td>\n",
       "      <td>1.0</td>\n",
       "      <td>2.0</td>\n",
       "      <td>NaN</td>\n",
       "    </tr>\n",
       "    <tr>\n",
       "      <th>two</th>\n",
       "      <td>3.0</td>\n",
       "      <td>4.0</td>\n",
       "      <td>5.0</td>\n",
       "      <td>NaN</td>\n",
       "    </tr>\n",
       "    <tr>\n",
       "      <th>three</th>\n",
       "      <td>6.0</td>\n",
       "      <td>7.0</td>\n",
       "      <td>8.0</td>\n",
       "      <td>NaN</td>\n",
       "    </tr>\n",
       "    <tr>\n",
       "      <th>one</th>\n",
       "      <td>NaN</td>\n",
       "      <td>NaN</td>\n",
       "      <td>NaN</td>\n",
       "      <td>11.0</td>\n",
       "    </tr>\n",
       "    <tr>\n",
       "      <th>two</th>\n",
       "      <td>NaN</td>\n",
       "      <td>NaN</td>\n",
       "      <td>NaN</td>\n",
       "      <td>12.0</td>\n",
       "    </tr>\n",
       "    <tr>\n",
       "      <th>three</th>\n",
       "      <td>NaN</td>\n",
       "      <td>NaN</td>\n",
       "      <td>NaN</td>\n",
       "      <td>13.0</td>\n",
       "    </tr>\n",
       "  </tbody>\n",
       "</table>\n",
       "</div>"
      ],
      "text/plain": [
       "       col1  col2  col3     0\n",
       "one     0.0   1.0   2.0   NaN\n",
       "two     3.0   4.0   5.0   NaN\n",
       "three   6.0   7.0   8.0   NaN\n",
       "one     NaN   NaN   NaN  11.0\n",
       "two     NaN   NaN   NaN  12.0\n",
       "three   NaN   NaN   NaN  13.0"
      ]
     },
     "execution_count": 173,
     "metadata": {},
     "output_type": "execute_result"
    }
   ],
   "source": [
    "pd.concat([df,sr], axis=0)"
   ]
  },
  {
   "cell_type": "code",
   "execution_count": 174,
   "metadata": {
    "ExecuteTime": {
     "end_time": "2017-08-16T08:52:34.919451Z",
     "start_time": "2017-08-16T08:52:34.915444Z"
    },
    "collapsed": true
   },
   "outputs": [],
   "source": [
    "# pd.concat([df,np.array([11,12,13])]) # ERROR"
   ]
  },
  {
   "cell_type": "markdown",
   "metadata": {},
   "source": [
    "### 列の削除 (drop)"
   ]
  },
  {
   "cell_type": "markdown",
   "metadata": {},
   "source": [
    "- drop\n",
    " - 行や列を削除する\n",
    "   - 行方向 => axis=0\n",
    "   - 列方向 => axis=1\n",
    " - デフォルトでは行の削除 (axis=0)"
   ]
  },
  {
   "cell_type": "code",
   "execution_count": 175,
   "metadata": {
    "ExecuteTime": {
     "end_time": "2017-08-16T08:52:35.622318Z",
     "start_time": "2017-08-16T08:52:35.612292Z"
    },
    "scrolled": true
   },
   "outputs": [
    {
     "data": {
      "text/html": [
       "<div>\n",
       "<style>\n",
       "    .dataframe thead tr:only-child th {\n",
       "        text-align: right;\n",
       "    }\n",
       "\n",
       "    .dataframe thead th {\n",
       "        text-align: left;\n",
       "    }\n",
       "\n",
       "    .dataframe tbody tr th {\n",
       "        vertical-align: top;\n",
       "    }\n",
       "</style>\n",
       "<table border=\"1\" class=\"dataframe\">\n",
       "  <thead>\n",
       "    <tr style=\"text-align: right;\">\n",
       "      <th></th>\n",
       "      <th>col1</th>\n",
       "      <th>col2</th>\n",
       "      <th>col3</th>\n",
       "    </tr>\n",
       "  </thead>\n",
       "  <tbody>\n",
       "    <tr>\n",
       "      <th>one</th>\n",
       "      <td>0</td>\n",
       "      <td>1</td>\n",
       "      <td>2</td>\n",
       "    </tr>\n",
       "    <tr>\n",
       "      <th>two</th>\n",
       "      <td>3</td>\n",
       "      <td>4</td>\n",
       "      <td>5</td>\n",
       "    </tr>\n",
       "    <tr>\n",
       "      <th>three</th>\n",
       "      <td>6</td>\n",
       "      <td>7</td>\n",
       "      <td>8</td>\n",
       "    </tr>\n",
       "  </tbody>\n",
       "</table>\n",
       "</div>"
      ],
      "text/plain": [
       "       col1  col2  col3\n",
       "one       0     1     2\n",
       "two       3     4     5\n",
       "three     6     7     8"
      ]
     },
     "execution_count": 175,
     "metadata": {},
     "output_type": "execute_result"
    }
   ],
   "source": [
    "df = pd.DataFrame(np.arange(9).reshape(3,3), \n",
    "                  index=[\"one\", \"two\", \"three\"], columns=[\"col1\",\"col2\",\"col3\"])\n",
    "df"
   ]
  },
  {
   "cell_type": "code",
   "execution_count": 176,
   "metadata": {
    "ExecuteTime": {
     "end_time": "2017-08-16T08:52:35.840899Z",
     "start_time": "2017-08-16T08:52:35.832878Z"
    }
   },
   "outputs": [
    {
     "data": {
      "text/html": [
       "<div>\n",
       "<style>\n",
       "    .dataframe thead tr:only-child th {\n",
       "        text-align: right;\n",
       "    }\n",
       "\n",
       "    .dataframe thead th {\n",
       "        text-align: left;\n",
       "    }\n",
       "\n",
       "    .dataframe tbody tr th {\n",
       "        vertical-align: top;\n",
       "    }\n",
       "</style>\n",
       "<table border=\"1\" class=\"dataframe\">\n",
       "  <thead>\n",
       "    <tr style=\"text-align: right;\">\n",
       "      <th></th>\n",
       "      <th>col1</th>\n",
       "      <th>col3</th>\n",
       "    </tr>\n",
       "  </thead>\n",
       "  <tbody>\n",
       "    <tr>\n",
       "      <th>one</th>\n",
       "      <td>0</td>\n",
       "      <td>2</td>\n",
       "    </tr>\n",
       "    <tr>\n",
       "      <th>two</th>\n",
       "      <td>3</td>\n",
       "      <td>5</td>\n",
       "    </tr>\n",
       "    <tr>\n",
       "      <th>three</th>\n",
       "      <td>6</td>\n",
       "      <td>8</td>\n",
       "    </tr>\n",
       "  </tbody>\n",
       "</table>\n",
       "</div>"
      ],
      "text/plain": [
       "       col1  col3\n",
       "one       0     2\n",
       "two       3     5\n",
       "three     6     8"
      ]
     },
     "execution_count": 176,
     "metadata": {},
     "output_type": "execute_result"
    }
   ],
   "source": [
    "df.drop(\"col2\", axis=1)"
   ]
  },
  {
   "cell_type": "markdown",
   "metadata": {},
   "source": [
    "### 列の削除 (del)"
   ]
  },
  {
   "cell_type": "markdown",
   "metadata": {},
   "source": [
    "- 破壊的メソッド、その列を削除する"
   ]
  },
  {
   "cell_type": "code",
   "execution_count": 23,
   "metadata": {
    "ExecuteTime": {
     "end_time": "2017-08-21T16:39:38.218143Z",
     "start_time": "2017-08-21T16:39:38.209119Z"
    },
    "scrolled": true
   },
   "outputs": [
    {
     "data": {
      "text/html": [
       "<div>\n",
       "<style>\n",
       "    .dataframe thead tr:only-child th {\n",
       "        text-align: right;\n",
       "    }\n",
       "\n",
       "    .dataframe thead th {\n",
       "        text-align: left;\n",
       "    }\n",
       "\n",
       "    .dataframe tbody tr th {\n",
       "        vertical-align: top;\n",
       "    }\n",
       "</style>\n",
       "<table border=\"1\" class=\"dataframe\">\n",
       "  <thead>\n",
       "    <tr style=\"text-align: right;\">\n",
       "      <th></th>\n",
       "      <th>col1</th>\n",
       "      <th>col2</th>\n",
       "      <th>col3</th>\n",
       "    </tr>\n",
       "  </thead>\n",
       "  <tbody>\n",
       "    <tr>\n",
       "      <th>one</th>\n",
       "      <td>0</td>\n",
       "      <td>1</td>\n",
       "      <td>2</td>\n",
       "    </tr>\n",
       "    <tr>\n",
       "      <th>two</th>\n",
       "      <td>3</td>\n",
       "      <td>4</td>\n",
       "      <td>5</td>\n",
       "    </tr>\n",
       "    <tr>\n",
       "      <th>three</th>\n",
       "      <td>6</td>\n",
       "      <td>7</td>\n",
       "      <td>8</td>\n",
       "    </tr>\n",
       "  </tbody>\n",
       "</table>\n",
       "</div>"
      ],
      "text/plain": [
       "       col1  col2  col3\n",
       "one       0     1     2\n",
       "two       3     4     5\n",
       "three     6     7     8"
      ]
     },
     "execution_count": 23,
     "metadata": {},
     "output_type": "execute_result"
    }
   ],
   "source": [
    "df = pd.DataFrame(np.arange(9).reshape(3,3), \n",
    "                  index=[\"one\", \"two\", \"three\"], columns=[\"col1\",\"col2\",\"col3\"])\n",
    "df"
   ]
  },
  {
   "cell_type": "code",
   "execution_count": 24,
   "metadata": {
    "ExecuteTime": {
     "end_time": "2017-08-21T16:39:41.581969Z",
     "start_time": "2017-08-21T16:39:41.571942Z"
    }
   },
   "outputs": [
    {
     "data": {
      "text/html": [
       "<div>\n",
       "<style>\n",
       "    .dataframe thead tr:only-child th {\n",
       "        text-align: right;\n",
       "    }\n",
       "\n",
       "    .dataframe thead th {\n",
       "        text-align: left;\n",
       "    }\n",
       "\n",
       "    .dataframe tbody tr th {\n",
       "        vertical-align: top;\n",
       "    }\n",
       "</style>\n",
       "<table border=\"1\" class=\"dataframe\">\n",
       "  <thead>\n",
       "    <tr style=\"text-align: right;\">\n",
       "      <th></th>\n",
       "      <th>col2</th>\n",
       "      <th>col3</th>\n",
       "    </tr>\n",
       "  </thead>\n",
       "  <tbody>\n",
       "    <tr>\n",
       "      <th>one</th>\n",
       "      <td>1</td>\n",
       "      <td>2</td>\n",
       "    </tr>\n",
       "    <tr>\n",
       "      <th>two</th>\n",
       "      <td>4</td>\n",
       "      <td>5</td>\n",
       "    </tr>\n",
       "    <tr>\n",
       "      <th>three</th>\n",
       "      <td>7</td>\n",
       "      <td>8</td>\n",
       "    </tr>\n",
       "  </tbody>\n",
       "</table>\n",
       "</div>"
      ],
      "text/plain": [
       "       col2  col3\n",
       "one       1     2\n",
       "two       4     5\n",
       "three     7     8"
      ]
     },
     "execution_count": 24,
     "metadata": {},
     "output_type": "execute_result"
    }
   ],
   "source": [
    "del df[\"col1\"]\n",
    "df"
   ]
  },
  {
   "cell_type": "code",
   "execution_count": 27,
   "metadata": {
    "ExecuteTime": {
     "end_time": "2017-08-21T16:40:27.503220Z",
     "start_time": "2017-08-21T16:40:27.493192Z"
    }
   },
   "outputs": [
    {
     "ename": "AttributeError",
     "evalue": "__delitem__",
     "output_type": "error",
     "traceback": [
      "\u001b[1;31m---------------------------------------------------------------------------\u001b[0m",
      "\u001b[1;31mAttributeError\u001b[0m                            Traceback (most recent call last)",
      "\u001b[1;32m<ipython-input-27-84cb36f581ee>\u001b[0m in \u001b[0;36m<module>\u001b[1;34m()\u001b[0m\n\u001b[1;32m----> 1\u001b[1;33m \u001b[1;32mdel\u001b[0m \u001b[0mdf\u001b[0m\u001b[1;33m.\u001b[0m\u001b[0mloc\u001b[0m\u001b[1;33m[\u001b[0m\u001b[1;34m\"one\"\u001b[0m\u001b[1;33m]\u001b[0m\u001b[1;33m\u001b[0m\u001b[0m\n\u001b[0m",
      "\u001b[1;31mAttributeError\u001b[0m: __delitem__"
     ]
    }
   ],
   "source": [
    "del df.loc[\"one\"]"
   ]
  },
  {
   "cell_type": "code",
   "execution_count": null,
   "metadata": {
    "collapsed": true
   },
   "outputs": [],
   "source": []
  },
  {
   "cell_type": "markdown",
   "metadata": {},
   "source": [
    "## 行操作"
   ]
  },
  {
   "cell_type": "markdown",
   "metadata": {},
   "source": [
    "### 行の追加 (append)"
   ]
  },
  {
   "cell_type": "markdown",
   "metadata": {
    "ExecuteTime": {
     "end_time": "2017-08-10T06:59:02.431923Z",
     "start_time": "2017-08-10T06:59:02.426910Z"
    }
   },
   "source": [
    "- 多分、ndarrayが横ベクトルなので、追加は単位だと思う、\n",
    " - つまり、1つのレコードは横ベクトル\n",
    " - その集合は、行列\n",
    "- append\n",
    " - df_object.append( Series(index指定), ignore_index=True) => indexが初期化される、最終行に追加される\n",
    "   - name指定がない場合、ignote_index＝Trueとしなければ例外が発生する\n",
    " - df_object.append( Series(index指定, name指定)) => name指定がインデックスとなり、最終行に追加される"
   ]
  },
  {
   "cell_type": "code",
   "execution_count": 2,
   "metadata": {
    "ExecuteTime": {
     "end_time": "2017-08-21T16:34:14.130237Z",
     "start_time": "2017-08-21T16:34:14.114194Z"
    },
    "scrolled": true
   },
   "outputs": [
    {
     "data": {
      "text/html": [
       "<div>\n",
       "<style>\n",
       "    .dataframe thead tr:only-child th {\n",
       "        text-align: right;\n",
       "    }\n",
       "\n",
       "    .dataframe thead th {\n",
       "        text-align: left;\n",
       "    }\n",
       "\n",
       "    .dataframe tbody tr th {\n",
       "        vertical-align: top;\n",
       "    }\n",
       "</style>\n",
       "<table border=\"1\" class=\"dataframe\">\n",
       "  <thead>\n",
       "    <tr style=\"text-align: right;\">\n",
       "      <th></th>\n",
       "      <th>col1</th>\n",
       "      <th>col2</th>\n",
       "      <th>col3</th>\n",
       "    </tr>\n",
       "  </thead>\n",
       "  <tbody>\n",
       "    <tr>\n",
       "      <th>one</th>\n",
       "      <td>0</td>\n",
       "      <td>1</td>\n",
       "      <td>2</td>\n",
       "    </tr>\n",
       "    <tr>\n",
       "      <th>two</th>\n",
       "      <td>3</td>\n",
       "      <td>4</td>\n",
       "      <td>5</td>\n",
       "    </tr>\n",
       "    <tr>\n",
       "      <th>three</th>\n",
       "      <td>6</td>\n",
       "      <td>7</td>\n",
       "      <td>8</td>\n",
       "    </tr>\n",
       "  </tbody>\n",
       "</table>\n",
       "</div>"
      ],
      "text/plain": [
       "       col1  col2  col3\n",
       "one       0     1     2\n",
       "two       3     4     5\n",
       "three     6     7     8"
      ]
     },
     "execution_count": 2,
     "metadata": {},
     "output_type": "execute_result"
    }
   ],
   "source": [
    "df = pd.DataFrame(np.arange(9).reshape(3,3), \n",
    "                  index=[\"one\", \"two\", \"three\"], columns=[\"col1\",\"col2\",\"col3\"])\n",
    "df"
   ]
  },
  {
   "cell_type": "code",
   "execution_count": 3,
   "metadata": {
    "ExecuteTime": {
     "end_time": "2017-08-21T16:34:15.378739Z",
     "start_time": "2017-08-21T16:34:15.368712Z"
    }
   },
   "outputs": [
    {
     "data": {
      "text/html": [
       "<div>\n",
       "<style>\n",
       "    .dataframe thead tr:only-child th {\n",
       "        text-align: right;\n",
       "    }\n",
       "\n",
       "    .dataframe thead th {\n",
       "        text-align: left;\n",
       "    }\n",
       "\n",
       "    .dataframe tbody tr th {\n",
       "        vertical-align: top;\n",
       "    }\n",
       "</style>\n",
       "<table border=\"1\" class=\"dataframe\">\n",
       "  <thead>\n",
       "    <tr style=\"text-align: right;\">\n",
       "      <th></th>\n",
       "      <th>col1</th>\n",
       "      <th>col2</th>\n",
       "      <th>col3</th>\n",
       "    </tr>\n",
       "  </thead>\n",
       "  <tbody>\n",
       "    <tr>\n",
       "      <th>0</th>\n",
       "      <td>0</td>\n",
       "      <td>1</td>\n",
       "      <td>2</td>\n",
       "    </tr>\n",
       "    <tr>\n",
       "      <th>1</th>\n",
       "      <td>3</td>\n",
       "      <td>4</td>\n",
       "      <td>5</td>\n",
       "    </tr>\n",
       "    <tr>\n",
       "      <th>2</th>\n",
       "      <td>6</td>\n",
       "      <td>7</td>\n",
       "      <td>8</td>\n",
       "    </tr>\n",
       "    <tr>\n",
       "      <th>3</th>\n",
       "      <td>10</td>\n",
       "      <td>11</td>\n",
       "      <td>12</td>\n",
       "    </tr>\n",
       "  </tbody>\n",
       "</table>\n",
       "</div>"
      ],
      "text/plain": [
       "   col1  col2  col3\n",
       "0     0     1     2\n",
       "1     3     4     5\n",
       "2     6     7     8\n",
       "3    10    11    12"
      ]
     },
     "execution_count": 3,
     "metadata": {},
     "output_type": "execute_result"
    }
   ],
   "source": [
    "df.append(pd.Series([10,11,12], index=[\"col1\", \"col2\",\"col3\"]), ignore_index=True)"
   ]
  },
  {
   "cell_type": "code",
   "execution_count": 4,
   "metadata": {
    "ExecuteTime": {
     "end_time": "2017-08-21T16:34:16.506214Z",
     "start_time": "2017-08-21T16:34:16.494184Z"
    }
   },
   "outputs": [
    {
     "data": {
      "text/html": [
       "<div>\n",
       "<style>\n",
       "    .dataframe thead tr:only-child th {\n",
       "        text-align: right;\n",
       "    }\n",
       "\n",
       "    .dataframe thead th {\n",
       "        text-align: left;\n",
       "    }\n",
       "\n",
       "    .dataframe tbody tr th {\n",
       "        vertical-align: top;\n",
       "    }\n",
       "</style>\n",
       "<table border=\"1\" class=\"dataframe\">\n",
       "  <thead>\n",
       "    <tr style=\"text-align: right;\">\n",
       "      <th></th>\n",
       "      <th>col1</th>\n",
       "      <th>col2</th>\n",
       "      <th>col3</th>\n",
       "    </tr>\n",
       "  </thead>\n",
       "  <tbody>\n",
       "    <tr>\n",
       "      <th>one</th>\n",
       "      <td>0</td>\n",
       "      <td>1</td>\n",
       "      <td>2</td>\n",
       "    </tr>\n",
       "    <tr>\n",
       "      <th>two</th>\n",
       "      <td>3</td>\n",
       "      <td>4</td>\n",
       "      <td>5</td>\n",
       "    </tr>\n",
       "    <tr>\n",
       "      <th>three</th>\n",
       "      <td>6</td>\n",
       "      <td>7</td>\n",
       "      <td>8</td>\n",
       "    </tr>\n",
       "    <tr>\n",
       "      <th>Ax</th>\n",
       "      <td>10</td>\n",
       "      <td>11</td>\n",
       "      <td>12</td>\n",
       "    </tr>\n",
       "  </tbody>\n",
       "</table>\n",
       "</div>"
      ],
      "text/plain": [
       "       col1  col2  col3\n",
       "one       0     1     2\n",
       "two       3     4     5\n",
       "three     6     7     8\n",
       "Ax       10    11    12"
      ]
     },
     "execution_count": 4,
     "metadata": {},
     "output_type": "execute_result"
    }
   ],
   "source": [
    "df.append(pd.Series([10,11,12], index=[\"col1\", \"col2\",\"col3\"], name=\"Ax\"))"
   ]
  },
  {
   "cell_type": "markdown",
   "metadata": {},
   "source": [
    "### 行の追加 (concat)"
   ]
  },
  {
   "cell_type": "markdown",
   "metadata": {},
   "source": [
    "- pd.concat\n",
    " - 行や列を追加する\n",
    "   - 行方向 => axis=0\n",
    "   - 列方向 => axis= 1\n",
    " - デフォルトは行の方向の追加( axis = 0)\n",
    " - 追加できるのは、NDFrameオブジェクト( pd.Series, pd.DataFrame )のみ"
   ]
  },
  {
   "cell_type": "code",
   "execution_count": 5,
   "metadata": {
    "ExecuteTime": {
     "end_time": "2017-08-21T16:34:22.283626Z",
     "start_time": "2017-08-21T16:34:22.273599Z"
    }
   },
   "outputs": [
    {
     "data": {
      "text/html": [
       "<div>\n",
       "<style>\n",
       "    .dataframe thead tr:only-child th {\n",
       "        text-align: right;\n",
       "    }\n",
       "\n",
       "    .dataframe thead th {\n",
       "        text-align: left;\n",
       "    }\n",
       "\n",
       "    .dataframe tbody tr th {\n",
       "        vertical-align: top;\n",
       "    }\n",
       "</style>\n",
       "<table border=\"1\" class=\"dataframe\">\n",
       "  <thead>\n",
       "    <tr style=\"text-align: right;\">\n",
       "      <th></th>\n",
       "      <th>col1</th>\n",
       "      <th>col2</th>\n",
       "      <th>col3</th>\n",
       "    </tr>\n",
       "  </thead>\n",
       "  <tbody>\n",
       "    <tr>\n",
       "      <th>one</th>\n",
       "      <td>0</td>\n",
       "      <td>1</td>\n",
       "      <td>2</td>\n",
       "    </tr>\n",
       "    <tr>\n",
       "      <th>two</th>\n",
       "      <td>3</td>\n",
       "      <td>4</td>\n",
       "      <td>5</td>\n",
       "    </tr>\n",
       "    <tr>\n",
       "      <th>three</th>\n",
       "      <td>6</td>\n",
       "      <td>7</td>\n",
       "      <td>8</td>\n",
       "    </tr>\n",
       "  </tbody>\n",
       "</table>\n",
       "</div>"
      ],
      "text/plain": [
       "       col1  col2  col3\n",
       "one       0     1     2\n",
       "two       3     4     5\n",
       "three     6     7     8"
      ]
     },
     "execution_count": 5,
     "metadata": {},
     "output_type": "execute_result"
    }
   ],
   "source": [
    "df = pd.DataFrame(np.arange(9).reshape(3,3), \n",
    "                  index=[\"one\", \"two\", \"three\"], columns=[\"col1\",\"col2\",\"col3\"])\n",
    "df"
   ]
  },
  {
   "cell_type": "code",
   "execution_count": 6,
   "metadata": {
    "ExecuteTime": {
     "end_time": "2017-08-21T16:34:25.415650Z",
     "start_time": "2017-08-21T16:34:25.402615Z"
    }
   },
   "outputs": [
    {
     "data": {
      "text/html": [
       "<div>\n",
       "<style>\n",
       "    .dataframe thead tr:only-child th {\n",
       "        text-align: right;\n",
       "    }\n",
       "\n",
       "    .dataframe thead th {\n",
       "        text-align: left;\n",
       "    }\n",
       "\n",
       "    .dataframe tbody tr th {\n",
       "        vertical-align: top;\n",
       "    }\n",
       "</style>\n",
       "<table border=\"1\" class=\"dataframe\">\n",
       "  <thead>\n",
       "    <tr style=\"text-align: right;\">\n",
       "      <th></th>\n",
       "      <th>col1</th>\n",
       "      <th>col2</th>\n",
       "      <th>col3</th>\n",
       "    </tr>\n",
       "  </thead>\n",
       "  <tbody>\n",
       "    <tr>\n",
       "      <th>one</th>\n",
       "      <td>0</td>\n",
       "      <td>1</td>\n",
       "      <td>2</td>\n",
       "    </tr>\n",
       "    <tr>\n",
       "      <th>two</th>\n",
       "      <td>3</td>\n",
       "      <td>4</td>\n",
       "      <td>5</td>\n",
       "    </tr>\n",
       "    <tr>\n",
       "      <th>three</th>\n",
       "      <td>6</td>\n",
       "      <td>7</td>\n",
       "      <td>8</td>\n",
       "    </tr>\n",
       "    <tr>\n",
       "      <th>four</th>\n",
       "      <td>11</td>\n",
       "      <td>12</td>\n",
       "      <td>13</td>\n",
       "    </tr>\n",
       "  </tbody>\n",
       "</table>\n",
       "</div>"
      ],
      "text/plain": [
       "       col1  col2  col3\n",
       "one       0     1     2\n",
       "two       3     4     5\n",
       "three     6     7     8\n",
       "four     11    12    13"
      ]
     },
     "execution_count": 6,
     "metadata": {},
     "output_type": "execute_result"
    }
   ],
   "source": [
    "df2 = pd.DataFrame([[11,12,13]], index=[\"four\"], columns=[\"col1\",\"col2\",\"col3\"])\n",
    "pd.concat([df,df2], axis=0)"
   ]
  },
  {
   "cell_type": "code",
   "execution_count": 7,
   "metadata": {
    "ExecuteTime": {
     "end_time": "2017-08-21T16:34:28.460497Z",
     "start_time": "2017-08-21T16:34:28.449468Z"
    }
   },
   "outputs": [
    {
     "data": {
      "text/html": [
       "<div>\n",
       "<style>\n",
       "    .dataframe thead tr:only-child th {\n",
       "        text-align: right;\n",
       "    }\n",
       "\n",
       "    .dataframe thead th {\n",
       "        text-align: left;\n",
       "    }\n",
       "\n",
       "    .dataframe tbody tr th {\n",
       "        vertical-align: top;\n",
       "    }\n",
       "</style>\n",
       "<table border=\"1\" class=\"dataframe\">\n",
       "  <thead>\n",
       "    <tr style=\"text-align: right;\">\n",
       "      <th></th>\n",
       "      <th>col1</th>\n",
       "      <th>col2</th>\n",
       "      <th>col3</th>\n",
       "    </tr>\n",
       "  </thead>\n",
       "  <tbody>\n",
       "    <tr>\n",
       "      <th>one</th>\n",
       "      <td>0</td>\n",
       "      <td>1</td>\n",
       "      <td>2</td>\n",
       "    </tr>\n",
       "    <tr>\n",
       "      <th>two</th>\n",
       "      <td>3</td>\n",
       "      <td>4</td>\n",
       "      <td>5</td>\n",
       "    </tr>\n",
       "    <tr>\n",
       "      <th>three</th>\n",
       "      <td>6</td>\n",
       "      <td>7</td>\n",
       "      <td>8</td>\n",
       "    </tr>\n",
       "    <tr>\n",
       "      <th>four</th>\n",
       "      <td>11</td>\n",
       "      <td>12</td>\n",
       "      <td>13</td>\n",
       "    </tr>\n",
       "  </tbody>\n",
       "</table>\n",
       "</div>"
      ],
      "text/plain": [
       "       col1  col2  col3\n",
       "one       0     1     2\n",
       "two       3     4     5\n",
       "three     6     7     8\n",
       "four     11    12    13"
      ]
     },
     "execution_count": 7,
     "metadata": {},
     "output_type": "execute_result"
    }
   ],
   "source": [
    "df2 = pd.DataFrame([[11,12,13]], index=[\"four\"], columns=df.columns)\n",
    "pd.concat([df,df2])"
   ]
  },
  {
   "cell_type": "code",
   "execution_count": 8,
   "metadata": {
    "ExecuteTime": {
     "end_time": "2017-08-21T16:34:31.647732Z",
     "start_time": "2017-08-21T16:34:31.633695Z"
    }
   },
   "outputs": [
    {
     "data": {
      "text/html": [
       "<div>\n",
       "<style>\n",
       "    .dataframe thead tr:only-child th {\n",
       "        text-align: right;\n",
       "    }\n",
       "\n",
       "    .dataframe thead th {\n",
       "        text-align: left;\n",
       "    }\n",
       "\n",
       "    .dataframe tbody tr th {\n",
       "        vertical-align: top;\n",
       "    }\n",
       "</style>\n",
       "<table border=\"1\" class=\"dataframe\">\n",
       "  <thead>\n",
       "    <tr style=\"text-align: right;\">\n",
       "      <th></th>\n",
       "      <th>col1</th>\n",
       "      <th>col2</th>\n",
       "      <th>col3</th>\n",
       "      <th>col1</th>\n",
       "      <th>col2</th>\n",
       "      <th>col3</th>\n",
       "    </tr>\n",
       "  </thead>\n",
       "  <tbody>\n",
       "    <tr>\n",
       "      <th>four</th>\n",
       "      <td>NaN</td>\n",
       "      <td>NaN</td>\n",
       "      <td>NaN</td>\n",
       "      <td>11.0</td>\n",
       "      <td>12.0</td>\n",
       "      <td>13.0</td>\n",
       "    </tr>\n",
       "    <tr>\n",
       "      <th>one</th>\n",
       "      <td>0.0</td>\n",
       "      <td>1.0</td>\n",
       "      <td>2.0</td>\n",
       "      <td>NaN</td>\n",
       "      <td>NaN</td>\n",
       "      <td>NaN</td>\n",
       "    </tr>\n",
       "    <tr>\n",
       "      <th>three</th>\n",
       "      <td>6.0</td>\n",
       "      <td>7.0</td>\n",
       "      <td>8.0</td>\n",
       "      <td>NaN</td>\n",
       "      <td>NaN</td>\n",
       "      <td>NaN</td>\n",
       "    </tr>\n",
       "    <tr>\n",
       "      <th>two</th>\n",
       "      <td>3.0</td>\n",
       "      <td>4.0</td>\n",
       "      <td>5.0</td>\n",
       "      <td>NaN</td>\n",
       "      <td>NaN</td>\n",
       "      <td>NaN</td>\n",
       "    </tr>\n",
       "  </tbody>\n",
       "</table>\n",
       "</div>"
      ],
      "text/plain": [
       "       col1  col2  col3  col1  col2  col3\n",
       "four    NaN   NaN   NaN  11.0  12.0  13.0\n",
       "one     0.0   1.0   2.0   NaN   NaN   NaN\n",
       "three   6.0   7.0   8.0   NaN   NaN   NaN\n",
       "two     3.0   4.0   5.0   NaN   NaN   NaN"
      ]
     },
     "execution_count": 8,
     "metadata": {},
     "output_type": "execute_result"
    }
   ],
   "source": [
    "df2 = pd.DataFrame([[11,12,13]], index=[\"four\"], columns=[\"col1\",\"col2\",\"col3\"])\n",
    "pd.concat([df,df2], axis=1)"
   ]
  },
  {
   "cell_type": "markdown",
   "metadata": {},
   "source": [
    "### 行の削除 (drop) : 非破壊的メソッド"
   ]
  },
  {
   "cell_type": "markdown",
   "metadata": {},
   "source": [
    "- drop\n",
    " - 行や列を削除する\n",
    "   - 行方向 => axis=0\n",
    "   - 列方向 => axis=1\n",
    " - デフォルトでは行の削除 (axis=0)"
   ]
  },
  {
   "cell_type": "code",
   "execution_count": 28,
   "metadata": {
    "ExecuteTime": {
     "end_time": "2017-08-21T16:40:59.062495Z",
     "start_time": "2017-08-21T16:40:59.053471Z"
    },
    "scrolled": true
   },
   "outputs": [
    {
     "data": {
      "text/html": [
       "<div>\n",
       "<style>\n",
       "    .dataframe thead tr:only-child th {\n",
       "        text-align: right;\n",
       "    }\n",
       "\n",
       "    .dataframe thead th {\n",
       "        text-align: left;\n",
       "    }\n",
       "\n",
       "    .dataframe tbody tr th {\n",
       "        vertical-align: top;\n",
       "    }\n",
       "</style>\n",
       "<table border=\"1\" class=\"dataframe\">\n",
       "  <thead>\n",
       "    <tr style=\"text-align: right;\">\n",
       "      <th></th>\n",
       "      <th>col1</th>\n",
       "      <th>col2</th>\n",
       "      <th>col3</th>\n",
       "    </tr>\n",
       "  </thead>\n",
       "  <tbody>\n",
       "    <tr>\n",
       "      <th>one</th>\n",
       "      <td>0</td>\n",
       "      <td>1</td>\n",
       "      <td>2</td>\n",
       "    </tr>\n",
       "    <tr>\n",
       "      <th>two</th>\n",
       "      <td>3</td>\n",
       "      <td>4</td>\n",
       "      <td>5</td>\n",
       "    </tr>\n",
       "    <tr>\n",
       "      <th>three</th>\n",
       "      <td>6</td>\n",
       "      <td>7</td>\n",
       "      <td>8</td>\n",
       "    </tr>\n",
       "  </tbody>\n",
       "</table>\n",
       "</div>"
      ],
      "text/plain": [
       "       col1  col2  col3\n",
       "one       0     1     2\n",
       "two       3     4     5\n",
       "three     6     7     8"
      ]
     },
     "execution_count": 28,
     "metadata": {},
     "output_type": "execute_result"
    }
   ],
   "source": [
    "df = pd.DataFrame(np.arange(9).reshape(3,3), \n",
    "                  index=[\"one\", \"two\", \"three\"], columns=[\"col1\",\"col2\",\"col3\"])\n",
    "df"
   ]
  },
  {
   "cell_type": "code",
   "execution_count": 29,
   "metadata": {
    "ExecuteTime": {
     "end_time": "2017-08-21T16:40:59.636376Z",
     "start_time": "2017-08-21T16:40:59.629357Z"
    }
   },
   "outputs": [
    {
     "data": {
      "text/html": [
       "<div>\n",
       "<style>\n",
       "    .dataframe thead tr:only-child th {\n",
       "        text-align: right;\n",
       "    }\n",
       "\n",
       "    .dataframe thead th {\n",
       "        text-align: left;\n",
       "    }\n",
       "\n",
       "    .dataframe tbody tr th {\n",
       "        vertical-align: top;\n",
       "    }\n",
       "</style>\n",
       "<table border=\"1\" class=\"dataframe\">\n",
       "  <thead>\n",
       "    <tr style=\"text-align: right;\">\n",
       "      <th></th>\n",
       "      <th>col1</th>\n",
       "      <th>col2</th>\n",
       "      <th>col3</th>\n",
       "    </tr>\n",
       "  </thead>\n",
       "  <tbody>\n",
       "    <tr>\n",
       "      <th>one</th>\n",
       "      <td>0</td>\n",
       "      <td>1</td>\n",
       "      <td>2</td>\n",
       "    </tr>\n",
       "    <tr>\n",
       "      <th>three</th>\n",
       "      <td>6</td>\n",
       "      <td>7</td>\n",
       "      <td>8</td>\n",
       "    </tr>\n",
       "  </tbody>\n",
       "</table>\n",
       "</div>"
      ],
      "text/plain": [
       "       col1  col2  col3\n",
       "one       0     1     2\n",
       "three     6     7     8"
      ]
     },
     "execution_count": 29,
     "metadata": {},
     "output_type": "execute_result"
    }
   ],
   "source": [
    "df.drop(\"two\")"
   ]
  },
  {
   "cell_type": "code",
   "execution_count": 30,
   "metadata": {
    "ExecuteTime": {
     "end_time": "2017-08-21T16:41:04.493668Z",
     "start_time": "2017-08-21T16:41:04.484644Z"
    }
   },
   "outputs": [
    {
     "data": {
      "text/html": [
       "<div>\n",
       "<style>\n",
       "    .dataframe thead tr:only-child th {\n",
       "        text-align: right;\n",
       "    }\n",
       "\n",
       "    .dataframe thead th {\n",
       "        text-align: left;\n",
       "    }\n",
       "\n",
       "    .dataframe tbody tr th {\n",
       "        vertical-align: top;\n",
       "    }\n",
       "</style>\n",
       "<table border=\"1\" class=\"dataframe\">\n",
       "  <thead>\n",
       "    <tr style=\"text-align: right;\">\n",
       "      <th></th>\n",
       "      <th>col1</th>\n",
       "      <th>col2</th>\n",
       "      <th>col3</th>\n",
       "    </tr>\n",
       "  </thead>\n",
       "  <tbody>\n",
       "    <tr>\n",
       "      <th>one</th>\n",
       "      <td>0</td>\n",
       "      <td>1</td>\n",
       "      <td>2</td>\n",
       "    </tr>\n",
       "    <tr>\n",
       "      <th>two</th>\n",
       "      <td>3</td>\n",
       "      <td>4</td>\n",
       "      <td>5</td>\n",
       "    </tr>\n",
       "    <tr>\n",
       "      <th>three</th>\n",
       "      <td>6</td>\n",
       "      <td>7</td>\n",
       "      <td>8</td>\n",
       "    </tr>\n",
       "  </tbody>\n",
       "</table>\n",
       "</div>"
      ],
      "text/plain": [
       "       col1  col2  col3\n",
       "one       0     1     2\n",
       "two       3     4     5\n",
       "three     6     7     8"
      ]
     },
     "execution_count": 30,
     "metadata": {},
     "output_type": "execute_result"
    }
   ],
   "source": [
    "df"
   ]
  },
  {
   "cell_type": "markdown",
   "metadata": {},
   "source": [
    "### ~~行の削除 (del)~~"
   ]
  },
  {
   "cell_type": "markdown",
   "metadata": {},
   "source": [
    "- del は行の場合、うまくないな"
   ]
  },
  {
   "cell_type": "code",
   "execution_count": 34,
   "metadata": {
    "ExecuteTime": {
     "end_time": "2017-08-21T16:42:09.101021Z",
     "start_time": "2017-08-21T16:42:09.098016Z"
    },
    "collapsed": true
   },
   "outputs": [],
   "source": [
    "#del df.iloc[1]"
   ]
  },
  {
   "cell_type": "code",
   "execution_count": 190,
   "metadata": {
    "ExecuteTime": {
     "end_time": "2017-08-16T08:52:44.629923Z",
     "start_time": "2017-08-16T08:52:44.626914Z"
    },
    "collapsed": true
   },
   "outputs": [],
   "source": [
    "# del df[\"one\"] # ERROR"
   ]
  },
  {
   "cell_type": "markdown",
   "metadata": {},
   "source": [
    "## copy"
   ]
  },
  {
   "cell_type": "code",
   "execution_count": 191,
   "metadata": {
    "ExecuteTime": {
     "end_time": "2017-08-16T08:52:45.462417Z",
     "start_time": "2017-08-16T08:52:45.453396Z"
    },
    "scrolled": true
   },
   "outputs": [
    {
     "data": {
      "text/html": [
       "<div>\n",
       "<style>\n",
       "    .dataframe thead tr:only-child th {\n",
       "        text-align: right;\n",
       "    }\n",
       "\n",
       "    .dataframe thead th {\n",
       "        text-align: left;\n",
       "    }\n",
       "\n",
       "    .dataframe tbody tr th {\n",
       "        vertical-align: top;\n",
       "    }\n",
       "</style>\n",
       "<table border=\"1\" class=\"dataframe\">\n",
       "  <thead>\n",
       "    <tr style=\"text-align: right;\">\n",
       "      <th></th>\n",
       "      <th>col1</th>\n",
       "      <th>col2</th>\n",
       "      <th>col3</th>\n",
       "    </tr>\n",
       "  </thead>\n",
       "  <tbody>\n",
       "    <tr>\n",
       "      <th>one</th>\n",
       "      <td>0</td>\n",
       "      <td>1</td>\n",
       "      <td>2</td>\n",
       "    </tr>\n",
       "    <tr>\n",
       "      <th>two</th>\n",
       "      <td>3</td>\n",
       "      <td>4</td>\n",
       "      <td>5</td>\n",
       "    </tr>\n",
       "    <tr>\n",
       "      <th>three</th>\n",
       "      <td>6</td>\n",
       "      <td>7</td>\n",
       "      <td>8</td>\n",
       "    </tr>\n",
       "  </tbody>\n",
       "</table>\n",
       "</div>"
      ],
      "text/plain": [
       "       col1  col2  col3\n",
       "one       0     1     2\n",
       "two       3     4     5\n",
       "three     6     7     8"
      ]
     },
     "execution_count": 191,
     "metadata": {},
     "output_type": "execute_result"
    }
   ],
   "source": [
    "df = pd.DataFrame(np.arange(9).reshape(3,3), \n",
    "                  index=[\"one\", \"two\", \"three\"], columns=[\"col1\",\"col2\",\"col3\"])\n",
    "df"
   ]
  },
  {
   "cell_type": "code",
   "execution_count": 35,
   "metadata": {
    "ExecuteTime": {
     "end_time": "2017-08-21T16:43:12.167112Z",
     "start_time": "2017-08-21T16:43:12.160093Z"
    }
   },
   "outputs": [
    {
     "data": {
      "text/plain": [
       "one      0\n",
       "two      3\n",
       "three    6\n",
       "Name: col1, dtype: int32"
      ]
     },
     "execution_count": 35,
     "metadata": {},
     "output_type": "execute_result"
    }
   ],
   "source": [
    "col1 = df[\"col1\"].copy()\n",
    "col1"
   ]
  },
  {
   "cell_type": "markdown",
   "metadata": {},
   "source": [
    "## 行や列の並び替え  (reindex)"
   ]
  },
  {
   "cell_type": "markdown",
   "metadata": {},
   "source": [
    "- reindex\n",
    " - 広い意味での再インデックス、つまり、行や列の並び替えをする\n",
    "   - 引数として行方向の操作をする index= \n",
    "   - 引数として列方向の操作をする columns =\n",
    "   - index=, columns= は同時に指定できる\n",
    "   - 名前指定をしない場合、直接リストを指定する場合は、index 操作\n",
    " - その他、内挿、穴埋めのための引数 method= 、欠損値のための引数 fill_value= などがある\n",
    " - **列の追加、削除の操作としても利用できる**"
   ]
  },
  {
   "cell_type": "code",
   "execution_count": 193,
   "metadata": {
    "ExecuteTime": {
     "end_time": "2017-08-16T08:52:46.424976Z",
     "start_time": "2017-08-16T08:52:46.415952Z"
    },
    "scrolled": true
   },
   "outputs": [
    {
     "data": {
      "text/html": [
       "<div>\n",
       "<style>\n",
       "    .dataframe thead tr:only-child th {\n",
       "        text-align: right;\n",
       "    }\n",
       "\n",
       "    .dataframe thead th {\n",
       "        text-align: left;\n",
       "    }\n",
       "\n",
       "    .dataframe tbody tr th {\n",
       "        vertical-align: top;\n",
       "    }\n",
       "</style>\n",
       "<table border=\"1\" class=\"dataframe\">\n",
       "  <thead>\n",
       "    <tr style=\"text-align: right;\">\n",
       "      <th></th>\n",
       "      <th>col1</th>\n",
       "      <th>col2</th>\n",
       "      <th>col3</th>\n",
       "    </tr>\n",
       "  </thead>\n",
       "  <tbody>\n",
       "    <tr>\n",
       "      <th>one</th>\n",
       "      <td>0</td>\n",
       "      <td>1</td>\n",
       "      <td>2</td>\n",
       "    </tr>\n",
       "    <tr>\n",
       "      <th>two</th>\n",
       "      <td>3</td>\n",
       "      <td>4</td>\n",
       "      <td>5</td>\n",
       "    </tr>\n",
       "    <tr>\n",
       "      <th>three</th>\n",
       "      <td>6</td>\n",
       "      <td>7</td>\n",
       "      <td>8</td>\n",
       "    </tr>\n",
       "  </tbody>\n",
       "</table>\n",
       "</div>"
      ],
      "text/plain": [
       "       col1  col2  col3\n",
       "one       0     1     2\n",
       "two       3     4     5\n",
       "three     6     7     8"
      ]
     },
     "execution_count": 193,
     "metadata": {},
     "output_type": "execute_result"
    }
   ],
   "source": [
    "df = pd.DataFrame(np.arange(9).reshape(3,3), \n",
    "                  index=[\"one\", \"two\", \"three\"], columns=[\"col1\",\"col2\",\"col3\"])\n",
    "df"
   ]
  },
  {
   "cell_type": "code",
   "execution_count": 194,
   "metadata": {
    "ExecuteTime": {
     "end_time": "2017-08-16T08:52:46.657594Z",
     "start_time": "2017-08-16T08:52:46.646565Z"
    }
   },
   "outputs": [
    {
     "data": {
      "text/html": [
       "<div>\n",
       "<style>\n",
       "    .dataframe thead tr:only-child th {\n",
       "        text-align: right;\n",
       "    }\n",
       "\n",
       "    .dataframe thead th {\n",
       "        text-align: left;\n",
       "    }\n",
       "\n",
       "    .dataframe tbody tr th {\n",
       "        vertical-align: top;\n",
       "    }\n",
       "</style>\n",
       "<table border=\"1\" class=\"dataframe\">\n",
       "  <thead>\n",
       "    <tr style=\"text-align: right;\">\n",
       "      <th></th>\n",
       "      <th>col3</th>\n",
       "      <th>col1</th>\n",
       "      <th>col2</th>\n",
       "    </tr>\n",
       "  </thead>\n",
       "  <tbody>\n",
       "    <tr>\n",
       "      <th>one</th>\n",
       "      <td>2</td>\n",
       "      <td>0</td>\n",
       "      <td>1</td>\n",
       "    </tr>\n",
       "    <tr>\n",
       "      <th>two</th>\n",
       "      <td>5</td>\n",
       "      <td>3</td>\n",
       "      <td>4</td>\n",
       "    </tr>\n",
       "    <tr>\n",
       "      <th>three</th>\n",
       "      <td>8</td>\n",
       "      <td>6</td>\n",
       "      <td>7</td>\n",
       "    </tr>\n",
       "  </tbody>\n",
       "</table>\n",
       "</div>"
      ],
      "text/plain": [
       "       col3  col1  col2\n",
       "one       2     0     1\n",
       "two       5     3     4\n",
       "three     8     6     7"
      ]
     },
     "execution_count": 194,
     "metadata": {},
     "output_type": "execute_result"
    }
   ],
   "source": [
    "df.reindex(columns=[\"col3\",\"col1\",\"col2\"])"
   ]
  },
  {
   "cell_type": "code",
   "execution_count": 195,
   "metadata": {
    "ExecuteTime": {
     "end_time": "2017-08-16T08:52:46.932324Z",
     "start_time": "2017-08-16T08:52:46.923301Z"
    }
   },
   "outputs": [
    {
     "data": {
      "text/html": [
       "<div>\n",
       "<style>\n",
       "    .dataframe thead tr:only-child th {\n",
       "        text-align: right;\n",
       "    }\n",
       "\n",
       "    .dataframe thead th {\n",
       "        text-align: left;\n",
       "    }\n",
       "\n",
       "    .dataframe tbody tr th {\n",
       "        vertical-align: top;\n",
       "    }\n",
       "</style>\n",
       "<table border=\"1\" class=\"dataframe\">\n",
       "  <thead>\n",
       "    <tr style=\"text-align: right;\">\n",
       "      <th></th>\n",
       "      <th>col1</th>\n",
       "      <th>col2</th>\n",
       "      <th>col3</th>\n",
       "    </tr>\n",
       "  </thead>\n",
       "  <tbody>\n",
       "    <tr>\n",
       "      <th>two</th>\n",
       "      <td>3</td>\n",
       "      <td>4</td>\n",
       "      <td>5</td>\n",
       "    </tr>\n",
       "    <tr>\n",
       "      <th>three</th>\n",
       "      <td>6</td>\n",
       "      <td>7</td>\n",
       "      <td>8</td>\n",
       "    </tr>\n",
       "    <tr>\n",
       "      <th>one</th>\n",
       "      <td>0</td>\n",
       "      <td>1</td>\n",
       "      <td>2</td>\n",
       "    </tr>\n",
       "  </tbody>\n",
       "</table>\n",
       "</div>"
      ],
      "text/plain": [
       "       col1  col2  col3\n",
       "two       3     4     5\n",
       "three     6     7     8\n",
       "one       0     1     2"
      ]
     },
     "execution_count": 195,
     "metadata": {},
     "output_type": "execute_result"
    }
   ],
   "source": [
    "df.reindex(index=[\"two\",\"three\",\"one\"])"
   ]
  },
  {
   "cell_type": "code",
   "execution_count": 196,
   "metadata": {
    "ExecuteTime": {
     "end_time": "2017-08-16T08:52:47.176976Z",
     "start_time": "2017-08-16T08:52:47.168954Z"
    }
   },
   "outputs": [
    {
     "data": {
      "text/html": [
       "<div>\n",
       "<style>\n",
       "    .dataframe thead tr:only-child th {\n",
       "        text-align: right;\n",
       "    }\n",
       "\n",
       "    .dataframe thead th {\n",
       "        text-align: left;\n",
       "    }\n",
       "\n",
       "    .dataframe tbody tr th {\n",
       "        vertical-align: top;\n",
       "    }\n",
       "</style>\n",
       "<table border=\"1\" class=\"dataframe\">\n",
       "  <thead>\n",
       "    <tr style=\"text-align: right;\">\n",
       "      <th></th>\n",
       "      <th>col2</th>\n",
       "      <th>col1</th>\n",
       "      <th>col3</th>\n",
       "    </tr>\n",
       "  </thead>\n",
       "  <tbody>\n",
       "    <tr>\n",
       "      <th>one</th>\n",
       "      <td>1</td>\n",
       "      <td>0</td>\n",
       "      <td>2</td>\n",
       "    </tr>\n",
       "    <tr>\n",
       "      <th>three</th>\n",
       "      <td>7</td>\n",
       "      <td>6</td>\n",
       "      <td>8</td>\n",
       "    </tr>\n",
       "    <tr>\n",
       "      <th>two</th>\n",
       "      <td>4</td>\n",
       "      <td>3</td>\n",
       "      <td>5</td>\n",
       "    </tr>\n",
       "    <tr>\n",
       "      <th>four</th>\n",
       "      <td>99</td>\n",
       "      <td>99</td>\n",
       "      <td>99</td>\n",
       "    </tr>\n",
       "  </tbody>\n",
       "</table>\n",
       "</div>"
      ],
      "text/plain": [
       "       col2  col1  col3\n",
       "one       1     0     2\n",
       "three     7     6     8\n",
       "two       4     3     5\n",
       "four     99    99    99"
      ]
     },
     "execution_count": 196,
     "metadata": {},
     "output_type": "execute_result"
    }
   ],
   "source": [
    "df.reindex(columns=[\"col2\",\"col1\",\"col3\"], index=[\"one\",\"three\",\"two\",\"four\"], fill_value=99)"
   ]
  },
  {
   "cell_type": "markdown",
   "metadata": {},
   "source": [
    "- 列の場合は、列のリストでの指定も可能"
   ]
  },
  {
   "cell_type": "code",
   "execution_count": 197,
   "metadata": {
    "ExecuteTime": {
     "end_time": "2017-08-16T08:52:47.716411Z",
     "start_time": "2017-08-16T08:52:47.708387Z"
    }
   },
   "outputs": [
    {
     "data": {
      "text/html": [
       "<div>\n",
       "<style>\n",
       "    .dataframe thead tr:only-child th {\n",
       "        text-align: right;\n",
       "    }\n",
       "\n",
       "    .dataframe thead th {\n",
       "        text-align: left;\n",
       "    }\n",
       "\n",
       "    .dataframe tbody tr th {\n",
       "        vertical-align: top;\n",
       "    }\n",
       "</style>\n",
       "<table border=\"1\" class=\"dataframe\">\n",
       "  <thead>\n",
       "    <tr style=\"text-align: right;\">\n",
       "      <th></th>\n",
       "      <th>col1</th>\n",
       "      <th>col2</th>\n",
       "      <th>col3</th>\n",
       "    </tr>\n",
       "  </thead>\n",
       "  <tbody>\n",
       "    <tr>\n",
       "      <th>one</th>\n",
       "      <td>0</td>\n",
       "      <td>1</td>\n",
       "      <td>2</td>\n",
       "    </tr>\n",
       "    <tr>\n",
       "      <th>two</th>\n",
       "      <td>3</td>\n",
       "      <td>4</td>\n",
       "      <td>5</td>\n",
       "    </tr>\n",
       "    <tr>\n",
       "      <th>three</th>\n",
       "      <td>6</td>\n",
       "      <td>7</td>\n",
       "      <td>8</td>\n",
       "    </tr>\n",
       "  </tbody>\n",
       "</table>\n",
       "</div>"
      ],
      "text/plain": [
       "       col1  col2  col3\n",
       "one       0     1     2\n",
       "two       3     4     5\n",
       "three     6     7     8"
      ]
     },
     "execution_count": 197,
     "metadata": {},
     "output_type": "execute_result"
    }
   ],
   "source": [
    "df[[\"col1\",\"col2\",\"col3\"]]"
   ]
  },
  {
   "cell_type": "markdown",
   "metadata": {},
   "source": [
    "## MultiIndex"
   ]
  },
  {
   "cell_type": "markdown",
   "metadata": {},
   "source": [
    "### コンストラクタ"
   ]
  },
  {
   "cell_type": "code",
   "execution_count": 123,
   "metadata": {
    "ExecuteTime": {
     "end_time": "2017-08-14T07:39:37.487674Z",
     "start_time": "2017-08-14T07:39:37.473638Z"
    }
   },
   "outputs": [
    {
     "data": {
      "text/html": [
       "<div>\n",
       "<style>\n",
       "    .dataframe thead tr:only-child th {\n",
       "        text-align: right;\n",
       "    }\n",
       "\n",
       "    .dataframe thead th {\n",
       "        text-align: left;\n",
       "    }\n",
       "\n",
       "    .dataframe tbody tr th {\n",
       "        vertical-align: top;\n",
       "    }\n",
       "</style>\n",
       "<table border=\"1\" class=\"dataframe\">\n",
       "  <thead>\n",
       "    <tr style=\"text-align: right;\">\n",
       "      <th></th>\n",
       "      <th></th>\n",
       "      <th>好き</th>\n",
       "      <th>嫌い</th>\n",
       "      <th>興味なし</th>\n",
       "    </tr>\n",
       "  </thead>\n",
       "  <tbody>\n",
       "    <tr>\n",
       "      <th rowspan=\"2\" valign=\"top\">関東</th>\n",
       "      <th>東京</th>\n",
       "      <td>0</td>\n",
       "      <td>1</td>\n",
       "      <td>2</td>\n",
       "    </tr>\n",
       "    <tr>\n",
       "      <th>千葉</th>\n",
       "      <td>3</td>\n",
       "      <td>4</td>\n",
       "      <td>5</td>\n",
       "    </tr>\n",
       "    <tr>\n",
       "      <th rowspan=\"2\" valign=\"top\">関西</th>\n",
       "      <th>大阪</th>\n",
       "      <td>6</td>\n",
       "      <td>7</td>\n",
       "      <td>8</td>\n",
       "    </tr>\n",
       "    <tr>\n",
       "      <th>京都</th>\n",
       "      <td>9</td>\n",
       "      <td>10</td>\n",
       "      <td>11</td>\n",
       "    </tr>\n",
       "  </tbody>\n",
       "</table>\n",
       "</div>"
      ],
      "text/plain": [
       "       好き  嫌い  興味なし\n",
       "関東 東京   0   1     2\n",
       "   千葉   3   4     5\n",
       "関西 大阪   6   7     8\n",
       "   京都   9  10    11"
      ]
     },
     "execution_count": 123,
     "metadata": {},
     "output_type": "execute_result"
    }
   ],
   "source": [
    "df = pd.DataFrame(np.arange(12).reshape(4,3), \n",
    "                  index=[[\"関東\",\"関東\",\"関西\", \"関西\"], [\"東京\", \"千葉\", \"大阪\",\"京都\"]], \n",
    "                  columns=[\"好き\",\"嫌い\",\"興味なし\"])\n",
    "df"
   ]
  },
  {
   "cell_type": "code",
   "execution_count": 129,
   "metadata": {
    "ExecuteTime": {
     "end_time": "2017-08-14T07:41:03.657154Z",
     "start_time": "2017-08-14T07:41:03.650631Z"
    }
   },
   "outputs": [
    {
     "data": {
      "text/plain": [
       "MultiIndex(levels=[['関東', '関西'], ['京都', '千葉', '大阪', '東京']],\n",
       "           labels=[[0, 0, 1, 1], [3, 1, 2, 0]])"
      ]
     },
     "execution_count": 129,
     "metadata": {},
     "output_type": "execute_result"
    }
   ],
   "source": [
    "df.index"
   ]
  },
  {
   "cell_type": "code",
   "execution_count": 128,
   "metadata": {
    "ExecuteTime": {
     "end_time": "2017-08-14T07:40:56.888231Z",
     "start_time": "2017-08-14T07:40:56.882216Z"
    }
   },
   "outputs": [
    {
     "data": {
      "text/plain": [
       "Index(['好き', '嫌い', '興味なし'], dtype='object')"
      ]
     },
     "execution_count": 128,
     "metadata": {},
     "output_type": "execute_result"
    }
   ],
   "source": [
    "df.columns"
   ]
  },
  {
   "cell_type": "code",
   "execution_count": 131,
   "metadata": {
    "ExecuteTime": {
     "end_time": "2017-08-14T07:42:44.816080Z",
     "start_time": "2017-08-14T07:42:44.808059Z"
    }
   },
   "outputs": [
    {
     "data": {
      "text/html": [
       "<div>\n",
       "<style>\n",
       "    .dataframe thead tr:only-child th {\n",
       "        text-align: right;\n",
       "    }\n",
       "\n",
       "    .dataframe thead th {\n",
       "        text-align: left;\n",
       "    }\n",
       "\n",
       "    .dataframe tbody tr th {\n",
       "        vertical-align: top;\n",
       "    }\n",
       "</style>\n",
       "<table border=\"1\" class=\"dataframe\">\n",
       "  <thead>\n",
       "    <tr style=\"text-align: right;\">\n",
       "      <th></th>\n",
       "      <th>好き</th>\n",
       "      <th>嫌い</th>\n",
       "      <th>興味なし</th>\n",
       "    </tr>\n",
       "  </thead>\n",
       "  <tbody>\n",
       "    <tr>\n",
       "      <th>東京</th>\n",
       "      <td>0</td>\n",
       "      <td>1</td>\n",
       "      <td>2</td>\n",
       "    </tr>\n",
       "    <tr>\n",
       "      <th>千葉</th>\n",
       "      <td>3</td>\n",
       "      <td>4</td>\n",
       "      <td>5</td>\n",
       "    </tr>\n",
       "  </tbody>\n",
       "</table>\n",
       "</div>"
      ],
      "text/plain": [
       "    好き  嫌い  興味なし\n",
       "東京   0   1     2\n",
       "千葉   3   4     5"
      ]
     },
     "execution_count": 131,
     "metadata": {},
     "output_type": "execute_result"
    }
   ],
   "source": [
    "df.loc[\"関東\"]"
   ]
  },
  {
   "cell_type": "code",
   "execution_count": 134,
   "metadata": {
    "ExecuteTime": {
     "end_time": "2017-08-14T07:43:43.666767Z",
     "start_time": "2017-08-14T07:43:43.656742Z"
    }
   },
   "outputs": [
    {
     "data": {
      "text/plain": [
       "好き      3\n",
       "嫌い      4\n",
       "興味なし    5\n",
       "Name: (関東, 千葉), dtype: int32"
      ]
     },
     "execution_count": 134,
     "metadata": {},
     "output_type": "execute_result"
    }
   ],
   "source": [
    "df.loc[\"関東\",\"千葉\"]"
   ]
  },
  {
   "cell_type": "code",
   "execution_count": 136,
   "metadata": {
    "ExecuteTime": {
     "end_time": "2017-08-14T07:44:30.579771Z",
     "start_time": "2017-08-14T07:44:30.571750Z"
    }
   },
   "outputs": [
    {
     "data": {
      "text/plain": [
       "関東  東京    0\n",
       "    千葉    3\n",
       "Name: 好き, dtype: int32"
      ]
     },
     "execution_count": 136,
     "metadata": {},
     "output_type": "execute_result"
    }
   ],
   "source": [
    "df.loc[[\"関東\",\"千葉\"],\"好き\"]"
   ]
  },
  {
   "cell_type": "markdown",
   "metadata": {},
   "source": [
    "### 列をインデックスにする\n",
    "- RDB的なデータから、マルチインデックスに変換"
   ]
  },
  {
   "cell_type": "code",
   "execution_count": 153,
   "metadata": {
    "ExecuteTime": {
     "end_time": "2017-08-14T08:01:09.529599Z",
     "start_time": "2017-08-14T08:01:09.513557Z"
    }
   },
   "outputs": [
    {
     "data": {
      "text/html": [
       "<div>\n",
       "<style>\n",
       "    .dataframe thead tr:only-child th {\n",
       "        text-align: right;\n",
       "    }\n",
       "\n",
       "    .dataframe thead th {\n",
       "        text-align: left;\n",
       "    }\n",
       "\n",
       "    .dataframe tbody tr th {\n",
       "        vertical-align: top;\n",
       "    }\n",
       "</style>\n",
       "<table border=\"1\" class=\"dataframe\">\n",
       "  <thead>\n",
       "    <tr style=\"text-align: right;\">\n",
       "      <th></th>\n",
       "      <th>地域</th>\n",
       "      <th>好き</th>\n",
       "      <th>嫌い</th>\n",
       "      <th>県</th>\n",
       "      <th>興味なし</th>\n",
       "    </tr>\n",
       "  </thead>\n",
       "  <tbody>\n",
       "    <tr>\n",
       "      <th>0</th>\n",
       "      <td>関東</td>\n",
       "      <td>0</td>\n",
       "      <td>1</td>\n",
       "      <td>東京</td>\n",
       "      <td>2</td>\n",
       "    </tr>\n",
       "    <tr>\n",
       "      <th>1</th>\n",
       "      <td>関東</td>\n",
       "      <td>3</td>\n",
       "      <td>4</td>\n",
       "      <td>千葉</td>\n",
       "      <td>5</td>\n",
       "    </tr>\n",
       "    <tr>\n",
       "      <th>2</th>\n",
       "      <td>関西</td>\n",
       "      <td>6</td>\n",
       "      <td>7</td>\n",
       "      <td>大阪</td>\n",
       "      <td>8</td>\n",
       "    </tr>\n",
       "    <tr>\n",
       "      <th>3</th>\n",
       "      <td>関西</td>\n",
       "      <td>9</td>\n",
       "      <td>10</td>\n",
       "      <td>京都</td>\n",
       "      <td>11</td>\n",
       "    </tr>\n",
       "  </tbody>\n",
       "</table>\n",
       "</div>"
      ],
      "text/plain": [
       "   地域  好き  嫌い   県  興味なし\n",
       "0  関東   0   1  東京     2\n",
       "1  関東   3   4  千葉     5\n",
       "2  関西   6   7  大阪     8\n",
       "3  関西   9  10  京都    11"
      ]
     },
     "execution_count": 153,
     "metadata": {},
     "output_type": "execute_result"
    }
   ],
   "source": [
    "data = {\"地域\":[\"関東\",\"関東\",\"関西\",\"関西\"], \"県\":[\"東京\", \"千葉\", \"大阪\",\"京都\"],\n",
    "       \"好き\":[0,3,6,9], \"嫌い\":[1,4,7,10], \"興味なし\":[2,5,8,11]}\n",
    "df = pd.DataFrame(data)\n",
    "df"
   ]
  },
  {
   "cell_type": "code",
   "execution_count": 148,
   "metadata": {
    "ExecuteTime": {
     "end_time": "2017-08-14T07:57:23.059786Z",
     "start_time": "2017-08-14T07:57:23.045749Z"
    }
   },
   "outputs": [
    {
     "data": {
      "text/html": [
       "<div>\n",
       "<style>\n",
       "    .dataframe thead tr:only-child th {\n",
       "        text-align: right;\n",
       "    }\n",
       "\n",
       "    .dataframe thead th {\n",
       "        text-align: left;\n",
       "    }\n",
       "\n",
       "    .dataframe tbody tr th {\n",
       "        vertical-align: top;\n",
       "    }\n",
       "</style>\n",
       "<table border=\"1\" class=\"dataframe\">\n",
       "  <thead>\n",
       "    <tr style=\"text-align: right;\">\n",
       "      <th></th>\n",
       "      <th></th>\n",
       "      <th>好き</th>\n",
       "      <th>嫌い</th>\n",
       "      <th>興味なし</th>\n",
       "    </tr>\n",
       "    <tr>\n",
       "      <th>地域</th>\n",
       "      <th>県</th>\n",
       "      <th></th>\n",
       "      <th></th>\n",
       "      <th></th>\n",
       "    </tr>\n",
       "  </thead>\n",
       "  <tbody>\n",
       "    <tr>\n",
       "      <th rowspan=\"2\" valign=\"top\">関東</th>\n",
       "      <th>東京</th>\n",
       "      <td>0</td>\n",
       "      <td>1</td>\n",
       "      <td>2</td>\n",
       "    </tr>\n",
       "    <tr>\n",
       "      <th>千葉</th>\n",
       "      <td>3</td>\n",
       "      <td>4</td>\n",
       "      <td>5</td>\n",
       "    </tr>\n",
       "    <tr>\n",
       "      <th rowspan=\"2\" valign=\"top\">関西</th>\n",
       "      <th>大阪</th>\n",
       "      <td>6</td>\n",
       "      <td>7</td>\n",
       "      <td>8</td>\n",
       "    </tr>\n",
       "    <tr>\n",
       "      <th>京都</th>\n",
       "      <td>9</td>\n",
       "      <td>10</td>\n",
       "      <td>11</td>\n",
       "    </tr>\n",
       "  </tbody>\n",
       "</table>\n",
       "</div>"
      ],
      "text/plain": [
       "       好き  嫌い  興味なし\n",
       "地域 県               \n",
       "関東 東京   0   1     2\n",
       "   千葉   3   4     5\n",
       "関西 大阪   6   7     8\n",
       "   京都   9  10    11"
      ]
     },
     "execution_count": 148,
     "metadata": {},
     "output_type": "execute_result"
    }
   ],
   "source": [
    "df2 = df.set_index([\"地域\",\"県\"])\n",
    "df2"
   ]
  },
  {
   "cell_type": "code",
   "execution_count": 150,
   "metadata": {
    "ExecuteTime": {
     "end_time": "2017-08-14T07:58:34.505899Z",
     "start_time": "2017-08-14T07:58:34.497879Z"
    },
    "scrolled": true
   },
   "outputs": [
    {
     "data": {
      "text/plain": [
       "MultiIndex(levels=[['関東', '関西'], ['京都', '千葉', '大阪', '東京']],\n",
       "           labels=[[0, 0, 1, 1], [3, 1, 2, 0]],\n",
       "           names=['地域', '県'])"
      ]
     },
     "execution_count": 150,
     "metadata": {},
     "output_type": "execute_result"
    }
   ],
   "source": [
    "df2.index"
   ]
  },
  {
   "cell_type": "markdown",
   "metadata": {},
   "source": [
    "### MultiIndexの解除"
   ]
  },
  {
   "cell_type": "code",
   "execution_count": 154,
   "metadata": {
    "ExecuteTime": {
     "end_time": "2017-08-14T08:01:42.180995Z",
     "start_time": "2017-08-14T08:01:42.168462Z"
    }
   },
   "outputs": [
    {
     "data": {
      "text/html": [
       "<div>\n",
       "<style>\n",
       "    .dataframe thead tr:only-child th {\n",
       "        text-align: right;\n",
       "    }\n",
       "\n",
       "    .dataframe thead th {\n",
       "        text-align: left;\n",
       "    }\n",
       "\n",
       "    .dataframe tbody tr th {\n",
       "        vertical-align: top;\n",
       "    }\n",
       "</style>\n",
       "<table border=\"1\" class=\"dataframe\">\n",
       "  <thead>\n",
       "    <tr style=\"text-align: right;\">\n",
       "      <th></th>\n",
       "      <th>地域</th>\n",
       "      <th>県</th>\n",
       "      <th>好き</th>\n",
       "      <th>嫌い</th>\n",
       "      <th>興味なし</th>\n",
       "    </tr>\n",
       "  </thead>\n",
       "  <tbody>\n",
       "    <tr>\n",
       "      <th>0</th>\n",
       "      <td>関東</td>\n",
       "      <td>東京</td>\n",
       "      <td>0</td>\n",
       "      <td>1</td>\n",
       "      <td>2</td>\n",
       "    </tr>\n",
       "    <tr>\n",
       "      <th>1</th>\n",
       "      <td>関東</td>\n",
       "      <td>千葉</td>\n",
       "      <td>3</td>\n",
       "      <td>4</td>\n",
       "      <td>5</td>\n",
       "    </tr>\n",
       "    <tr>\n",
       "      <th>2</th>\n",
       "      <td>関西</td>\n",
       "      <td>大阪</td>\n",
       "      <td>6</td>\n",
       "      <td>7</td>\n",
       "      <td>8</td>\n",
       "    </tr>\n",
       "    <tr>\n",
       "      <th>3</th>\n",
       "      <td>関西</td>\n",
       "      <td>京都</td>\n",
       "      <td>9</td>\n",
       "      <td>10</td>\n",
       "      <td>11</td>\n",
       "    </tr>\n",
       "  </tbody>\n",
       "</table>\n",
       "</div>"
      ],
      "text/plain": [
       "   地域   県  好き  嫌い  興味なし\n",
       "0  関東  東京   0   1     2\n",
       "1  関東  千葉   3   4     5\n",
       "2  関西  大阪   6   7     8\n",
       "3  関西  京都   9  10    11"
      ]
     },
     "execution_count": 154,
     "metadata": {},
     "output_type": "execute_result"
    }
   ],
   "source": [
    "df2.reset_index()"
   ]
  },
  {
   "cell_type": "code",
   "execution_count": null,
   "metadata": {
    "collapsed": true
   },
   "outputs": [],
   "source": []
  },
  {
   "cell_type": "markdown",
   "metadata": {},
   "source": [
    "## 関数の適用 (apply)"
   ]
  },
  {
   "cell_type": "code",
   "execution_count": 106,
   "metadata": {
    "ExecuteTime": {
     "end_time": "2017-08-14T07:27:12.739890Z",
     "start_time": "2017-08-14T07:27:12.731868Z"
    },
    "scrolled": true
   },
   "outputs": [
    {
     "data": {
      "text/html": [
       "<div>\n",
       "<style>\n",
       "    .dataframe thead tr:only-child th {\n",
       "        text-align: right;\n",
       "    }\n",
       "\n",
       "    .dataframe thead th {\n",
       "        text-align: left;\n",
       "    }\n",
       "\n",
       "    .dataframe tbody tr th {\n",
       "        vertical-align: top;\n",
       "    }\n",
       "</style>\n",
       "<table border=\"1\" class=\"dataframe\">\n",
       "  <thead>\n",
       "    <tr style=\"text-align: right;\">\n",
       "      <th></th>\n",
       "      <th>col1</th>\n",
       "      <th>col2</th>\n",
       "      <th>col3</th>\n",
       "    </tr>\n",
       "  </thead>\n",
       "  <tbody>\n",
       "    <tr>\n",
       "      <th>one</th>\n",
       "      <td>0</td>\n",
       "      <td>1</td>\n",
       "      <td>2</td>\n",
       "    </tr>\n",
       "    <tr>\n",
       "      <th>two</th>\n",
       "      <td>3</td>\n",
       "      <td>4</td>\n",
       "      <td>5</td>\n",
       "    </tr>\n",
       "    <tr>\n",
       "      <th>three</th>\n",
       "      <td>6</td>\n",
       "      <td>7</td>\n",
       "      <td>8</td>\n",
       "    </tr>\n",
       "  </tbody>\n",
       "</table>\n",
       "</div>"
      ],
      "text/plain": [
       "       col1  col2  col3\n",
       "one       0     1     2\n",
       "two       3     4     5\n",
       "three     6     7     8"
      ]
     },
     "execution_count": 106,
     "metadata": {},
     "output_type": "execute_result"
    }
   ],
   "source": [
    "df = pd.DataFrame(np.arange(9).reshape(3,3), \n",
    "                  index=[\"one\", \"two\", \"three\"], columns=[\"col1\",\"col2\",\"col3\"])\n",
    "df"
   ]
  },
  {
   "cell_type": "code",
   "execution_count": 107,
   "metadata": {
    "ExecuteTime": {
     "end_time": "2017-08-14T07:27:13.462599Z",
     "start_time": "2017-08-14T07:27:13.452571Z"
    }
   },
   "outputs": [
    {
     "data": {
      "text/html": [
       "<div>\n",
       "<style>\n",
       "    .dataframe thead tr:only-child th {\n",
       "        text-align: right;\n",
       "    }\n",
       "\n",
       "    .dataframe thead th {\n",
       "        text-align: left;\n",
       "    }\n",
       "\n",
       "    .dataframe tbody tr th {\n",
       "        vertical-align: top;\n",
       "    }\n",
       "</style>\n",
       "<table border=\"1\" class=\"dataframe\">\n",
       "  <thead>\n",
       "    <tr style=\"text-align: right;\">\n",
       "      <th></th>\n",
       "      <th>col1</th>\n",
       "      <th>col2</th>\n",
       "      <th>col3</th>\n",
       "    </tr>\n",
       "  </thead>\n",
       "  <tbody>\n",
       "    <tr>\n",
       "      <th>min</th>\n",
       "      <td>0</td>\n",
       "      <td>1</td>\n",
       "      <td>2</td>\n",
       "    </tr>\n",
       "    <tr>\n",
       "      <th>max</th>\n",
       "      <td>6</td>\n",
       "      <td>7</td>\n",
       "      <td>8</td>\n",
       "    </tr>\n",
       "  </tbody>\n",
       "</table>\n",
       "</div>"
      ],
      "text/plain": [
       "     col1  col2  col3\n",
       "min     0     1     2\n",
       "max     6     7     8"
      ]
     },
     "execution_count": 107,
     "metadata": {},
     "output_type": "execute_result"
    }
   ],
   "source": [
    "df.apply(lambda x: pd.Series([x.min(), x.max()], index=[\"min\",\"max\"]), axis=0)"
   ]
  },
  {
   "cell_type": "code",
   "execution_count": 108,
   "metadata": {
    "ExecuteTime": {
     "end_time": "2017-08-14T07:27:14.103072Z",
     "start_time": "2017-08-14T07:27:14.092044Z"
    }
   },
   "outputs": [
    {
     "data": {
      "text/html": [
       "<div>\n",
       "<style>\n",
       "    .dataframe thead tr:only-child th {\n",
       "        text-align: right;\n",
       "    }\n",
       "\n",
       "    .dataframe thead th {\n",
       "        text-align: left;\n",
       "    }\n",
       "\n",
       "    .dataframe tbody tr th {\n",
       "        vertical-align: top;\n",
       "    }\n",
       "</style>\n",
       "<table border=\"1\" class=\"dataframe\">\n",
       "  <thead>\n",
       "    <tr style=\"text-align: right;\">\n",
       "      <th></th>\n",
       "      <th>min</th>\n",
       "      <th>max</th>\n",
       "    </tr>\n",
       "  </thead>\n",
       "  <tbody>\n",
       "    <tr>\n",
       "      <th>one</th>\n",
       "      <td>0</td>\n",
       "      <td>2</td>\n",
       "    </tr>\n",
       "    <tr>\n",
       "      <th>two</th>\n",
       "      <td>3</td>\n",
       "      <td>5</td>\n",
       "    </tr>\n",
       "    <tr>\n",
       "      <th>three</th>\n",
       "      <td>6</td>\n",
       "      <td>8</td>\n",
       "    </tr>\n",
       "  </tbody>\n",
       "</table>\n",
       "</div>"
      ],
      "text/plain": [
       "       min  max\n",
       "one      0    2\n",
       "two      3    5\n",
       "three    6    8"
      ]
     },
     "execution_count": 108,
     "metadata": {},
     "output_type": "execute_result"
    }
   ],
   "source": [
    "df.apply(lambda x: pd.Series([x.min(), x.max()], index=[\"min\",\"max\"]), axis=1)"
   ]
  },
  {
   "cell_type": "code",
   "execution_count": null,
   "metadata": {
    "collapsed": true
   },
   "outputs": [],
   "source": []
  },
  {
   "cell_type": "code",
   "execution_count": null,
   "metadata": {
    "collapsed": true
   },
   "outputs": [],
   "source": []
  },
  {
   "cell_type": "code",
   "execution_count": null,
   "metadata": {
    "collapsed": true
   },
   "outputs": [],
   "source": []
  },
  {
   "cell_type": "code",
   "execution_count": null,
   "metadata": {
    "collapsed": true
   },
   "outputs": [],
   "source": []
  },
  {
   "cell_type": "code",
   "execution_count": null,
   "metadata": {
    "collapsed": true
   },
   "outputs": [],
   "source": []
  }
 ],
 "metadata": {
  "kernelspec": {
   "display_name": "Python 3",
   "language": "python",
   "name": "python3"
  },
  "language_info": {
   "codemirror_mode": {
    "name": "ipython",
    "version": 3
   },
   "file_extension": ".py",
   "mimetype": "text/x-python",
   "name": "python",
   "nbconvert_exporter": "python",
   "pygments_lexer": "ipython3",
   "version": "3.5.3"
  },
  "toc": {
   "colors": {
    "hover_highlight": "#DAA520",
    "navigate_num": "#000000",
    "navigate_text": "#333333",
    "running_highlight": "#FF0000",
    "selected_highlight": "#FFD700",
    "sidebar_border": "#EEEEEE",
    "wrapper_background": "#FFFFFF"
   },
   "moveMenuLeft": true,
   "nav_menu": {
    "height": "368px",
    "width": "252px"
   },
   "navigate_menu": true,
   "number_sections": true,
   "sideBar": true,
   "threshold": 4,
   "toc_cell": false,
   "toc_position": {
    "height": "747px",
    "left": "0px",
    "right": "1226.22px",
    "top": "107px",
    "width": "234px"
   },
   "toc_section_display": "block",
   "toc_window_display": true,
   "widenNotebook": false
  },
  "varInspector": {
   "cols": {
    "lenName": 16,
    "lenType": 16,
    "lenVar": 40
   },
   "kernels_config": {
    "python": {
     "delete_cmd_postfix": "",
     "delete_cmd_prefix": "del ",
     "library": "var_list.py",
     "varRefreshCmd": "print(var_dic_list())"
    },
    "r": {
     "delete_cmd_postfix": ") ",
     "delete_cmd_prefix": "rm(",
     "library": "var_list.r",
     "varRefreshCmd": "cat(var_dic_list()) "
    }
   },
   "types_to_exclude": [
    "module",
    "function",
    "builtin_function_or_method",
    "instance",
    "_Feature"
   ],
   "window_display": false
  }
 },
 "nbformat": 4,
 "nbformat_minor": 2
}
