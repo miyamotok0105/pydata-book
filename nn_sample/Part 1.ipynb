{
 "cells": [
  {
   "cell_type": "code",
   "execution_count": 9,
   "metadata": {
    "collapsed": true
   },
   "outputs": [],
   "source": [
    "#http://peterroelants.github.io/posts/neural_network_implementation_part01/\n",
    "#https://github.com/peterroelants/peterroelants.github.io/blob/master/notebooks/neural_net_implementation/neural_network_implementation_part01.ipynb\n",
    "import numpy as np\n",
    "from numpy.random import randn\n",
    "import os\n",
    "import matplotlib.pyplot as plt\n",
    "import pandas as pd\n",
    "\n",
    "%matplotlib inline"
   ]
  },
  {
   "cell_type": "markdown",
   "metadata": {},
   "source": [
    "# 目的関数　target function"
   ]
  },
  {
   "cell_type": "code",
   "execution_count": 4,
   "metadata": {
    "collapsed": true
   },
   "outputs": [],
   "source": [
    "# Define the vector of input samples as x, with 20 values sampled from a uniform distribution\n",
    "# between 0 and 1\n",
    "x = np.random.uniform(0, 1, 20)\n",
    "\n",
    "# Generate the target values t from x with small gaussian noise so the estimation won't\n",
    "# be perfect.\n",
    "# Define a function f that represents the line that generates t without noise\n",
    "def f(x): return x * 2\n",
    "\n",
    "# Create the targets t with some gaussian noise\n",
    "noise_variance = 0.2  # Variance of the gaussian noise\n",
    "# Gaussian noise error for each sample in x\n",
    "noise = np.random.randn(x.shape[0]) * noise_variance\n",
    "# Create targets t\n",
    "t = f(x) + noise"
   ]
  },
  {
   "cell_type": "code",
   "execution_count": 5,
   "metadata": {},
   "outputs": [
    {
     "name": "stdout",
     "output_type": "stream",
     "text": [
      "[-60.  -59.9 -59.8 ...,  59.7  59.8  59.9]\n"
     ]
    }
   ],
   "source": [
    "print(np.arange(-60, 60, 0.1))\n",
    "# plt.plot(, x)"
   ]
  },
  {
   "cell_type": "markdown",
   "metadata": {
    "collapsed": true
   },
   "source": [
    "# 損失関数　cost function"
   ]
  },
  {
   "cell_type": "code",
   "execution_count": 6,
   "metadata": {
    "collapsed": true
   },
   "outputs": [],
   "source": [
    "# Define the neural network function y = x * w\n",
    "def nn(x, w): return x * w\n",
    "\n",
    "# Define the cost function\n",
    "def cost(y, t): return ((t - y)**2).sum()"
   ]
  },
  {
   "cell_type": "markdown",
   "metadata": {},
   "source": [
    "# 最適化　Optimizing the cost function"
   ]
  },
  {
   "cell_type": "code",
   "execution_count": 7,
   "metadata": {},
   "outputs": [
    {
     "name": "stdout",
     "output_type": "stream",
     "text": [
      "w(0): 0.1000 \t cost: 29.8302\n",
      "w(1): 3.1655 \t cost: 12.0933\n",
      "w(2): 1.2572 \t cost: 5.2197\n",
      "w(3): 2.4452 \t cost: 2.5559\n",
      "w(4): 1.7056 \t cost: 1.5236\n"
     ]
    }
   ],
   "source": [
    "# define the gradient function. Remember that y = nn(x, w) = x * w\n",
    "def gradient(w, x, t): \n",
    "    return 2 * x * (nn(x, w) - t)\n",
    "\n",
    "# define the update function delta w\n",
    "def delta_w(w_k, x, t, learning_rate):\n",
    "    return learning_rate * gradient(w_k, x, t).sum()\n",
    "\n",
    "# Set the initial weight parameter\n",
    "w = 0.1\n",
    "# Set the learning rate\n",
    "learning_rate = 0.1\n",
    "\n",
    "# Start performing the gradient descent updates, and print the weights and cost:\n",
    "nb_of_iterations = 4  # number of gradient descent updates\n",
    "w_cost = [(w, cost(nn(x, w), t))] # List to store the weight,costs values\n",
    "for i in range(nb_of_iterations):\n",
    "    dw = delta_w(w, x, t, learning_rate)  # Get the delta w update\n",
    "    w = w - dw  # Update the current weight parameter\n",
    "    w_cost.append((w, cost(nn(x, w), t)))  # Add weight,cost to list\n",
    "\n",
    "# Print the final w, and cost\n",
    "for i in range(0, len(w_cost)):\n",
    "    print('w({}): {:.4f} \\t cost: {:.4f}'.format(i, w_cost[i][0], w_cost[i][1]))"
   ]
  },
  {
   "cell_type": "code",
   "execution_count": 8,
   "metadata": {
    "collapsed": true
   },
   "outputs": [],
   "source": [
    "w = 0\n",
    "# Start performing the gradient descent updates\n",
    "nb_of_iterations = 10  # number of gradient descent updates\n",
    "for i in range(nb_of_iterations):\n",
    "    dw = delta_w(w, x, t, learning_rate)  # get the delta w update\n",
    "    w = w - dw  # update the current weight parameter\n",
    "    "
   ]
  },
  {
   "cell_type": "code",
   "execution_count": null,
   "metadata": {
    "collapsed": true
   },
   "outputs": [],
   "source": []
  }
 ],
 "metadata": {
  "kernelspec": {
   "display_name": "Python 3",
   "language": "python",
   "name": "python3"
  },
  "language_info": {
   "codemirror_mode": {
    "name": "ipython",
    "version": 3
   },
   "file_extension": ".py",
   "mimetype": "text/x-python",
   "name": "python",
   "nbconvert_exporter": "python",
   "pygments_lexer": "ipython3",
   "version": "3.5.3"
  }
 },
 "nbformat": 4,
 "nbformat_minor": 2
}
