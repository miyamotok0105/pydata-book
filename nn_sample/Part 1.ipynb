{
 "cells": [
  {
   "cell_type": "code",
   "execution_count": 7,
   "metadata": {
    "collapsed": true
   },
   "outputs": [],
   "source": [
    "#http://peterroelants.github.io/posts/neural_network_implementation_part01/\n",
    "import numpy as np\n",
    "from numpy.random import randn\n",
    "import os\n",
    "import matplotlib.pyplot as plt\n",
    "import pandas as pd\n",
    "\n",
    "%matplotlib inline"
   ]
  },
  {
   "cell_type": "markdown",
   "metadata": {},
   "source": [
    "# Define the target function"
   ]
  },
  {
   "cell_type": "code",
   "execution_count": 8,
   "metadata": {},
   "outputs": [],
   "source": [
    "# Define the vector of input samples as x, with 20 values sampled from a uniform distribution\n",
    "# between 0 and 1\n",
    "x = np.random.uniform(0, 1, 20)\n",
    "\n",
    "# Generate the target values t from x with small gaussian noise so the estimation won't\n",
    "# be perfect.\n",
    "# Define a function f that represents the line that generates t without noise\n",
    "def f(x): return x * 2\n",
    "\n",
    "# Create the targets t with some gaussian noise\n",
    "noise_variance = 0.2  # Variance of the gaussian noise\n",
    "# Gaussian noise error for each sample in x\n",
    "noise = np.random.randn(x.shape[0]) * noise_variance\n",
    "# Create targets t\n",
    "t = f(x) + noise"
   ]
  },
  {
   "cell_type": "code",
   "execution_count": 16,
   "metadata": {},
   "outputs": [
    {
     "name": "stdout",
     "output_type": "stream",
     "text": [
      "[-60.  -59.9 -59.8 ...,  59.7  59.8  59.9]\n"
     ]
    }
   ],
   "source": [
    "print(np.arange(-60, 60, 0.1))\n",
    "# plt.plot(, x)"
   ]
  },
  {
   "cell_type": "code",
   "execution_count": null,
   "metadata": {
    "collapsed": true
   },
   "outputs": [],
   "source": []
  }
 ],
 "metadata": {
  "kernelspec": {
   "display_name": "Python 3",
   "language": "python",
   "name": "python3"
  },
  "language_info": {
   "codemirror_mode": {
    "name": "ipython",
    "version": 3
   },
   "file_extension": ".py",
   "mimetype": "text/x-python",
   "name": "python",
   "nbconvert_exporter": "python",
   "pygments_lexer": "ipython3",
   "version": "3.5.3"
  }
 },
 "nbformat": 4,
 "nbformat_minor": 2
}
