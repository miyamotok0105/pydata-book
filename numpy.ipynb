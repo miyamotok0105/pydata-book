{
 "cells": [
  {
   "cell_type": "code",
   "execution_count": 2,
   "metadata": {
    "collapsed": true
   },
   "outputs": [],
   "source": [
    "import numpy as np\n",
    "from scipy import division"
   ]
  },
  {
   "cell_type": "code",
   "execution_count": 3,
   "metadata": {},
   "outputs": [
    {
     "data": {
      "text/plain": [
       "array([0, 1, 2, 3, 4, 5])"
      ]
     },
     "execution_count": 3,
     "metadata": {},
     "output_type": "execute_result"
    }
   ],
   "source": [
    "x = np.arange(6)\n",
    "x"
   ]
  },
  {
   "cell_type": "code",
   "execution_count": 16,
   "metadata": {},
   "outputs": [
    {
     "name": "stdout",
     "output_type": "stream",
     "text": [
      "(6,)\n",
      "[[0 1 2 3 4 5]]\n",
      "(1, 6)\n",
      "[[[0 1 2 3 4 5]]]\n",
      "(1, 1, 6)\n",
      "[0 1 2 3 4 5 0 1 2 3 4 5]\n",
      "(12,)\n",
      "(2, 6)\n"
     ]
    }
   ],
   "source": [
    "print(x.shape)\n",
    "print(x.reshape(1,6))\n",
    "print(x.reshape(1,6).shape)\n",
    "print(x.reshape(1,1,6))\n",
    "print(x.reshape(1,1,6).shape)\n",
    "#print(x.reshape(1,2,6)) #NG\n",
    "print(np.hstack((x,x)))\n",
    "print(np.hstack((x,x)).shape)\n",
    "print(np.vstack((x,x)).shape)"
   ]
  },
  {
   "cell_type": "code",
   "execution_count": 11,
   "metadata": {},
   "outputs": [
    {
     "name": "stdout",
     "output_type": "stream",
     "text": [
      "(4, 3) (4, 1)\n",
      "[[ 0  1  2  3]\n",
      " [ 0  4  5  6]\n",
      " [ 0  7  8  9]\n",
      " [ 0 10 11 12]]\n",
      "(4, 4)\n"
     ]
    }
   ],
   "source": [
    "a = np.array([[1,2,3],[4,5,6],[7,8,9],[10,11,12]])\n",
    "b = np.array([[0],[0],[0],[0]])\n",
    "print(a.shape, b.shape)\n",
    "c = np.hstack((b,a))\n",
    "print(c)\n",
    "print(c.shape)"
   ]
  },
  {
   "cell_type": "code",
   "execution_count": 36,
   "metadata": {},
   "outputs": [
    {
     "data": {
      "text/plain": [
       "array([[0, 1, 2],\n",
       "       [3, 4, 5]])"
      ]
     },
     "execution_count": 36,
     "metadata": {},
     "output_type": "execute_result"
    }
   ],
   "source": [
    "np.reshape(np.arange(6), (2, 3))"
   ]
  },
  {
   "cell_type": "code",
   "execution_count": 37,
   "metadata": {},
   "outputs": [
    {
     "data": {
      "text/plain": [
       "array(1)"
      ]
     },
     "execution_count": 37,
     "metadata": {},
     "output_type": "execute_result"
    }
   ],
   "source": [
    "x = np.array(1)\n",
    "x"
   ]
  },
  {
   "cell_type": "code",
   "execution_count": 38,
   "metadata": {},
   "outputs": [
    {
     "name": "stdout",
     "output_type": "stream",
     "text": [
      "[0 1 2 3 4 5]\n",
      "[ 0.5         0.73105858  0.88079708  0.95257413  0.98201379  0.99330715]\n"
     ]
    }
   ],
   "source": [
    "#ロジステック関数\n",
    "x = np.arange(6)\n",
    "def logistic(z): \n",
    "    return 1 / (1 + np.exp(-z))\n",
    "t = logistic(x)\n",
    "print(x)\n",
    "print(t)"
   ]
  },
  {
   "cell_type": "code",
   "execution_count": 39,
   "metadata": {},
   "outputs": [
    {
     "name": "stdout",
     "output_type": "stream",
     "text": [
      "[ 0.09577301  7.99186875  0.94539471  1.06554432  1.95561951  3.46346367]\n"
     ]
    },
    {
     "name": "stderr",
     "output_type": "stream",
     "text": [
      "/Users/miyamoto/.pyenv/versions/miniconda3-4.0.5/envs/py35/lib/python3.5/site-packages/ipykernel_launcher.py:3: RuntimeWarning: invalid value encountered in log\n",
      "  This is separate from the ipykernel package so we can avoid doing imports until\n"
     ]
    }
   ],
   "source": [
    "#(t*log(y))+((1-t)*log(1-y))\n",
    "def loss_function(y, t):\n",
    "    return - np.sum(np.multiply(t, np.log(y)) + np.multiply((1-t), np.log(1-y)))\n",
    "loss_function(np.square(randn(6)), np.square(randn(6)))\n",
    "print(np.square(randn(6)))"
   ]
  },
  {
   "cell_type": "code",
   "execution_count": 40,
   "metadata": {},
   "outputs": [
    {
     "data": {
      "image/png": "[encoded data removed]",
      "text/plain": [
       "<matplotlib.figure.Figure at 0x10d8682e8>"
      ]
     },
     "metadata": {},
     "output_type": "display_data"
    },
    {
     "name": "stdout",
     "output_type": "stream",
     "text": [
      "[-0.37752249 -0.12468748 -1.12626436  0.92074186 -1.64822491 -0.18855623]\n"
     ]
    }
   ],
   "source": [
    "from numpy.random import *\n",
    "import matplotlib.pyplot as plt\n",
    "\n",
    "r = randn(10000)        # 標準正規分布で乱数を1万個生成\n",
    "plt.hist(r, bins=100)   # 100本のヒストグラムを作成\n",
    "plt.show()              # グラフを表示\n",
    "print(randn(6))"
   ]
  },
  {
   "cell_type": "code",
   "execution_count": 64,
   "metadata": {},
   "outputs": [
    {
     "name": "stdout",
     "output_type": "stream",
     "text": [
      "[[ 3.74165739  0.          8.06225775]\n",
      " [ 2.44948974  2.          7.14142843]]\n",
      "[[ 3.74165739  0.          8.06225775]\n",
      " [ 2.44948974  2.          7.14142843]]\n",
      "[[ 3.74165739  0.          8.06225775]\n",
      " [ 2.44948974  2.          7.14142843]]\n",
      "[[ 6.  0.  9.]\n",
      " [ 4.  4.  9.]]\n",
      "[[ 5.65685425  0.          0.        ]\n",
      " [        nan         nan         nan]]\n",
      "[[ 0.08712907  0.          0.30312685]\n",
      " [ 0.08712907  0.          0.30312685]]\n",
      "[[ 0.75  0.    0.5 ]\n",
      " [ 0.75  1.    0.75]]\n",
      "[[ 3.  0.  8.]\n",
      " [ 2.  1.  7.]]\n",
      "[[ 1.43333333  0.          1.13333333]\n",
      " [ 0.86666667  1.33333333  1.3030303 ]]\n"
     ]
    }
   ],
   "source": [
    "#https://docs.scipy.org/doc/scipy/reference/generated/scipy.spatial.distance.cdist.html\n",
    "from scipy.spatial.distance import cdist\n",
    "a = np.array([[1,1,1,1],[2,2,2,2]])\n",
    "b = np.array([[1,2,3,4],[1,1,1,1],[1,2,1,9]])\n",
    "#ユーグリッド距離\n",
    "print(np.sqrt((np.square(a[:,np.newaxis]-b).sum(axis=2))))\n",
    "print(cdist(a,b, 'euclidean'))\n",
    "#ミンコフスキー距離 p153\n",
    "print(cdist(a, b, 'minkowski', p=2))\n",
    "#マンハッタン距離\n",
    "print(cdist(a, b, 'cityblock'))\n",
    "#マハラノビス距離p47　　ユーグリッド距離を共分散行列で割り算。分布の広がりを考慮した距離。\n",
    "print(cdist(a, b, 'mahalanobis', VI=None))\n",
    "#コサイン距離\n",
    "print(cdist(a,b, 'cosine'))\n",
    "#ハミング距離\n",
    "print(cdist(a, b, 'hamming'))\n",
    "#チェビシェフ距離\n",
    "print(cdist(a, b, 'chebyshev'))\n",
    "#キャンベラ距離\n",
    "print(cdist(a, b, 'canberra'))"
   ]
  },
  {
   "cell_type": "code",
   "execution_count": 65,
   "metadata": {},
   "outputs": [
    {
     "name": "stdout",
     "output_type": "stream",
     "text": [
      "1.45655642668\n",
      "1.14098203716\n"
     ]
    }
   ],
   "source": [
    "#https://github.com/jonesgithub/book-1/blob/master/ML%20Machine%20Learning-A%20Probabilistic%20Perspective.pdf\n",
    "import numpy as np\n",
    "#Kullback–Leibler divergence\n",
    "def kld(p, q):\n",
    "    \"\"\"Calculates Kullback–Leibler divergence\"\"\"\n",
    "    p = np.array(p)\n",
    "    q = np.array(q)\n",
    "    return np.sum(p * np.log(p / q), axis=(p.ndim - 1))\n",
    " \n",
    "def jsd(p, q):\n",
    "    \"\"\"Calculates Jensen-Shannon Divergence\"\"\"\n",
    "    p = np.array(p)\n",
    "    q = np.array(q)\n",
    "    m = 0.5 * (p + q)\n",
    "    return 0.5 * kld(p, m) + 0.5 * kld(q, m)\n",
    "\n",
    "print(kld(np.square(randn(6)), np.square(randn(6))))\n",
    "print(jsd(np.square(randn(6)), np.square(randn(6))))"
   ]
  },
  {
   "cell_type": "code",
   "execution_count": null,
   "metadata": {
    "collapsed": true
   },
   "outputs": [],
   "source": []
  },
  {
   "cell_type": "code",
   "execution_count": null,
   "metadata": {
    "collapsed": true
   },
   "outputs": [],
   "source": []
  }
 ],
 "metadata": {
  "kernelspec": {
   "display_name": "Python 3",
   "language": "python",
   "name": "python3"
  },
  "language_info": {
   "codemirror_mode": {
    "name": "ipython",
    "version": 3
   },
   "file_extension": ".py",
   "mimetype": "text/x-python",
   "name": "python",
   "nbconvert_exporter": "python",
   "pygments_lexer": "ipython3",
   "version": "3.5.3"
  }
 },
 "nbformat": 4,
 "nbformat_minor": 2
}
