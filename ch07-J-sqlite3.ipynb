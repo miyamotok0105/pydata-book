{
 "cells": [
  {
   "cell_type": "markdown",
   "metadata": {},
   "source": [
    "## データの؅管理：データのクリーニング、変換、マージ、再形成 (sqlite3編)"
   ]
  },
  {
   "cell_type": "code",
   "execution_count": 1,
   "metadata": {
    "ExecuteTime": {
     "end_time": "2017-08-28T07:16:49.638732Z",
     "start_time": "2017-08-28T07:16:47.459539Z"
    },
    "collapsed": true
   },
   "outputs": [],
   "source": [
    "from __future__ import division\n",
    "from numpy.random import randn\n",
    "import numpy as np\n",
    "import os\n",
    "import matplotlib.pyplot as plt\n",
    "np.random.seed(12345)\n",
    "plt.rc('figure', figsize=(10, 6))\n",
    "from pandas import Series, DataFrame\n",
    "import pandas\n",
    "import pandas as pd\n",
    "np.set_printoptions(precision=4, threshold=500)\n",
    "pd.options.display.max_rows = 100"
   ]
  },
  {
   "cell_type": "code",
   "execution_count": 3,
   "metadata": {
    "ExecuteTime": {
     "end_time": "2017-08-28T07:16:49.671455Z",
     "start_time": "2017-08-28T07:16:49.656415Z"
    },
    "collapsed": true
   },
   "outputs": [],
   "source": [
    "%matplotlib inline"
   ]
  },
  {
   "cell_type": "markdown",
   "metadata": {},
   "source": [
    "![](https://sqlite.org/images/sqlite370_banner.gif)\n",
    "- DataFrameのマージ機能がデータベースっぽいので、比較してみる\n",
    " - データベースとして、軽量の**sqlite3**を使ってみる\n",
    " - [\"Command Line Shell For Sqlite3\"](https://sqlite.org/cli.html)\n",
    " <br><br>\n",
    "- condaでインストールするのが一番簡単\n",
    "\n",
    "```bash\n",
    "conda install -c blaze sqlite3 \n",
    "```"
   ]
  },
  {
   "cell_type": "markdown",
   "metadata": {},
   "source": [
    "- 使い方(メモリーベース)\n",
    "\n",
    "```python\n",
    "import sqlite3\n",
    "con = sqlite3.connect(\":memory:\");\n",
    "```\n",
    "\n",
    " - ただし、例外が発生するとテーブルデータが怪しくなる\n",
    " - ちょっとした、お試しにはよいが脆弱なのでファイルベースが無難\n",
    " <br><br>\n",
    "\n",
    "- 使い方(ファイルベース)\n",
    "\n",
    "```python\n",
    "import sqlite3\n",
    "con = sqlite3.connect(\"test.sqlite3\");\n",
    "```\n",
    "\n",
    " - Auto Commmit on\n",
    " ```python\n",
    " con = sqlite3.connect(\"test.sqlite3\", isolation_level = None)\n",
    " ```"
   ]
  },
  {
   "cell_type": "markdown",
   "metadata": {},
   "source": [
    "- sqlite3 command tools\n",
    "\n",
    "```bash\n",
    "%SQLITE3_HOME%\\sqlite3.exe test.sqlite3\n",
    "```"
   ]
  },
  {
   "cell_type": "markdown",
   "metadata": {},
   "source": [
    "## データセットのマージ"
   ]
  },
  {
   "cell_type": "markdown",
   "metadata": {},
   "source": [
    "### データベース風のデータフレームのマージ"
   ]
  },
  {
   "cell_type": "code",
   "execution_count": 2,
   "metadata": {
    "ExecuteTime": {
     "end_time": "2017-08-28T07:16:50.826789Z",
     "start_time": "2017-08-28T07:16:50.811750Z"
    }
   },
   "outputs": [
    {
     "data": {
      "text/html": [
       "<div>\n",
       "<style>\n",
       "    .dataframe thead tr:only-child th {\n",
       "        text-align: right;\n",
       "    }\n",
       "\n",
       "    .dataframe thead th {\n",
       "        text-align: left;\n",
       "    }\n",
       "\n",
       "    .dataframe tbody tr th {\n",
       "        vertical-align: top;\n",
       "    }\n",
       "</style>\n",
       "<table border=\"1\" class=\"dataframe\">\n",
       "  <thead>\n",
       "    <tr style=\"text-align: right;\">\n",
       "      <th></th>\n",
       "      <th>data1</th>\n",
       "      <th>key</th>\n",
       "    </tr>\n",
       "  </thead>\n",
       "  <tbody>\n",
       "    <tr>\n",
       "      <th>0</th>\n",
       "      <td>0</td>\n",
       "      <td>b</td>\n",
       "    </tr>\n",
       "    <tr>\n",
       "      <th>1</th>\n",
       "      <td>1</td>\n",
       "      <td>b</td>\n",
       "    </tr>\n",
       "    <tr>\n",
       "      <th>2</th>\n",
       "      <td>2</td>\n",
       "      <td>a</td>\n",
       "    </tr>\n",
       "    <tr>\n",
       "      <th>3</th>\n",
       "      <td>3</td>\n",
       "      <td>c</td>\n",
       "    </tr>\n",
       "    <tr>\n",
       "      <th>4</th>\n",
       "      <td>4</td>\n",
       "      <td>a</td>\n",
       "    </tr>\n",
       "    <tr>\n",
       "      <th>5</th>\n",
       "      <td>5</td>\n",
       "      <td>a</td>\n",
       "    </tr>\n",
       "    <tr>\n",
       "      <th>6</th>\n",
       "      <td>6</td>\n",
       "      <td>b</td>\n",
       "    </tr>\n",
       "  </tbody>\n",
       "</table>\n",
       "</div>"
      ],
      "text/plain": [
       "   data1 key\n",
       "0      0   b\n",
       "1      1   b\n",
       "2      2   a\n",
       "3      3   c\n",
       "4      4   a\n",
       "5      5   a\n",
       "6      6   b"
      ]
     },
     "execution_count": 2,
     "metadata": {},
     "output_type": "execute_result"
    }
   ],
   "source": [
    "df1 = DataFrame({'key': ['b', 'b', 'a', 'c', 'a', 'a', 'b'],\n",
    "                 'data1': range(7)})\n",
    "df2 = DataFrame({'key': ['a', 'b', 'd'],\n",
    "                 'data2': range(3)})\n",
    "df1"
   ]
  },
  {
   "cell_type": "code",
   "execution_count": 3,
   "metadata": {
    "ExecuteTime": {
     "end_time": "2017-08-28T07:16:51.340157Z",
     "start_time": "2017-08-28T07:16:51.334144Z"
    }
   },
   "outputs": [
    {
     "data": {
      "text/html": [
       "<div>\n",
       "<style>\n",
       "    .dataframe thead tr:only-child th {\n",
       "        text-align: right;\n",
       "    }\n",
       "\n",
       "    .dataframe thead th {\n",
       "        text-align: left;\n",
       "    }\n",
       "\n",
       "    .dataframe tbody tr th {\n",
       "        vertical-align: top;\n",
       "    }\n",
       "</style>\n",
       "<table border=\"1\" class=\"dataframe\">\n",
       "  <thead>\n",
       "    <tr style=\"text-align: right;\">\n",
       "      <th></th>\n",
       "      <th>data2</th>\n",
       "      <th>key</th>\n",
       "    </tr>\n",
       "  </thead>\n",
       "  <tbody>\n",
       "    <tr>\n",
       "      <th>0</th>\n",
       "      <td>0</td>\n",
       "      <td>a</td>\n",
       "    </tr>\n",
       "    <tr>\n",
       "      <th>1</th>\n",
       "      <td>1</td>\n",
       "      <td>b</td>\n",
       "    </tr>\n",
       "    <tr>\n",
       "      <th>2</th>\n",
       "      <td>2</td>\n",
       "      <td>d</td>\n",
       "    </tr>\n",
       "  </tbody>\n",
       "</table>\n",
       "</div>"
      ],
      "text/plain": [
       "   data2 key\n",
       "0      0   a\n",
       "1      1   b\n",
       "2      2   d"
      ]
     },
     "execution_count": 3,
     "metadata": {},
     "output_type": "execute_result"
    }
   ],
   "source": [
    "df2"
   ]
  },
  {
   "cell_type": "markdown",
   "metadata": {},
   "source": [
    "- natural join (inner join) 相当\n",
    "\n",
    "```sql\n",
    "select * from df1 natural join df2\n",
    "```\n",
    "\n",
    " - 同じ項目をキーとして、明示的に指定しない場合\n",
    " \n",
    "- <img src=\"data:image/png;base64,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\">"
   ]
  },
  {
   "cell_type": "code",
   "execution_count": 4,
   "metadata": {
    "ExecuteTime": {
     "end_time": "2017-08-28T07:16:51.892630Z",
     "start_time": "2017-08-28T07:16:51.881601Z"
    }
   },
   "outputs": [
    {
     "data": {
      "text/html": [
       "<div>\n",
       "<style>\n",
       "    .dataframe thead tr:only-child th {\n",
       "        text-align: right;\n",
       "    }\n",
       "\n",
       "    .dataframe thead th {\n",
       "        text-align: left;\n",
       "    }\n",
       "\n",
       "    .dataframe tbody tr th {\n",
       "        vertical-align: top;\n",
       "    }\n",
       "</style>\n",
       "<table border=\"1\" class=\"dataframe\">\n",
       "  <thead>\n",
       "    <tr style=\"text-align: right;\">\n",
       "      <th></th>\n",
       "      <th>data1</th>\n",
       "      <th>key</th>\n",
       "      <th>data2</th>\n",
       "    </tr>\n",
       "  </thead>\n",
       "  <tbody>\n",
       "    <tr>\n",
       "      <th>0</th>\n",
       "      <td>0</td>\n",
       "      <td>b</td>\n",
       "      <td>1</td>\n",
       "    </tr>\n",
       "    <tr>\n",
       "      <th>1</th>\n",
       "      <td>1</td>\n",
       "      <td>b</td>\n",
       "      <td>1</td>\n",
       "    </tr>\n",
       "    <tr>\n",
       "      <th>2</th>\n",
       "      <td>6</td>\n",
       "      <td>b</td>\n",
       "      <td>1</td>\n",
       "    </tr>\n",
       "    <tr>\n",
       "      <th>3</th>\n",
       "      <td>2</td>\n",
       "      <td>a</td>\n",
       "      <td>0</td>\n",
       "    </tr>\n",
       "    <tr>\n",
       "      <th>4</th>\n",
       "      <td>4</td>\n",
       "      <td>a</td>\n",
       "      <td>0</td>\n",
       "    </tr>\n",
       "    <tr>\n",
       "      <th>5</th>\n",
       "      <td>5</td>\n",
       "      <td>a</td>\n",
       "      <td>0</td>\n",
       "    </tr>\n",
       "  </tbody>\n",
       "</table>\n",
       "</div>"
      ],
      "text/plain": [
       "   data1 key  data2\n",
       "0      0   b      1\n",
       "1      1   b      1\n",
       "2      6   b      1\n",
       "3      2   a      0\n",
       "4      4   a      0\n",
       "5      5   a      0"
      ]
     },
     "execution_count": 4,
     "metadata": {},
     "output_type": "execute_result"
    }
   ],
   "source": [
    "pd.merge(df1, df2)"
   ]
  },
  {
   "cell_type": "markdown",
   "metadata": {},
   "source": [
    "<hr>\n",
    "<span style=\"color:blue\">sqlite3</span>"
   ]
  },
  {
   "cell_type": "code",
   "execution_count": 14,
   "metadata": {
    "ExecuteTime": {
     "end_time": "2017-08-28T07:16:52.373913Z",
     "start_time": "2017-08-28T07:16:52.366895Z"
    }
   },
   "outputs": [
    {
     "data": {
      "text/plain": [
       "<sqlite3.Cursor at 0x1090baf80>"
      ]
     },
     "execution_count": 14,
     "metadata": {},
     "output_type": "execute_result"
    }
   ],
   "source": [
    "import sqlite3\n",
    "\n",
    "# テーブル定義 df1\n",
    "con = sqlite3.connect(\":memory:\")\n",
    "con.execute(\"create table if not exists df1(key text, data1 integer)\")\n",
    "con.execute(\"delete from df1\")"
   ]
  },
  {
   "cell_type": "code",
   "execution_count": 15,
   "metadata": {
    "ExecuteTime": {
     "end_time": "2017-08-28T07:16:52.809072Z",
     "start_time": "2017-08-28T07:16:52.803058Z"
    }
   },
   "outputs": [
    {
     "data": {
      "text/plain": [
       "<sqlite3.Cursor at 0x10915f0a0>"
      ]
     },
     "execution_count": 15,
     "metadata": {},
     "output_type": "execute_result"
    }
   ],
   "source": [
    "# データ登録 df1\n",
    "con.executemany(\"insert into df1 values(?,?)\", df1[[\"key\",\"data1\"]].values)"
   ]
  },
  {
   "cell_type": "markdown",
   "metadata": {},
   "source": [
    "- 上記は、以下と等価\n",
    "```python\n",
    "for d in df2[[\"key\",\"data2\"]].values:\n",
    "    con.execute(\"insert into df2(key, data2) values(?, ?)\", d)\n",
    "```"
   ]
  },
  {
   "cell_type": "code",
   "execution_count": 16,
   "metadata": {
    "ExecuteTime": {
     "end_time": "2017-08-28T07:16:54.133765Z",
     "start_time": "2017-08-28T07:16:53.810906Z"
    }
   },
   "outputs": [
    {
     "data": {
      "text/html": [
       "<div>\n",
       "<style>\n",
       "    .dataframe thead tr:only-child th {\n",
       "        text-align: right;\n",
       "    }\n",
       "\n",
       "    .dataframe thead th {\n",
       "        text-align: left;\n",
       "    }\n",
       "\n",
       "    .dataframe tbody tr th {\n",
       "        vertical-align: top;\n",
       "    }\n",
       "</style>\n",
       "<table border=\"1\" class=\"dataframe\">\n",
       "  <thead>\n",
       "    <tr style=\"text-align: right;\">\n",
       "      <th></th>\n",
       "      <th>data1</th>\n",
       "      <th>key</th>\n",
       "    </tr>\n",
       "  </thead>\n",
       "  <tbody>\n",
       "    <tr>\n",
       "      <th>0</th>\n",
       "      <td>0</td>\n",
       "      <td>b</td>\n",
       "    </tr>\n",
       "    <tr>\n",
       "      <th>1</th>\n",
       "      <td>1</td>\n",
       "      <td>b</td>\n",
       "    </tr>\n",
       "    <tr>\n",
       "      <th>2</th>\n",
       "      <td>2</td>\n",
       "      <td>a</td>\n",
       "    </tr>\n",
       "    <tr>\n",
       "      <th>3</th>\n",
       "      <td>3</td>\n",
       "      <td>c</td>\n",
       "    </tr>\n",
       "    <tr>\n",
       "      <th>4</th>\n",
       "      <td>4</td>\n",
       "      <td>a</td>\n",
       "    </tr>\n",
       "    <tr>\n",
       "      <th>5</th>\n",
       "      <td>5</td>\n",
       "      <td>a</td>\n",
       "    </tr>\n",
       "    <tr>\n",
       "      <th>6</th>\n",
       "      <td>6</td>\n",
       "      <td>b</td>\n",
       "    </tr>\n",
       "  </tbody>\n",
       "</table>\n",
       "</div>"
      ],
      "text/plain": [
       "   data1 key\n",
       "0      0   b\n",
       "1      1   b\n",
       "2      2   a\n",
       "3      3   c\n",
       "4      4   a\n",
       "5      5   a\n",
       "6      6   b"
      ]
     },
     "execution_count": 16,
     "metadata": {},
     "output_type": "execute_result"
    }
   ],
   "source": [
    "# クエリー df1\n",
    "df1db = pd.read_sql_query(\"select data1, key from df1\", con)\n",
    "df1db"
   ]
  },
  {
   "cell_type": "code",
   "execution_count": 17,
   "metadata": {
    "ExecuteTime": {
     "end_time": "2017-08-28T07:16:54.140783Z",
     "start_time": "2017-08-28T07:16:54.135771Z"
    }
   },
   "outputs": [
    {
     "data": {
      "text/plain": [
       "<sqlite3.Cursor at 0x10915f110>"
      ]
     },
     "execution_count": 17,
     "metadata": {},
     "output_type": "execute_result"
    }
   ],
   "source": [
    "# テーブル定義 df2\n",
    "con.execute(\"create table if not exists df2(key text, data2 integer)\")\n",
    "con.execute(\"delete from df2\")"
   ]
  },
  {
   "cell_type": "code",
   "execution_count": 18,
   "metadata": {
    "ExecuteTime": {
     "end_time": "2017-08-28T07:16:54.748403Z",
     "start_time": "2017-08-28T07:16:54.741385Z"
    }
   },
   "outputs": [
    {
     "data": {
      "text/plain": [
       "<sqlite3.Cursor at 0x10915f260>"
      ]
     },
     "execution_count": 18,
     "metadata": {},
     "output_type": "execute_result"
    }
   ],
   "source": [
    "# データ登録 df2\n",
    "con.executemany(\"insert into df2 values(?,?)\", df2[[\"key\",\"data2\"]].values)"
   ]
  },
  {
   "cell_type": "code",
   "execution_count": 19,
   "metadata": {
    "ExecuteTime": {
     "end_time": "2017-08-28T07:16:55.021130Z",
     "start_time": "2017-08-28T07:16:55.011103Z"
    }
   },
   "outputs": [
    {
     "data": {
      "text/html": [
       "<div>\n",
       "<style>\n",
       "    .dataframe thead tr:only-child th {\n",
       "        text-align: right;\n",
       "    }\n",
       "\n",
       "    .dataframe thead th {\n",
       "        text-align: left;\n",
       "    }\n",
       "\n",
       "    .dataframe tbody tr th {\n",
       "        vertical-align: top;\n",
       "    }\n",
       "</style>\n",
       "<table border=\"1\" class=\"dataframe\">\n",
       "  <thead>\n",
       "    <tr style=\"text-align: right;\">\n",
       "      <th></th>\n",
       "      <th>data2</th>\n",
       "      <th>key</th>\n",
       "    </tr>\n",
       "  </thead>\n",
       "  <tbody>\n",
       "    <tr>\n",
       "      <th>0</th>\n",
       "      <td>0</td>\n",
       "      <td>a</td>\n",
       "    </tr>\n",
       "    <tr>\n",
       "      <th>1</th>\n",
       "      <td>1</td>\n",
       "      <td>b</td>\n",
       "    </tr>\n",
       "    <tr>\n",
       "      <th>2</th>\n",
       "      <td>2</td>\n",
       "      <td>d</td>\n",
       "    </tr>\n",
       "  </tbody>\n",
       "</table>\n",
       "</div>"
      ],
      "text/plain": [
       "   data2 key\n",
       "0      0   a\n",
       "1      1   b\n",
       "2      2   d"
      ]
     },
     "execution_count": 19,
     "metadata": {},
     "output_type": "execute_result"
    }
   ],
   "source": [
    "df2db = pd.read_sql_query(\"select data2, key from df2\", con)\n",
    "df2db"
   ]
  },
  {
   "cell_type": "markdown",
   "metadata": {},
   "source": [
    "- natural join (inner join) 相当\n",
    "\n",
    "```sql\n",
    "select * from df1 natural join df2\n",
    "```\n",
    "\n",
    " - 同じ項目をキーとして、明示的に指定しない場合"
   ]
  },
  {
   "cell_type": "code",
   "execution_count": 20,
   "metadata": {
    "ExecuteTime": {
     "end_time": "2017-08-28T07:16:55.549539Z",
     "start_time": "2017-08-28T07:16:55.538512Z"
    }
   },
   "outputs": [
    {
     "data": {
      "text/html": [
       "<div>\n",
       "<style>\n",
       "    .dataframe thead tr:only-child th {\n",
       "        text-align: right;\n",
       "    }\n",
       "\n",
       "    .dataframe thead th {\n",
       "        text-align: left;\n",
       "    }\n",
       "\n",
       "    .dataframe tbody tr th {\n",
       "        vertical-align: top;\n",
       "    }\n",
       "</style>\n",
       "<table border=\"1\" class=\"dataframe\">\n",
       "  <thead>\n",
       "    <tr style=\"text-align: right;\">\n",
       "      <th></th>\n",
       "      <th>data1</th>\n",
       "      <th>key</th>\n",
       "      <th>data2</th>\n",
       "    </tr>\n",
       "  </thead>\n",
       "  <tbody>\n",
       "    <tr>\n",
       "      <th>0</th>\n",
       "      <td>0</td>\n",
       "      <td>b</td>\n",
       "      <td>1</td>\n",
       "    </tr>\n",
       "    <tr>\n",
       "      <th>1</th>\n",
       "      <td>1</td>\n",
       "      <td>b</td>\n",
       "      <td>1</td>\n",
       "    </tr>\n",
       "    <tr>\n",
       "      <th>2</th>\n",
       "      <td>6</td>\n",
       "      <td>b</td>\n",
       "      <td>1</td>\n",
       "    </tr>\n",
       "    <tr>\n",
       "      <th>3</th>\n",
       "      <td>2</td>\n",
       "      <td>a</td>\n",
       "      <td>0</td>\n",
       "    </tr>\n",
       "    <tr>\n",
       "      <th>4</th>\n",
       "      <td>4</td>\n",
       "      <td>a</td>\n",
       "      <td>0</td>\n",
       "    </tr>\n",
       "    <tr>\n",
       "      <th>5</th>\n",
       "      <td>5</td>\n",
       "      <td>a</td>\n",
       "      <td>0</td>\n",
       "    </tr>\n",
       "  </tbody>\n",
       "</table>\n",
       "</div>"
      ],
      "text/plain": [
       "   data1 key  data2\n",
       "0      0   b      1\n",
       "1      1   b      1\n",
       "2      6   b      1\n",
       "3      2   a      0\n",
       "4      4   a      0\n",
       "5      5   a      0"
      ]
     },
     "execution_count": 20,
     "metadata": {},
     "output_type": "execute_result"
    }
   ],
   "source": [
    "dfdb = pd.read_sql_query(\"select data1, key, data2  from df1 natural join df2 order by key desc, data1\", con)\n",
    "dfdb"
   ]
  },
  {
   "cell_type": "code",
   "execution_count": 21,
   "metadata": {
    "ExecuteTime": {
     "end_time": "2017-08-28T07:16:55.827279Z",
     "start_time": "2017-08-28T07:16:55.814245Z"
    }
   },
   "outputs": [
    {
     "data": {
      "text/html": [
       "<div>\n",
       "<style>\n",
       "    .dataframe thead tr:only-child th {\n",
       "        text-align: right;\n",
       "    }\n",
       "\n",
       "    .dataframe thead th {\n",
       "        text-align: left;\n",
       "    }\n",
       "\n",
       "    .dataframe tbody tr th {\n",
       "        vertical-align: top;\n",
       "    }\n",
       "</style>\n",
       "<table border=\"1\" class=\"dataframe\">\n",
       "  <thead>\n",
       "    <tr style=\"text-align: right;\">\n",
       "      <th></th>\n",
       "      <th>data1</th>\n",
       "      <th>key</th>\n",
       "      <th>data2</th>\n",
       "    </tr>\n",
       "  </thead>\n",
       "  <tbody>\n",
       "    <tr>\n",
       "      <th>0</th>\n",
       "      <td>0</td>\n",
       "      <td>b</td>\n",
       "      <td>1</td>\n",
       "    </tr>\n",
       "    <tr>\n",
       "      <th>1</th>\n",
       "      <td>1</td>\n",
       "      <td>b</td>\n",
       "      <td>1</td>\n",
       "    </tr>\n",
       "    <tr>\n",
       "      <th>2</th>\n",
       "      <td>6</td>\n",
       "      <td>b</td>\n",
       "      <td>1</td>\n",
       "    </tr>\n",
       "    <tr>\n",
       "      <th>3</th>\n",
       "      <td>2</td>\n",
       "      <td>a</td>\n",
       "      <td>0</td>\n",
       "    </tr>\n",
       "    <tr>\n",
       "      <th>4</th>\n",
       "      <td>4</td>\n",
       "      <td>a</td>\n",
       "      <td>0</td>\n",
       "    </tr>\n",
       "    <tr>\n",
       "      <th>5</th>\n",
       "      <td>5</td>\n",
       "      <td>a</td>\n",
       "      <td>0</td>\n",
       "    </tr>\n",
       "  </tbody>\n",
       "</table>\n",
       "</div>"
      ],
      "text/plain": [
       "   data1 key  data2\n",
       "0      0   b      1\n",
       "1      1   b      1\n",
       "2      6   b      1\n",
       "3      2   a      0\n",
       "4      4   a      0\n",
       "5      5   a      0"
      ]
     },
     "execution_count": 21,
     "metadata": {},
     "output_type": "execute_result"
    }
   ],
   "source": [
    "pd.merge(df1, df2)"
   ]
  },
  {
   "cell_type": "markdown",
   "metadata": {},
   "source": [
    "done!\n",
    "<hr>"
   ]
  },
  {
   "cell_type": "code",
   "execution_count": null,
   "metadata": {
    "collapsed": true
   },
   "outputs": [],
   "source": []
  },
  {
   "cell_type": "markdown",
   "metadata": {},
   "source": [
    "- inner join 相当\n",
    "\n",
    "```sql\n",
    "select * from df1 inner join df2 on df1.key=df2.key\n",
    "```\n",
    "\n",
    "or\n",
    "\n",
    "```sql\n",
    "select * from df1 inner join df2 using(key)\n",
    "```\n",
    "\n",
    " - 右と左のキーが同じで、明示的に指定する場合 (on=)"
   ]
  },
  {
   "cell_type": "code",
   "execution_count": 22,
   "metadata": {
    "ExecuteTime": {
     "end_time": "2017-08-28T07:16:58.058961Z",
     "start_time": "2017-08-28T07:16:58.048935Z"
    }
   },
   "outputs": [
    {
     "data": {
      "text/html": [
       "<div>\n",
       "<style>\n",
       "    .dataframe thead tr:only-child th {\n",
       "        text-align: right;\n",
       "    }\n",
       "\n",
       "    .dataframe thead th {\n",
       "        text-align: left;\n",
       "    }\n",
       "\n",
       "    .dataframe tbody tr th {\n",
       "        vertical-align: top;\n",
       "    }\n",
       "</style>\n",
       "<table border=\"1\" class=\"dataframe\">\n",
       "  <thead>\n",
       "    <tr style=\"text-align: right;\">\n",
       "      <th></th>\n",
       "      <th>data1</th>\n",
       "      <th>key</th>\n",
       "      <th>data2</th>\n",
       "    </tr>\n",
       "  </thead>\n",
       "  <tbody>\n",
       "    <tr>\n",
       "      <th>0</th>\n",
       "      <td>0</td>\n",
       "      <td>b</td>\n",
       "      <td>1</td>\n",
       "    </tr>\n",
       "    <tr>\n",
       "      <th>1</th>\n",
       "      <td>1</td>\n",
       "      <td>b</td>\n",
       "      <td>1</td>\n",
       "    </tr>\n",
       "    <tr>\n",
       "      <th>2</th>\n",
       "      <td>6</td>\n",
       "      <td>b</td>\n",
       "      <td>1</td>\n",
       "    </tr>\n",
       "    <tr>\n",
       "      <th>3</th>\n",
       "      <td>2</td>\n",
       "      <td>a</td>\n",
       "      <td>0</td>\n",
       "    </tr>\n",
       "    <tr>\n",
       "      <th>4</th>\n",
       "      <td>4</td>\n",
       "      <td>a</td>\n",
       "      <td>0</td>\n",
       "    </tr>\n",
       "    <tr>\n",
       "      <th>5</th>\n",
       "      <td>5</td>\n",
       "      <td>a</td>\n",
       "      <td>0</td>\n",
       "    </tr>\n",
       "  </tbody>\n",
       "</table>\n",
       "</div>"
      ],
      "text/plain": [
       "   data1 key  data2\n",
       "0      0   b      1\n",
       "1      1   b      1\n",
       "2      6   b      1\n",
       "3      2   a      0\n",
       "4      4   a      0\n",
       "5      5   a      0"
      ]
     },
     "execution_count": 22,
     "metadata": {},
     "output_type": "execute_result"
    }
   ],
   "source": [
    "pd.merge(df1, df2, on='key')"
   ]
  },
  {
   "cell_type": "code",
   "execution_count": 23,
   "metadata": {
    "ExecuteTime": {
     "end_time": "2017-08-28T07:16:58.572617Z",
     "start_time": "2017-08-28T07:16:58.561588Z"
    }
   },
   "outputs": [
    {
     "data": {
      "text/html": [
       "<div>\n",
       "<style>\n",
       "    .dataframe thead tr:only-child th {\n",
       "        text-align: right;\n",
       "    }\n",
       "\n",
       "    .dataframe thead th {\n",
       "        text-align: left;\n",
       "    }\n",
       "\n",
       "    .dataframe tbody tr th {\n",
       "        vertical-align: top;\n",
       "    }\n",
       "</style>\n",
       "<table border=\"1\" class=\"dataframe\">\n",
       "  <thead>\n",
       "    <tr style=\"text-align: right;\">\n",
       "      <th></th>\n",
       "      <th>data1</th>\n",
       "      <th>key</th>\n",
       "      <th>data2</th>\n",
       "    </tr>\n",
       "  </thead>\n",
       "  <tbody>\n",
       "    <tr>\n",
       "      <th>0</th>\n",
       "      <td>0</td>\n",
       "      <td>b</td>\n",
       "      <td>1</td>\n",
       "    </tr>\n",
       "    <tr>\n",
       "      <th>1</th>\n",
       "      <td>1</td>\n",
       "      <td>b</td>\n",
       "      <td>1</td>\n",
       "    </tr>\n",
       "    <tr>\n",
       "      <th>2</th>\n",
       "      <td>6</td>\n",
       "      <td>b</td>\n",
       "      <td>1</td>\n",
       "    </tr>\n",
       "    <tr>\n",
       "      <th>3</th>\n",
       "      <td>2</td>\n",
       "      <td>a</td>\n",
       "      <td>0</td>\n",
       "    </tr>\n",
       "    <tr>\n",
       "      <th>4</th>\n",
       "      <td>4</td>\n",
       "      <td>a</td>\n",
       "      <td>0</td>\n",
       "    </tr>\n",
       "    <tr>\n",
       "      <th>5</th>\n",
       "      <td>5</td>\n",
       "      <td>a</td>\n",
       "      <td>0</td>\n",
       "    </tr>\n",
       "  </tbody>\n",
       "</table>\n",
       "</div>"
      ],
      "text/plain": [
       "   data1 key  data2\n",
       "0      0   b      1\n",
       "1      1   b      1\n",
       "2      6   b      1\n",
       "3      2   a      0\n",
       "4      4   a      0\n",
       "5      5   a      0"
      ]
     },
     "execution_count": 23,
     "metadata": {},
     "output_type": "execute_result"
    }
   ],
   "source": [
    "pd.read_sql_query(\"select data1, key, data2 from df1 join df2 using(key) order by key desc\", con)"
   ]
  },
  {
   "cell_type": "markdown",
   "metadata": {},
   "source": [
    "<hr>"
   ]
  },
  {
   "cell_type": "code",
   "execution_count": null,
   "metadata": {
    "collapsed": true
   },
   "outputs": [],
   "source": []
  },
  {
   "cell_type": "markdown",
   "metadata": {},
   "source": [
    "- inner join 相当\n",
    "\n",
    "```sql\n",
    "select * from df3 join df4 on df3.lkey=df4.rkey\n",
    "```\n",
    "\n",
    " - 右と左を個別に、明示的に指定する場合 (left_key=, right_key=)"
   ]
  },
  {
   "cell_type": "code",
   "execution_count": 25,
   "metadata": {
    "ExecuteTime": {
     "end_time": "2017-08-28T07:17:01.153599Z",
     "start_time": "2017-08-28T07:17:01.139561Z"
    }
   },
   "outputs": [
    {
     "data": {
      "text/html": [
       "<div>\n",
       "<style>\n",
       "    .dataframe thead tr:only-child th {\n",
       "        text-align: right;\n",
       "    }\n",
       "\n",
       "    .dataframe thead th {\n",
       "        text-align: left;\n",
       "    }\n",
       "\n",
       "    .dataframe tbody tr th {\n",
       "        vertical-align: top;\n",
       "    }\n",
       "</style>\n",
       "<table border=\"1\" class=\"dataframe\">\n",
       "  <thead>\n",
       "    <tr style=\"text-align: right;\">\n",
       "      <th></th>\n",
       "      <th>data1</th>\n",
       "      <th>lkey</th>\n",
       "      <th>data2</th>\n",
       "      <th>rkey</th>\n",
       "    </tr>\n",
       "  </thead>\n",
       "  <tbody>\n",
       "    <tr>\n",
       "      <th>0</th>\n",
       "      <td>0</td>\n",
       "      <td>b</td>\n",
       "      <td>1</td>\n",
       "      <td>b</td>\n",
       "    </tr>\n",
       "    <tr>\n",
       "      <th>1</th>\n",
       "      <td>1</td>\n",
       "      <td>b</td>\n",
       "      <td>1</td>\n",
       "      <td>b</td>\n",
       "    </tr>\n",
       "    <tr>\n",
       "      <th>2</th>\n",
       "      <td>6</td>\n",
       "      <td>b</td>\n",
       "      <td>1</td>\n",
       "      <td>b</td>\n",
       "    </tr>\n",
       "    <tr>\n",
       "      <th>3</th>\n",
       "      <td>2</td>\n",
       "      <td>a</td>\n",
       "      <td>0</td>\n",
       "      <td>a</td>\n",
       "    </tr>\n",
       "    <tr>\n",
       "      <th>4</th>\n",
       "      <td>4</td>\n",
       "      <td>a</td>\n",
       "      <td>0</td>\n",
       "      <td>a</td>\n",
       "    </tr>\n",
       "    <tr>\n",
       "      <th>5</th>\n",
       "      <td>5</td>\n",
       "      <td>a</td>\n",
       "      <td>0</td>\n",
       "      <td>a</td>\n",
       "    </tr>\n",
       "  </tbody>\n",
       "</table>\n",
       "</div>"
      ],
      "text/plain": [
       "   data1 lkey  data2 rkey\n",
       "0      0    b      1    b\n",
       "1      1    b      1    b\n",
       "2      6    b      1    b\n",
       "3      2    a      0    a\n",
       "4      4    a      0    a\n",
       "5      5    a      0    a"
      ]
     },
     "execution_count": 25,
     "metadata": {},
     "output_type": "execute_result"
    }
   ],
   "source": [
    "df3 = DataFrame({'lkey': ['b', 'b', 'a', 'c', 'a', 'a', 'b'],\n",
    "                 'data1': range(7)})\n",
    "df4 = DataFrame({'rkey': ['a', 'b', 'd'],\n",
    "                 'data2': range(3)})\n",
    "pd.merge(df3, df4, left_on='lkey', right_on='rkey')"
   ]
  },
  {
   "cell_type": "markdown",
   "metadata": {},
   "source": [
    "<hr>\n",
    "<span style=\"color:blue\">sqlite3</span>"
   ]
  },
  {
   "cell_type": "code",
   "execution_count": 18,
   "metadata": {
    "ExecuteTime": {
     "end_time": "2017-08-28T07:17:02.437267Z",
     "start_time": "2017-08-28T07:17:02.434259Z"
    },
    "collapsed": true
   },
   "outputs": [],
   "source": [
    "import sqlite3\n",
    "con = sqlite3.connect(\":memory:\")"
   ]
  },
  {
   "cell_type": "code",
   "execution_count": 19,
   "metadata": {
    "ExecuteTime": {
     "end_time": "2017-08-28T07:17:02.969686Z",
     "start_time": "2017-08-28T07:17:02.962667Z"
    }
   },
   "outputs": [
    {
     "data": {
      "text/plain": [
       "<sqlite3.Cursor at 0x23d8718f6c0>"
      ]
     },
     "execution_count": 19,
     "metadata": {},
     "output_type": "execute_result"
    }
   ],
   "source": [
    "con.execute(\"create table if not exists df3(lkey text, data1 integer)\")\n",
    "con.execute(\"delete from df3\");\n",
    "con.executemany(\"insert into df3(lkey, data1) values(?,?)\",df3[[\"lkey\",\"data1\"]].values)"
   ]
  },
  {
   "cell_type": "code",
   "execution_count": 20,
   "metadata": {
    "ExecuteTime": {
     "end_time": "2017-08-28T07:17:03.606403Z",
     "start_time": "2017-08-28T07:17:03.599385Z"
    }
   },
   "outputs": [
    {
     "data": {
      "text/plain": [
       "<sqlite3.Cursor at 0x23d8718f500>"
      ]
     },
     "execution_count": 20,
     "metadata": {},
     "output_type": "execute_result"
    }
   ],
   "source": [
    "con.execute(\"create table if not exists df4(rkey text, data2 integer)\")\n",
    "con.execute(\"delete from df4\");\n",
    "con.executemany(\"insert into df4(rkey, data2) values(?,?)\",df4[[\"rkey\",\"data2\"]].values)"
   ]
  },
  {
   "cell_type": "code",
   "execution_count": 21,
   "metadata": {
    "ExecuteTime": {
     "end_time": "2017-08-28T07:17:04.176957Z",
     "start_time": "2017-08-28T07:17:04.163923Z"
    }
   },
   "outputs": [
    {
     "data": {
      "text/html": [
       "<div>\n",
       "<style>\n",
       "    .dataframe thead tr:only-child th {\n",
       "        text-align: right;\n",
       "    }\n",
       "\n",
       "    .dataframe thead th {\n",
       "        text-align: left;\n",
       "    }\n",
       "\n",
       "    .dataframe tbody tr th {\n",
       "        vertical-align: top;\n",
       "    }\n",
       "</style>\n",
       "<table border=\"1\" class=\"dataframe\">\n",
       "  <thead>\n",
       "    <tr style=\"text-align: right;\">\n",
       "      <th></th>\n",
       "      <th>data1</th>\n",
       "      <th>lkey</th>\n",
       "      <th>data2</th>\n",
       "      <th>rkey</th>\n",
       "    </tr>\n",
       "  </thead>\n",
       "  <tbody>\n",
       "    <tr>\n",
       "      <th>0</th>\n",
       "      <td>0</td>\n",
       "      <td>b</td>\n",
       "      <td>1</td>\n",
       "      <td>b</td>\n",
       "    </tr>\n",
       "    <tr>\n",
       "      <th>1</th>\n",
       "      <td>1</td>\n",
       "      <td>b</td>\n",
       "      <td>1</td>\n",
       "      <td>b</td>\n",
       "    </tr>\n",
       "    <tr>\n",
       "      <th>2</th>\n",
       "      <td>6</td>\n",
       "      <td>b</td>\n",
       "      <td>1</td>\n",
       "      <td>b</td>\n",
       "    </tr>\n",
       "    <tr>\n",
       "      <th>3</th>\n",
       "      <td>2</td>\n",
       "      <td>a</td>\n",
       "      <td>0</td>\n",
       "      <td>a</td>\n",
       "    </tr>\n",
       "    <tr>\n",
       "      <th>4</th>\n",
       "      <td>4</td>\n",
       "      <td>a</td>\n",
       "      <td>0</td>\n",
       "      <td>a</td>\n",
       "    </tr>\n",
       "    <tr>\n",
       "      <th>5</th>\n",
       "      <td>5</td>\n",
       "      <td>a</td>\n",
       "      <td>0</td>\n",
       "      <td>a</td>\n",
       "    </tr>\n",
       "  </tbody>\n",
       "</table>\n",
       "</div>"
      ],
      "text/plain": [
       "   data1 lkey  data2 rkey\n",
       "0      0    b      1    b\n",
       "1      1    b      1    b\n",
       "2      6    b      1    b\n",
       "3      2    a      0    a\n",
       "4      4    a      0    a\n",
       "5      5    a      0    a"
      ]
     },
     "execution_count": 21,
     "metadata": {},
     "output_type": "execute_result"
    }
   ],
   "source": [
    "SQL = '''\n",
    "select df3.data1, df3.lkey, df4.data2, df4.rkey \n",
    "from df3\n",
    "join df4 \n",
    "on df3.lkey=df4.rkey\n",
    "order by df3.lkey desc\n",
    "'''\n",
    "df = pd.read_sql_query(SQL, con);\n",
    "df"
   ]
  },
  {
   "cell_type": "code",
   "execution_count": 22,
   "metadata": {
    "ExecuteTime": {
     "end_time": "2017-08-28T07:17:04.812021Z",
     "start_time": "2017-08-28T07:17:04.769909Z"
    }
   },
   "outputs": [
    {
     "data": {
      "text/html": [
       "<div>\n",
       "<style>\n",
       "    .dataframe thead tr:only-child th {\n",
       "        text-align: right;\n",
       "    }\n",
       "\n",
       "    .dataframe thead th {\n",
       "        text-align: left;\n",
       "    }\n",
       "\n",
       "    .dataframe tbody tr th {\n",
       "        vertical-align: top;\n",
       "    }\n",
       "</style>\n",
       "<table border=\"1\" class=\"dataframe\">\n",
       "  <thead>\n",
       "    <tr style=\"text-align: right;\">\n",
       "      <th></th>\n",
       "      <th>data1</th>\n",
       "      <th>lkey</th>\n",
       "      <th>data2</th>\n",
       "      <th>rkey</th>\n",
       "    </tr>\n",
       "  </thead>\n",
       "  <tbody>\n",
       "    <tr>\n",
       "      <th>0</th>\n",
       "      <td>0</td>\n",
       "      <td>b</td>\n",
       "      <td>1</td>\n",
       "      <td>b</td>\n",
       "    </tr>\n",
       "    <tr>\n",
       "      <th>1</th>\n",
       "      <td>1</td>\n",
       "      <td>b</td>\n",
       "      <td>1</td>\n",
       "      <td>b</td>\n",
       "    </tr>\n",
       "    <tr>\n",
       "      <th>2</th>\n",
       "      <td>6</td>\n",
       "      <td>b</td>\n",
       "      <td>1</td>\n",
       "      <td>b</td>\n",
       "    </tr>\n",
       "    <tr>\n",
       "      <th>3</th>\n",
       "      <td>2</td>\n",
       "      <td>a</td>\n",
       "      <td>0</td>\n",
       "      <td>a</td>\n",
       "    </tr>\n",
       "    <tr>\n",
       "      <th>4</th>\n",
       "      <td>4</td>\n",
       "      <td>a</td>\n",
       "      <td>0</td>\n",
       "      <td>a</td>\n",
       "    </tr>\n",
       "    <tr>\n",
       "      <th>5</th>\n",
       "      <td>5</td>\n",
       "      <td>a</td>\n",
       "      <td>0</td>\n",
       "      <td>a</td>\n",
       "    </tr>\n",
       "  </tbody>\n",
       "</table>\n",
       "</div>"
      ],
      "text/plain": [
       "   data1 lkey  data2 rkey\n",
       "0      0    b      1    b\n",
       "1      1    b      1    b\n",
       "2      6    b      1    b\n",
       "3      2    a      0    a\n",
       "4      4    a      0    a\n",
       "5      5    a      0    a"
      ]
     },
     "execution_count": 22,
     "metadata": {},
     "output_type": "execute_result"
    }
   ],
   "source": [
    "pd.merge(df3, df4, left_on='lkey', right_on='rkey')"
   ]
  },
  {
   "cell_type": "markdown",
   "metadata": {},
   "source": [
    "<hr>"
   ]
  },
  {
   "cell_type": "code",
   "execution_count": null,
   "metadata": {
    "collapsed": true
   },
   "outputs": [],
   "source": []
  },
  {
   "cell_type": "markdown",
   "metadata": {
    "ExecuteTime": {
     "end_time": "2017-08-14T08:31:28.100601Z",
     "start_time": "2017-08-14T08:31:28.095590Z"
    }
   },
   "source": [
    "- outer join 相当"
   ]
  },
  {
   "cell_type": "markdown",
   "metadata": {},
   "source": [
    "- full outer join 相当\n",
    "- sqlite3はfull outer join ができないので、left joinしてunion\n",
    "\n",
    "```sql\n",
    "select df1.data1, df1.key, df2.data2 from df1 left outer join df2 on df1.key=df2.key\n",
    "union \n",
    "select df1.data1, df2.key, df2.data2 from df2 left outer join df1 on df1.key=df2.key\n",
    "```\n",
    "\n",
    " - キーの和集合を取り、right joinとleft join の両方を適用したもの\n",
    " <img src=\"data:image/png;base64,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\">"
   ]
  },
  {
   "cell_type": "code",
   "execution_count": 23,
   "metadata": {
    "ExecuteTime": {
     "end_time": "2017-08-28T07:17:07.747809Z",
     "start_time": "2017-08-28T07:17:07.732774Z"
    }
   },
   "outputs": [
    {
     "data": {
      "text/html": [
       "<div>\n",
       "<style>\n",
       "    .dataframe thead tr:only-child th {\n",
       "        text-align: right;\n",
       "    }\n",
       "\n",
       "    .dataframe thead th {\n",
       "        text-align: left;\n",
       "    }\n",
       "\n",
       "    .dataframe tbody tr th {\n",
       "        vertical-align: top;\n",
       "    }\n",
       "</style>\n",
       "<table border=\"1\" class=\"dataframe\">\n",
       "  <thead>\n",
       "    <tr style=\"text-align: right;\">\n",
       "      <th></th>\n",
       "      <th>data1</th>\n",
       "      <th>key</th>\n",
       "      <th>data2</th>\n",
       "    </tr>\n",
       "  </thead>\n",
       "  <tbody>\n",
       "    <tr>\n",
       "      <th>0</th>\n",
       "      <td>0.0</td>\n",
       "      <td>b</td>\n",
       "      <td>1.0</td>\n",
       "    </tr>\n",
       "    <tr>\n",
       "      <th>1</th>\n",
       "      <td>1.0</td>\n",
       "      <td>b</td>\n",
       "      <td>1.0</td>\n",
       "    </tr>\n",
       "    <tr>\n",
       "      <th>2</th>\n",
       "      <td>6.0</td>\n",
       "      <td>b</td>\n",
       "      <td>1.0</td>\n",
       "    </tr>\n",
       "    <tr>\n",
       "      <th>3</th>\n",
       "      <td>2.0</td>\n",
       "      <td>a</td>\n",
       "      <td>0.0</td>\n",
       "    </tr>\n",
       "    <tr>\n",
       "      <th>4</th>\n",
       "      <td>4.0</td>\n",
       "      <td>a</td>\n",
       "      <td>0.0</td>\n",
       "    </tr>\n",
       "    <tr>\n",
       "      <th>5</th>\n",
       "      <td>5.0</td>\n",
       "      <td>a</td>\n",
       "      <td>0.0</td>\n",
       "    </tr>\n",
       "    <tr>\n",
       "      <th>6</th>\n",
       "      <td>3.0</td>\n",
       "      <td>c</td>\n",
       "      <td>NaN</td>\n",
       "    </tr>\n",
       "    <tr>\n",
       "      <th>7</th>\n",
       "      <td>NaN</td>\n",
       "      <td>d</td>\n",
       "      <td>2.0</td>\n",
       "    </tr>\n",
       "  </tbody>\n",
       "</table>\n",
       "</div>"
      ],
      "text/plain": [
       "   data1 key  data2\n",
       "0    0.0   b    1.0\n",
       "1    1.0   b    1.0\n",
       "2    6.0   b    1.0\n",
       "3    2.0   a    0.0\n",
       "4    4.0   a    0.0\n",
       "5    5.0   a    0.0\n",
       "6    3.0   c    NaN\n",
       "7    NaN   d    2.0"
      ]
     },
     "execution_count": 23,
     "metadata": {},
     "output_type": "execute_result"
    }
   ],
   "source": [
    "pd.merge(df1, df2, how='outer')"
   ]
  },
  {
   "cell_type": "markdown",
   "metadata": {},
   "source": [
    "<hr>\n",
    "<span style=\"color:blue\">sqlite3</span>"
   ]
  },
  {
   "cell_type": "code",
   "execution_count": 24,
   "metadata": {
    "ExecuteTime": {
     "end_time": "2017-08-28T07:17:08.886113Z",
     "start_time": "2017-08-28T07:17:08.882095Z"
    },
    "collapsed": true
   },
   "outputs": [],
   "source": [
    "import sqlite3\n",
    "con = sqlite3.connect(\":memory:\")"
   ]
  },
  {
   "cell_type": "code",
   "execution_count": 25,
   "metadata": {
    "ExecuteTime": {
     "end_time": "2017-08-28T07:17:09.480542Z",
     "start_time": "2017-08-28T07:17:09.473523Z"
    }
   },
   "outputs": [
    {
     "data": {
      "text/plain": [
       "<sqlite3.Cursor at 0x23d8718f420>"
      ]
     },
     "execution_count": 25,
     "metadata": {},
     "output_type": "execute_result"
    }
   ],
   "source": [
    "con.execute(\"create table if not exists df1(key text, data1 integer)\")\n",
    "con.execute(\"delete from df1\");\n",
    "con.executemany(\"insert into df1(key, data1) values(?,?)\",df1[[\"key\",\"data1\"]].values)"
   ]
  },
  {
   "cell_type": "code",
   "execution_count": 26,
   "metadata": {
    "ExecuteTime": {
     "end_time": "2017-08-28T07:17:10.073121Z",
     "start_time": "2017-08-28T07:17:10.067105Z"
    }
   },
   "outputs": [
    {
     "data": {
      "text/plain": [
       "<sqlite3.Cursor at 0x23d8718f810>"
      ]
     },
     "execution_count": 26,
     "metadata": {},
     "output_type": "execute_result"
    }
   ],
   "source": [
    "con.execute(\"create table if not exists df2(key text, data2 integer)\")\n",
    "con.execute(\"delete from df2\");\n",
    "con.executemany(\"insert into df2(key, data2) values(?,?)\",df2[[\"key\",\"data2\"]].values)"
   ]
  },
  {
   "cell_type": "code",
   "execution_count": 27,
   "metadata": {
    "ExecuteTime": {
     "end_time": "2017-08-28T07:17:10.673639Z",
     "start_time": "2017-08-28T07:17:10.661607Z"
    }
   },
   "outputs": [
    {
     "data": {
      "text/html": [
       "<div>\n",
       "<style>\n",
       "    .dataframe thead tr:only-child th {\n",
       "        text-align: right;\n",
       "    }\n",
       "\n",
       "    .dataframe thead th {\n",
       "        text-align: left;\n",
       "    }\n",
       "\n",
       "    .dataframe tbody tr th {\n",
       "        vertical-align: top;\n",
       "    }\n",
       "</style>\n",
       "<table border=\"1\" class=\"dataframe\">\n",
       "  <thead>\n",
       "    <tr style=\"text-align: right;\">\n",
       "      <th></th>\n",
       "      <th>data1</th>\n",
       "      <th>key</th>\n",
       "      <th>data2</th>\n",
       "    </tr>\n",
       "  </thead>\n",
       "  <tbody>\n",
       "    <tr>\n",
       "      <th>0</th>\n",
       "      <td>NaN</td>\n",
       "      <td>d</td>\n",
       "      <td>2.0</td>\n",
       "    </tr>\n",
       "    <tr>\n",
       "      <th>1</th>\n",
       "      <td>0.0</td>\n",
       "      <td>b</td>\n",
       "      <td>1.0</td>\n",
       "    </tr>\n",
       "    <tr>\n",
       "      <th>2</th>\n",
       "      <td>1.0</td>\n",
       "      <td>b</td>\n",
       "      <td>1.0</td>\n",
       "    </tr>\n",
       "    <tr>\n",
       "      <th>3</th>\n",
       "      <td>2.0</td>\n",
       "      <td>a</td>\n",
       "      <td>0.0</td>\n",
       "    </tr>\n",
       "    <tr>\n",
       "      <th>4</th>\n",
       "      <td>3.0</td>\n",
       "      <td>c</td>\n",
       "      <td>NaN</td>\n",
       "    </tr>\n",
       "    <tr>\n",
       "      <th>5</th>\n",
       "      <td>4.0</td>\n",
       "      <td>a</td>\n",
       "      <td>0.0</td>\n",
       "    </tr>\n",
       "    <tr>\n",
       "      <th>6</th>\n",
       "      <td>5.0</td>\n",
       "      <td>a</td>\n",
       "      <td>0.0</td>\n",
       "    </tr>\n",
       "    <tr>\n",
       "      <th>7</th>\n",
       "      <td>6.0</td>\n",
       "      <td>b</td>\n",
       "      <td>1.0</td>\n",
       "    </tr>\n",
       "  </tbody>\n",
       "</table>\n",
       "</div>"
      ],
      "text/plain": [
       "   data1 key  data2\n",
       "0    NaN   d    2.0\n",
       "1    0.0   b    1.0\n",
       "2    1.0   b    1.0\n",
       "3    2.0   a    0.0\n",
       "4    3.0   c    NaN\n",
       "5    4.0   a    0.0\n",
       "6    5.0   a    0.0\n",
       "7    6.0   b    1.0"
      ]
     },
     "execution_count": 27,
     "metadata": {},
     "output_type": "execute_result"
    }
   ],
   "source": [
    "SQL = '''\n",
    "select df1.data1, df1.key, df2.data2  from df1 left outer join df2 using(key)\n",
    "union\n",
    "select df1.data1, df2.key, df2.data2  from df2 left outer join df1 using(key)\n",
    "'''\n",
    "df = pd.read_sql_query(SQL, con);\n",
    "df"
   ]
  },
  {
   "cell_type": "code",
   "execution_count": 28,
   "metadata": {
    "ExecuteTime": {
     "end_time": "2017-08-28T07:17:11.220096Z",
     "start_time": "2017-08-28T07:17:11.204053Z"
    }
   },
   "outputs": [
    {
     "data": {
      "text/html": [
       "<div>\n",
       "<style>\n",
       "    .dataframe thead tr:only-child th {\n",
       "        text-align: right;\n",
       "    }\n",
       "\n",
       "    .dataframe thead th {\n",
       "        text-align: left;\n",
       "    }\n",
       "\n",
       "    .dataframe tbody tr th {\n",
       "        vertical-align: top;\n",
       "    }\n",
       "</style>\n",
       "<table border=\"1\" class=\"dataframe\">\n",
       "  <thead>\n",
       "    <tr style=\"text-align: right;\">\n",
       "      <th></th>\n",
       "      <th>data1</th>\n",
       "      <th>key</th>\n",
       "      <th>data2</th>\n",
       "    </tr>\n",
       "  </thead>\n",
       "  <tbody>\n",
       "    <tr>\n",
       "      <th>0</th>\n",
       "      <td>0.0</td>\n",
       "      <td>b</td>\n",
       "      <td>1.0</td>\n",
       "    </tr>\n",
       "    <tr>\n",
       "      <th>1</th>\n",
       "      <td>1.0</td>\n",
       "      <td>b</td>\n",
       "      <td>1.0</td>\n",
       "    </tr>\n",
       "    <tr>\n",
       "      <th>3</th>\n",
       "      <td>2.0</td>\n",
       "      <td>a</td>\n",
       "      <td>0.0</td>\n",
       "    </tr>\n",
       "    <tr>\n",
       "      <th>6</th>\n",
       "      <td>3.0</td>\n",
       "      <td>c</td>\n",
       "      <td>NaN</td>\n",
       "    </tr>\n",
       "    <tr>\n",
       "      <th>4</th>\n",
       "      <td>4.0</td>\n",
       "      <td>a</td>\n",
       "      <td>0.0</td>\n",
       "    </tr>\n",
       "    <tr>\n",
       "      <th>5</th>\n",
       "      <td>5.0</td>\n",
       "      <td>a</td>\n",
       "      <td>0.0</td>\n",
       "    </tr>\n",
       "    <tr>\n",
       "      <th>2</th>\n",
       "      <td>6.0</td>\n",
       "      <td>b</td>\n",
       "      <td>1.0</td>\n",
       "    </tr>\n",
       "    <tr>\n",
       "      <th>7</th>\n",
       "      <td>NaN</td>\n",
       "      <td>d</td>\n",
       "      <td>2.0</td>\n",
       "    </tr>\n",
       "  </tbody>\n",
       "</table>\n",
       "</div>"
      ],
      "text/plain": [
       "   data1 key  data2\n",
       "0    0.0   b    1.0\n",
       "1    1.0   b    1.0\n",
       "3    2.0   a    0.0\n",
       "6    3.0   c    NaN\n",
       "4    4.0   a    0.0\n",
       "5    5.0   a    0.0\n",
       "2    6.0   b    1.0\n",
       "7    NaN   d    2.0"
      ]
     },
     "execution_count": 28,
     "metadata": {},
     "output_type": "execute_result"
    }
   ],
   "source": [
    "pd.merge(df1, df2, how='outer').sort_values(by=[\"data1\"])"
   ]
  },
  {
   "cell_type": "markdown",
   "metadata": {
    "ExecuteTime": {
     "end_time": "2017-08-24T08:43:05.253081Z",
     "start_time": "2017-08-24T08:43:05.248067Z"
    }
   },
   "source": [
    "<hr>"
   ]
  },
  {
   "cell_type": "code",
   "execution_count": null,
   "metadata": {
    "collapsed": true
   },
   "outputs": [],
   "source": []
  },
  {
   "cell_type": "code",
   "execution_count": 29,
   "metadata": {
    "ExecuteTime": {
     "end_time": "2017-08-28T07:17:13.100712Z",
     "start_time": "2017-08-28T07:17:13.093694Z"
    },
    "collapsed": true
   },
   "outputs": [],
   "source": [
    "df1 = DataFrame({'key': ['b', 'b', 'a', 'c', 'a', 'b'],\n",
    "                 'data1': range(6)})\n",
    "df2 = DataFrame({'key': ['a', 'b', 'a', 'b', 'd'],\n",
    "                 'data2': range(5)})"
   ]
  },
  {
   "cell_type": "code",
   "execution_count": 30,
   "metadata": {
    "ExecuteTime": {
     "end_time": "2017-08-28T07:17:13.736889Z",
     "start_time": "2017-08-28T07:17:13.728870Z"
    }
   },
   "outputs": [
    {
     "data": {
      "text/html": [
       "<div>\n",
       "<style>\n",
       "    .dataframe thead tr:only-child th {\n",
       "        text-align: right;\n",
       "    }\n",
       "\n",
       "    .dataframe thead th {\n",
       "        text-align: left;\n",
       "    }\n",
       "\n",
       "    .dataframe tbody tr th {\n",
       "        vertical-align: top;\n",
       "    }\n",
       "</style>\n",
       "<table border=\"1\" class=\"dataframe\">\n",
       "  <thead>\n",
       "    <tr style=\"text-align: right;\">\n",
       "      <th></th>\n",
       "      <th>data1</th>\n",
       "      <th>key</th>\n",
       "    </tr>\n",
       "  </thead>\n",
       "  <tbody>\n",
       "    <tr>\n",
       "      <th>0</th>\n",
       "      <td>0</td>\n",
       "      <td>b</td>\n",
       "    </tr>\n",
       "    <tr>\n",
       "      <th>1</th>\n",
       "      <td>1</td>\n",
       "      <td>b</td>\n",
       "    </tr>\n",
       "    <tr>\n",
       "      <th>2</th>\n",
       "      <td>2</td>\n",
       "      <td>a</td>\n",
       "    </tr>\n",
       "    <tr>\n",
       "      <th>3</th>\n",
       "      <td>3</td>\n",
       "      <td>c</td>\n",
       "    </tr>\n",
       "    <tr>\n",
       "      <th>4</th>\n",
       "      <td>4</td>\n",
       "      <td>a</td>\n",
       "    </tr>\n",
       "    <tr>\n",
       "      <th>5</th>\n",
       "      <td>5</td>\n",
       "      <td>b</td>\n",
       "    </tr>\n",
       "  </tbody>\n",
       "</table>\n",
       "</div>"
      ],
      "text/plain": [
       "   data1 key\n",
       "0      0   b\n",
       "1      1   b\n",
       "2      2   a\n",
       "3      3   c\n",
       "4      4   a\n",
       "5      5   b"
      ]
     },
     "execution_count": 30,
     "metadata": {},
     "output_type": "execute_result"
    }
   ],
   "source": [
    "df1"
   ]
  },
  {
   "cell_type": "code",
   "execution_count": 31,
   "metadata": {
    "ExecuteTime": {
     "end_time": "2017-08-28T07:17:14.345136Z",
     "start_time": "2017-08-28T07:17:14.339120Z"
    }
   },
   "outputs": [
    {
     "data": {
      "text/html": [
       "<div>\n",
       "<style>\n",
       "    .dataframe thead tr:only-child th {\n",
       "        text-align: right;\n",
       "    }\n",
       "\n",
       "    .dataframe thead th {\n",
       "        text-align: left;\n",
       "    }\n",
       "\n",
       "    .dataframe tbody tr th {\n",
       "        vertical-align: top;\n",
       "    }\n",
       "</style>\n",
       "<table border=\"1\" class=\"dataframe\">\n",
       "  <thead>\n",
       "    <tr style=\"text-align: right;\">\n",
       "      <th></th>\n",
       "      <th>data2</th>\n",
       "      <th>key</th>\n",
       "    </tr>\n",
       "  </thead>\n",
       "  <tbody>\n",
       "    <tr>\n",
       "      <th>0</th>\n",
       "      <td>0</td>\n",
       "      <td>a</td>\n",
       "    </tr>\n",
       "    <tr>\n",
       "      <th>1</th>\n",
       "      <td>1</td>\n",
       "      <td>b</td>\n",
       "    </tr>\n",
       "    <tr>\n",
       "      <th>2</th>\n",
       "      <td>2</td>\n",
       "      <td>a</td>\n",
       "    </tr>\n",
       "    <tr>\n",
       "      <th>3</th>\n",
       "      <td>3</td>\n",
       "      <td>b</td>\n",
       "    </tr>\n",
       "    <tr>\n",
       "      <th>4</th>\n",
       "      <td>4</td>\n",
       "      <td>d</td>\n",
       "    </tr>\n",
       "  </tbody>\n",
       "</table>\n",
       "</div>"
      ],
      "text/plain": [
       "   data2 key\n",
       "0      0   a\n",
       "1      1   b\n",
       "2      2   a\n",
       "3      3   b\n",
       "4      4   d"
      ]
     },
     "execution_count": 31,
     "metadata": {},
     "output_type": "execute_result"
    }
   ],
   "source": [
    "df2"
   ]
  },
  {
   "cell_type": "markdown",
   "metadata": {},
   "source": [
    "- left outer join 相当\n",
    "\n",
    "```sql\n",
    "select * from df1 left outer join df2 on df1.key=df2.key\n",
    "```\n",
    "\n",
    " - 右と左のキーが同じものを、外部結合\n",
    " - left outer join と right outer join の和集合"
   ]
  },
  {
   "cell_type": "code",
   "execution_count": 32,
   "metadata": {
    "ExecuteTime": {
     "end_time": "2017-08-28T07:17:15.829380Z",
     "start_time": "2017-08-28T07:17:15.813339Z"
    }
   },
   "outputs": [
    {
     "data": {
      "text/html": [
       "<div>\n",
       "<style>\n",
       "    .dataframe thead tr:only-child th {\n",
       "        text-align: right;\n",
       "    }\n",
       "\n",
       "    .dataframe thead th {\n",
       "        text-align: left;\n",
       "    }\n",
       "\n",
       "    .dataframe tbody tr th {\n",
       "        vertical-align: top;\n",
       "    }\n",
       "</style>\n",
       "<table border=\"1\" class=\"dataframe\">\n",
       "  <thead>\n",
       "    <tr style=\"text-align: right;\">\n",
       "      <th></th>\n",
       "      <th>data1</th>\n",
       "      <th>key</th>\n",
       "      <th>data2</th>\n",
       "    </tr>\n",
       "  </thead>\n",
       "  <tbody>\n",
       "    <tr>\n",
       "      <th>0</th>\n",
       "      <td>0</td>\n",
       "      <td>b</td>\n",
       "      <td>1.0</td>\n",
       "    </tr>\n",
       "    <tr>\n",
       "      <th>1</th>\n",
       "      <td>0</td>\n",
       "      <td>b</td>\n",
       "      <td>3.0</td>\n",
       "    </tr>\n",
       "    <tr>\n",
       "      <th>2</th>\n",
       "      <td>1</td>\n",
       "      <td>b</td>\n",
       "      <td>1.0</td>\n",
       "    </tr>\n",
       "    <tr>\n",
       "      <th>3</th>\n",
       "      <td>1</td>\n",
       "      <td>b</td>\n",
       "      <td>3.0</td>\n",
       "    </tr>\n",
       "    <tr>\n",
       "      <th>4</th>\n",
       "      <td>2</td>\n",
       "      <td>a</td>\n",
       "      <td>0.0</td>\n",
       "    </tr>\n",
       "    <tr>\n",
       "      <th>5</th>\n",
       "      <td>2</td>\n",
       "      <td>a</td>\n",
       "      <td>2.0</td>\n",
       "    </tr>\n",
       "    <tr>\n",
       "      <th>6</th>\n",
       "      <td>3</td>\n",
       "      <td>c</td>\n",
       "      <td>NaN</td>\n",
       "    </tr>\n",
       "    <tr>\n",
       "      <th>7</th>\n",
       "      <td>4</td>\n",
       "      <td>a</td>\n",
       "      <td>0.0</td>\n",
       "    </tr>\n",
       "    <tr>\n",
       "      <th>8</th>\n",
       "      <td>4</td>\n",
       "      <td>a</td>\n",
       "      <td>2.0</td>\n",
       "    </tr>\n",
       "    <tr>\n",
       "      <th>9</th>\n",
       "      <td>5</td>\n",
       "      <td>b</td>\n",
       "      <td>1.0</td>\n",
       "    </tr>\n",
       "    <tr>\n",
       "      <th>10</th>\n",
       "      <td>5</td>\n",
       "      <td>b</td>\n",
       "      <td>3.0</td>\n",
       "    </tr>\n",
       "  </tbody>\n",
       "</table>\n",
       "</div>"
      ],
      "text/plain": [
       "    data1 key  data2\n",
       "0       0   b    1.0\n",
       "1       0   b    3.0\n",
       "2       1   b    1.0\n",
       "3       1   b    3.0\n",
       "4       2   a    0.0\n",
       "5       2   a    2.0\n",
       "6       3   c    NaN\n",
       "7       4   a    0.0\n",
       "8       4   a    2.0\n",
       "9       5   b    1.0\n",
       "10      5   b    3.0"
      ]
     },
     "execution_count": 32,
     "metadata": {},
     "output_type": "execute_result"
    }
   ],
   "source": [
    "pd.merge(df1, df2, on='key', how='left')"
   ]
  },
  {
   "cell_type": "markdown",
   "metadata": {},
   "source": [
    "<hr>\n",
    "<span style=\"color:blue\">sqlite3</span>"
   ]
  },
  {
   "cell_type": "code",
   "execution_count": 33,
   "metadata": {
    "ExecuteTime": {
     "end_time": "2017-08-28T07:17:17.339321Z",
     "start_time": "2017-08-28T07:17:17.335312Z"
    },
    "collapsed": true
   },
   "outputs": [],
   "source": [
    "import sqlite3\n",
    "con = sqlite3.connect(\":memory:\")"
   ]
  },
  {
   "cell_type": "code",
   "execution_count": 34,
   "metadata": {
    "ExecuteTime": {
     "end_time": "2017-08-28T07:17:17.820604Z",
     "start_time": "2017-08-28T07:17:17.813586Z"
    }
   },
   "outputs": [
    {
     "data": {
      "text/plain": [
       "<sqlite3.Cursor at 0x23d8718f960>"
      ]
     },
     "execution_count": 34,
     "metadata": {},
     "output_type": "execute_result"
    }
   ],
   "source": [
    "con.execute(\"create table if not exists df1(key text, data1 integer)\")\n",
    "con.execute(\"delete from df1\");\n",
    "con.executemany(\"insert into df1(key, data1) values(?,?)\",df1[[\"key\",\"data1\"]].values)"
   ]
  },
  {
   "cell_type": "code",
   "execution_count": 35,
   "metadata": {
    "ExecuteTime": {
     "end_time": "2017-08-28T07:17:18.262914Z",
     "start_time": "2017-08-28T07:17:18.256897Z"
    }
   },
   "outputs": [
    {
     "data": {
      "text/plain": [
       "<sqlite3.Cursor at 0x23d8718f9d0>"
      ]
     },
     "execution_count": 35,
     "metadata": {},
     "output_type": "execute_result"
    }
   ],
   "source": [
    "con.execute(\"create table if not exists df2(key text, data2 integer)\")\n",
    "con.execute(\"delete from df2\");\n",
    "con.executemany(\"insert into df2(key, data2) values(?,?)\",df2[[\"key\",\"data2\"]].values)"
   ]
  },
  {
   "cell_type": "code",
   "execution_count": 36,
   "metadata": {
    "ExecuteTime": {
     "end_time": "2017-08-28T07:17:18.720132Z",
     "start_time": "2017-08-28T07:17:18.710106Z"
    }
   },
   "outputs": [
    {
     "data": {
      "text/html": [
       "<div>\n",
       "<style>\n",
       "    .dataframe thead tr:only-child th {\n",
       "        text-align: right;\n",
       "    }\n",
       "\n",
       "    .dataframe thead th {\n",
       "        text-align: left;\n",
       "    }\n",
       "\n",
       "    .dataframe tbody tr th {\n",
       "        vertical-align: top;\n",
       "    }\n",
       "</style>\n",
       "<table border=\"1\" class=\"dataframe\">\n",
       "  <thead>\n",
       "    <tr style=\"text-align: right;\">\n",
       "      <th></th>\n",
       "      <th>data1</th>\n",
       "      <th>key</th>\n",
       "      <th>data2</th>\n",
       "    </tr>\n",
       "  </thead>\n",
       "  <tbody>\n",
       "    <tr>\n",
       "      <th>0</th>\n",
       "      <td>0</td>\n",
       "      <td>b</td>\n",
       "      <td>1.0</td>\n",
       "    </tr>\n",
       "    <tr>\n",
       "      <th>1</th>\n",
       "      <td>0</td>\n",
       "      <td>b</td>\n",
       "      <td>3.0</td>\n",
       "    </tr>\n",
       "    <tr>\n",
       "      <th>2</th>\n",
       "      <td>1</td>\n",
       "      <td>b</td>\n",
       "      <td>1.0</td>\n",
       "    </tr>\n",
       "    <tr>\n",
       "      <th>3</th>\n",
       "      <td>1</td>\n",
       "      <td>b</td>\n",
       "      <td>3.0</td>\n",
       "    </tr>\n",
       "    <tr>\n",
       "      <th>4</th>\n",
       "      <td>2</td>\n",
       "      <td>a</td>\n",
       "      <td>0.0</td>\n",
       "    </tr>\n",
       "    <tr>\n",
       "      <th>5</th>\n",
       "      <td>2</td>\n",
       "      <td>a</td>\n",
       "      <td>2.0</td>\n",
       "    </tr>\n",
       "    <tr>\n",
       "      <th>6</th>\n",
       "      <td>3</td>\n",
       "      <td>c</td>\n",
       "      <td>NaN</td>\n",
       "    </tr>\n",
       "    <tr>\n",
       "      <th>7</th>\n",
       "      <td>4</td>\n",
       "      <td>a</td>\n",
       "      <td>0.0</td>\n",
       "    </tr>\n",
       "    <tr>\n",
       "      <th>8</th>\n",
       "      <td>4</td>\n",
       "      <td>a</td>\n",
       "      <td>2.0</td>\n",
       "    </tr>\n",
       "    <tr>\n",
       "      <th>9</th>\n",
       "      <td>5</td>\n",
       "      <td>b</td>\n",
       "      <td>1.0</td>\n",
       "    </tr>\n",
       "    <tr>\n",
       "      <th>10</th>\n",
       "      <td>5</td>\n",
       "      <td>b</td>\n",
       "      <td>3.0</td>\n",
       "    </tr>\n",
       "  </tbody>\n",
       "</table>\n",
       "</div>"
      ],
      "text/plain": [
       "    data1 key  data2\n",
       "0       0   b    1.0\n",
       "1       0   b    3.0\n",
       "2       1   b    1.0\n",
       "3       1   b    3.0\n",
       "4       2   a    0.0\n",
       "5       2   a    2.0\n",
       "6       3   c    NaN\n",
       "7       4   a    0.0\n",
       "8       4   a    2.0\n",
       "9       5   b    1.0\n",
       "10      5   b    3.0"
      ]
     },
     "execution_count": 36,
     "metadata": {},
     "output_type": "execute_result"
    }
   ],
   "source": [
    "SQL = '''\n",
    "select df1.data1, df1.key, df2.data2\n",
    "from df1\n",
    "left outer join df2\n",
    "using(key)\n",
    "'''\n",
    "pd.read_sql_query(SQL, con)"
   ]
  },
  {
   "cell_type": "code",
   "execution_count": 37,
   "metadata": {
    "ExecuteTime": {
     "end_time": "2017-08-28T07:17:19.230492Z",
     "start_time": "2017-08-28T07:17:19.215453Z"
    }
   },
   "outputs": [
    {
     "data": {
      "text/html": [
       "<div>\n",
       "<style>\n",
       "    .dataframe thead tr:only-child th {\n",
       "        text-align: right;\n",
       "    }\n",
       "\n",
       "    .dataframe thead th {\n",
       "        text-align: left;\n",
       "    }\n",
       "\n",
       "    .dataframe tbody tr th {\n",
       "        vertical-align: top;\n",
       "    }\n",
       "</style>\n",
       "<table border=\"1\" class=\"dataframe\">\n",
       "  <thead>\n",
       "    <tr style=\"text-align: right;\">\n",
       "      <th></th>\n",
       "      <th>data1</th>\n",
       "      <th>key</th>\n",
       "      <th>data2</th>\n",
       "    </tr>\n",
       "  </thead>\n",
       "  <tbody>\n",
       "    <tr>\n",
       "      <th>0</th>\n",
       "      <td>0</td>\n",
       "      <td>b</td>\n",
       "      <td>1.0</td>\n",
       "    </tr>\n",
       "    <tr>\n",
       "      <th>1</th>\n",
       "      <td>0</td>\n",
       "      <td>b</td>\n",
       "      <td>3.0</td>\n",
       "    </tr>\n",
       "    <tr>\n",
       "      <th>2</th>\n",
       "      <td>1</td>\n",
       "      <td>b</td>\n",
       "      <td>1.0</td>\n",
       "    </tr>\n",
       "    <tr>\n",
       "      <th>3</th>\n",
       "      <td>1</td>\n",
       "      <td>b</td>\n",
       "      <td>3.0</td>\n",
       "    </tr>\n",
       "    <tr>\n",
       "      <th>4</th>\n",
       "      <td>2</td>\n",
       "      <td>a</td>\n",
       "      <td>0.0</td>\n",
       "    </tr>\n",
       "    <tr>\n",
       "      <th>5</th>\n",
       "      <td>2</td>\n",
       "      <td>a</td>\n",
       "      <td>2.0</td>\n",
       "    </tr>\n",
       "    <tr>\n",
       "      <th>6</th>\n",
       "      <td>3</td>\n",
       "      <td>c</td>\n",
       "      <td>NaN</td>\n",
       "    </tr>\n",
       "    <tr>\n",
       "      <th>7</th>\n",
       "      <td>4</td>\n",
       "      <td>a</td>\n",
       "      <td>0.0</td>\n",
       "    </tr>\n",
       "    <tr>\n",
       "      <th>8</th>\n",
       "      <td>4</td>\n",
       "      <td>a</td>\n",
       "      <td>2.0</td>\n",
       "    </tr>\n",
       "    <tr>\n",
       "      <th>9</th>\n",
       "      <td>5</td>\n",
       "      <td>b</td>\n",
       "      <td>1.0</td>\n",
       "    </tr>\n",
       "    <tr>\n",
       "      <th>10</th>\n",
       "      <td>5</td>\n",
       "      <td>b</td>\n",
       "      <td>3.0</td>\n",
       "    </tr>\n",
       "  </tbody>\n",
       "</table>\n",
       "</div>"
      ],
      "text/plain": [
       "    data1 key  data2\n",
       "0       0   b    1.0\n",
       "1       0   b    3.0\n",
       "2       1   b    1.0\n",
       "3       1   b    3.0\n",
       "4       2   a    0.0\n",
       "5       2   a    2.0\n",
       "6       3   c    NaN\n",
       "7       4   a    0.0\n",
       "8       4   a    2.0\n",
       "9       5   b    1.0\n",
       "10      5   b    3.0"
      ]
     },
     "execution_count": 37,
     "metadata": {},
     "output_type": "execute_result"
    }
   ],
   "source": [
    "pd.merge(df1, df2, on='key', how='left').sort_values(by=[\"data1\"])"
   ]
  },
  {
   "cell_type": "markdown",
   "metadata": {},
   "source": [
    "<hr>"
   ]
  },
  {
   "cell_type": "code",
   "execution_count": null,
   "metadata": {
    "collapsed": true
   },
   "outputs": [],
   "source": []
  },
  {
   "cell_type": "markdown",
   "metadata": {},
   "source": [
    "- natural join 相当\n",
    "\n",
    "```sql\n",
    "select * from df1 natural join df2\n",
    "```\n"
   ]
  },
  {
   "cell_type": "code",
   "execution_count": 38,
   "metadata": {
    "ExecuteTime": {
     "end_time": "2017-08-28T07:17:20.944153Z",
     "start_time": "2017-08-28T07:17:20.934127Z"
    },
    "scrolled": true
   },
   "outputs": [
    {
     "data": {
      "text/html": [
       "<div>\n",
       "<style>\n",
       "    .dataframe thead tr:only-child th {\n",
       "        text-align: right;\n",
       "    }\n",
       "\n",
       "    .dataframe thead th {\n",
       "        text-align: left;\n",
       "    }\n",
       "\n",
       "    .dataframe tbody tr th {\n",
       "        vertical-align: top;\n",
       "    }\n",
       "</style>\n",
       "<table border=\"1\" class=\"dataframe\">\n",
       "  <thead>\n",
       "    <tr style=\"text-align: right;\">\n",
       "      <th></th>\n",
       "      <th>data1</th>\n",
       "      <th>key</th>\n",
       "      <th>data2</th>\n",
       "    </tr>\n",
       "  </thead>\n",
       "  <tbody>\n",
       "    <tr>\n",
       "      <th>0</th>\n",
       "      <td>0</td>\n",
       "      <td>b</td>\n",
       "      <td>1</td>\n",
       "    </tr>\n",
       "    <tr>\n",
       "      <th>1</th>\n",
       "      <td>0</td>\n",
       "      <td>b</td>\n",
       "      <td>3</td>\n",
       "    </tr>\n",
       "    <tr>\n",
       "      <th>2</th>\n",
       "      <td>1</td>\n",
       "      <td>b</td>\n",
       "      <td>1</td>\n",
       "    </tr>\n",
       "    <tr>\n",
       "      <th>3</th>\n",
       "      <td>1</td>\n",
       "      <td>b</td>\n",
       "      <td>3</td>\n",
       "    </tr>\n",
       "    <tr>\n",
       "      <th>4</th>\n",
       "      <td>5</td>\n",
       "      <td>b</td>\n",
       "      <td>1</td>\n",
       "    </tr>\n",
       "    <tr>\n",
       "      <th>5</th>\n",
       "      <td>5</td>\n",
       "      <td>b</td>\n",
       "      <td>3</td>\n",
       "    </tr>\n",
       "    <tr>\n",
       "      <th>6</th>\n",
       "      <td>2</td>\n",
       "      <td>a</td>\n",
       "      <td>0</td>\n",
       "    </tr>\n",
       "    <tr>\n",
       "      <th>7</th>\n",
       "      <td>2</td>\n",
       "      <td>a</td>\n",
       "      <td>2</td>\n",
       "    </tr>\n",
       "    <tr>\n",
       "      <th>8</th>\n",
       "      <td>4</td>\n",
       "      <td>a</td>\n",
       "      <td>0</td>\n",
       "    </tr>\n",
       "    <tr>\n",
       "      <th>9</th>\n",
       "      <td>4</td>\n",
       "      <td>a</td>\n",
       "      <td>2</td>\n",
       "    </tr>\n",
       "  </tbody>\n",
       "</table>\n",
       "</div>"
      ],
      "text/plain": [
       "   data1 key  data2\n",
       "0      0   b      1\n",
       "1      0   b      3\n",
       "2      1   b      1\n",
       "3      1   b      3\n",
       "4      5   b      1\n",
       "5      5   b      3\n",
       "6      2   a      0\n",
       "7      2   a      2\n",
       "8      4   a      0\n",
       "9      4   a      2"
      ]
     },
     "execution_count": 38,
     "metadata": {},
     "output_type": "execute_result"
    }
   ],
   "source": [
    "pd.merge(df1, df2, how='inner')"
   ]
  },
  {
   "cell_type": "markdown",
   "metadata": {},
   "source": [
    "<hr>\n",
    "<span style=\"color:blue\">sqlite3</span>"
   ]
  },
  {
   "cell_type": "code",
   "execution_count": 39,
   "metadata": {
    "ExecuteTime": {
     "end_time": "2017-08-28T07:17:21.662068Z",
     "start_time": "2017-08-28T07:17:21.650039Z"
    },
    "scrolled": true
   },
   "outputs": [
    {
     "data": {
      "text/html": [
       "<div>\n",
       "<style>\n",
       "    .dataframe thead tr:only-child th {\n",
       "        text-align: right;\n",
       "    }\n",
       "\n",
       "    .dataframe thead th {\n",
       "        text-align: left;\n",
       "    }\n",
       "\n",
       "    .dataframe tbody tr th {\n",
       "        vertical-align: top;\n",
       "    }\n",
       "</style>\n",
       "<table border=\"1\" class=\"dataframe\">\n",
       "  <thead>\n",
       "    <tr style=\"text-align: right;\">\n",
       "      <th></th>\n",
       "      <th>data1</th>\n",
       "      <th>key</th>\n",
       "      <th>data2</th>\n",
       "    </tr>\n",
       "  </thead>\n",
       "  <tbody>\n",
       "    <tr>\n",
       "      <th>0</th>\n",
       "      <td>0</td>\n",
       "      <td>b</td>\n",
       "      <td>1</td>\n",
       "    </tr>\n",
       "    <tr>\n",
       "      <th>1</th>\n",
       "      <td>0</td>\n",
       "      <td>b</td>\n",
       "      <td>3</td>\n",
       "    </tr>\n",
       "    <tr>\n",
       "      <th>2</th>\n",
       "      <td>1</td>\n",
       "      <td>b</td>\n",
       "      <td>1</td>\n",
       "    </tr>\n",
       "    <tr>\n",
       "      <th>3</th>\n",
       "      <td>1</td>\n",
       "      <td>b</td>\n",
       "      <td>3</td>\n",
       "    </tr>\n",
       "    <tr>\n",
       "      <th>4</th>\n",
       "      <td>2</td>\n",
       "      <td>a</td>\n",
       "      <td>0</td>\n",
       "    </tr>\n",
       "    <tr>\n",
       "      <th>5</th>\n",
       "      <td>2</td>\n",
       "      <td>a</td>\n",
       "      <td>2</td>\n",
       "    </tr>\n",
       "    <tr>\n",
       "      <th>6</th>\n",
       "      <td>4</td>\n",
       "      <td>a</td>\n",
       "      <td>0</td>\n",
       "    </tr>\n",
       "    <tr>\n",
       "      <th>7</th>\n",
       "      <td>4</td>\n",
       "      <td>a</td>\n",
       "      <td>2</td>\n",
       "    </tr>\n",
       "    <tr>\n",
       "      <th>8</th>\n",
       "      <td>5</td>\n",
       "      <td>b</td>\n",
       "      <td>1</td>\n",
       "    </tr>\n",
       "    <tr>\n",
       "      <th>9</th>\n",
       "      <td>5</td>\n",
       "      <td>b</td>\n",
       "      <td>3</td>\n",
       "    </tr>\n",
       "  </tbody>\n",
       "</table>\n",
       "</div>"
      ],
      "text/plain": [
       "   data1 key  data2\n",
       "0      0   b      1\n",
       "1      0   b      3\n",
       "2      1   b      1\n",
       "3      1   b      3\n",
       "4      2   a      0\n",
       "5      2   a      2\n",
       "6      4   a      0\n",
       "7      4   a      2\n",
       "8      5   b      1\n",
       "9      5   b      3"
      ]
     },
     "execution_count": 39,
     "metadata": {},
     "output_type": "execute_result"
    }
   ],
   "source": [
    "SQL = '''\n",
    "select df1.data1, df1.key, df2.data2\n",
    "from df1\n",
    "inner join df2\n",
    "using(key)\n",
    "'''\n",
    "pd.read_sql_query(SQL, con)"
   ]
  },
  {
   "cell_type": "code",
   "execution_count": 40,
   "metadata": {
    "ExecuteTime": {
     "end_time": "2017-08-28T07:17:22.055116Z",
     "start_time": "2017-08-28T07:17:22.043086Z"
    },
    "scrolled": true
   },
   "outputs": [
    {
     "data": {
      "text/html": [
       "<div>\n",
       "<style>\n",
       "    .dataframe thead tr:only-child th {\n",
       "        text-align: right;\n",
       "    }\n",
       "\n",
       "    .dataframe thead th {\n",
       "        text-align: left;\n",
       "    }\n",
       "\n",
       "    .dataframe tbody tr th {\n",
       "        vertical-align: top;\n",
       "    }\n",
       "</style>\n",
       "<table border=\"1\" class=\"dataframe\">\n",
       "  <thead>\n",
       "    <tr style=\"text-align: right;\">\n",
       "      <th></th>\n",
       "      <th>data1</th>\n",
       "      <th>key</th>\n",
       "      <th>data2</th>\n",
       "    </tr>\n",
       "  </thead>\n",
       "  <tbody>\n",
       "    <tr>\n",
       "      <th>0</th>\n",
       "      <td>0</td>\n",
       "      <td>b</td>\n",
       "      <td>1</td>\n",
       "    </tr>\n",
       "    <tr>\n",
       "      <th>1</th>\n",
       "      <td>0</td>\n",
       "      <td>b</td>\n",
       "      <td>3</td>\n",
       "    </tr>\n",
       "    <tr>\n",
       "      <th>2</th>\n",
       "      <td>1</td>\n",
       "      <td>b</td>\n",
       "      <td>1</td>\n",
       "    </tr>\n",
       "    <tr>\n",
       "      <th>3</th>\n",
       "      <td>1</td>\n",
       "      <td>b</td>\n",
       "      <td>3</td>\n",
       "    </tr>\n",
       "    <tr>\n",
       "      <th>6</th>\n",
       "      <td>2</td>\n",
       "      <td>a</td>\n",
       "      <td>0</td>\n",
       "    </tr>\n",
       "    <tr>\n",
       "      <th>7</th>\n",
       "      <td>2</td>\n",
       "      <td>a</td>\n",
       "      <td>2</td>\n",
       "    </tr>\n",
       "    <tr>\n",
       "      <th>8</th>\n",
       "      <td>4</td>\n",
       "      <td>a</td>\n",
       "      <td>0</td>\n",
       "    </tr>\n",
       "    <tr>\n",
       "      <th>9</th>\n",
       "      <td>4</td>\n",
       "      <td>a</td>\n",
       "      <td>2</td>\n",
       "    </tr>\n",
       "    <tr>\n",
       "      <th>4</th>\n",
       "      <td>5</td>\n",
       "      <td>b</td>\n",
       "      <td>1</td>\n",
       "    </tr>\n",
       "    <tr>\n",
       "      <th>5</th>\n",
       "      <td>5</td>\n",
       "      <td>b</td>\n",
       "      <td>3</td>\n",
       "    </tr>\n",
       "  </tbody>\n",
       "</table>\n",
       "</div>"
      ],
      "text/plain": [
       "   data1 key  data2\n",
       "0      0   b      1\n",
       "1      0   b      3\n",
       "2      1   b      1\n",
       "3      1   b      3\n",
       "6      2   a      0\n",
       "7      2   a      2\n",
       "8      4   a      0\n",
       "9      4   a      2\n",
       "4      5   b      1\n",
       "5      5   b      3"
      ]
     },
     "execution_count": 40,
     "metadata": {},
     "output_type": "execute_result"
    }
   ],
   "source": [
    "pd.merge(df1, df2, how='inner').sort_values(by=[\"data1\"])"
   ]
  },
  {
   "cell_type": "markdown",
   "metadata": {},
   "source": [
    "<hr>"
   ]
  },
  {
   "cell_type": "code",
   "execution_count": null,
   "metadata": {
    "collapsed": true
   },
   "outputs": [],
   "source": []
  },
  {
   "cell_type": "code",
   "execution_count": null,
   "metadata": {
    "collapsed": true
   },
   "outputs": [],
   "source": []
  },
  {
   "cell_type": "markdown",
   "metadata": {},
   "source": [
    "- full outer join 相当\n",
    "\n",
    "```sql\n",
    "select l.key1, l.key2, l.lval, r.rval from left l left join right r using(key1,key2)\n",
    "union\n",
    "select r.key1, r.key2, l.lval, r.rval from right r left join left l using(key1,key2);\n",
    "```\n",
    "\n",
    " - 右と左のキーが同じものを、外部結合\n",
    " - left outer join と right outer join の和集合を取り、right joinとleft join の両方を適用したもの"
   ]
  },
  {
   "cell_type": "code",
   "execution_count": 41,
   "metadata": {
    "ExecuteTime": {
     "end_time": "2017-08-28T07:17:23.688718Z",
     "start_time": "2017-08-28T07:17:23.667662Z"
    }
   },
   "outputs": [
    {
     "data": {
      "text/html": [
       "<div>\n",
       "<style>\n",
       "    .dataframe thead tr:only-child th {\n",
       "        text-align: right;\n",
       "    }\n",
       "\n",
       "    .dataframe thead th {\n",
       "        text-align: left;\n",
       "    }\n",
       "\n",
       "    .dataframe tbody tr th {\n",
       "        vertical-align: top;\n",
       "    }\n",
       "</style>\n",
       "<table border=\"1\" class=\"dataframe\">\n",
       "  <thead>\n",
       "    <tr style=\"text-align: right;\">\n",
       "      <th></th>\n",
       "      <th>key1</th>\n",
       "      <th>key2</th>\n",
       "      <th>lval</th>\n",
       "      <th>rval</th>\n",
       "    </tr>\n",
       "  </thead>\n",
       "  <tbody>\n",
       "    <tr>\n",
       "      <th>0</th>\n",
       "      <td>foo</td>\n",
       "      <td>one</td>\n",
       "      <td>1.0</td>\n",
       "      <td>4.0</td>\n",
       "    </tr>\n",
       "    <tr>\n",
       "      <th>1</th>\n",
       "      <td>foo</td>\n",
       "      <td>one</td>\n",
       "      <td>1.0</td>\n",
       "      <td>5.0</td>\n",
       "    </tr>\n",
       "    <tr>\n",
       "      <th>2</th>\n",
       "      <td>foo</td>\n",
       "      <td>two</td>\n",
       "      <td>2.0</td>\n",
       "      <td>NaN</td>\n",
       "    </tr>\n",
       "    <tr>\n",
       "      <th>3</th>\n",
       "      <td>bar</td>\n",
       "      <td>one</td>\n",
       "      <td>3.0</td>\n",
       "      <td>6.0</td>\n",
       "    </tr>\n",
       "    <tr>\n",
       "      <th>4</th>\n",
       "      <td>bar</td>\n",
       "      <td>two</td>\n",
       "      <td>NaN</td>\n",
       "      <td>7.0</td>\n",
       "    </tr>\n",
       "  </tbody>\n",
       "</table>\n",
       "</div>"
      ],
      "text/plain": [
       "  key1 key2  lval  rval\n",
       "0  foo  one   1.0   4.0\n",
       "1  foo  one   1.0   5.0\n",
       "2  foo  two   2.0   NaN\n",
       "3  bar  one   3.0   6.0\n",
       "4  bar  two   NaN   7.0"
      ]
     },
     "execution_count": 41,
     "metadata": {},
     "output_type": "execute_result"
    }
   ],
   "source": [
    "left = DataFrame({'key1': ['foo', 'foo', 'bar'],\n",
    "                  'key2': ['one', 'two', 'one'],\n",
    "                  'lval': [1, 2, 3]})\n",
    "right = DataFrame({'key1': ['foo', 'foo', 'bar', 'bar'],\n",
    "                   'key2': ['one', 'one', 'one', 'two'],\n",
    "                   'rval': [4, 5, 6, 7]})\n",
    "pd.merge(left, right, on=['key1', 'key2'], how='outer')"
   ]
  },
  {
   "cell_type": "markdown",
   "metadata": {},
   "source": [
    "<hr>\n",
    "<span style=\"color:blue\">sqlite3</span>"
   ]
  },
  {
   "cell_type": "code",
   "execution_count": 42,
   "metadata": {
    "ExecuteTime": {
     "end_time": "2017-08-28T07:17:24.582160Z",
     "start_time": "2017-08-28T07:17:24.241190Z"
    }
   },
   "outputs": [
    {
     "data": {
      "text/plain": [
       "<sqlite3.Cursor at 0x23d8718fea0>"
      ]
     },
     "execution_count": 42,
     "metadata": {},
     "output_type": "execute_result"
    }
   ],
   "source": [
    "import sqlite3\n",
    "#con = sqlite3.connect(\":memory:\")\n",
    "con = sqlite3.connect(\"test.sqlite3\", isolation_level = None) # auto commit\n",
    "con.execute(\"create table if not exists right( key1 text, key2 text, rval number)\")\n",
    "con.execute(\"create table if not exists left ( key1 text, key2 text, lval number)\")\n",
    "con.execute(\"delete from right\")\n",
    "con.execute(\"delete from left\")\n",
    "con.executemany(\"insert into left(key1, key2, lval)  values(?,?,?)\",  left[[\"key1\", \"key2\", \"lval\"]].values )\n",
    "con.executemany(\"insert into right(key1, key2, rval) values(?,?,?)\", right[[\"key1\", \"key2\", \"rval\"]].values )"
   ]
  },
  {
   "cell_type": "code",
   "execution_count": 43,
   "metadata": {
    "ExecuteTime": {
     "end_time": "2017-08-28T07:17:24.668390Z",
     "start_time": "2017-08-28T07:17:24.652347Z"
    }
   },
   "outputs": [
    {
     "data": {
      "text/html": [
       "<div>\n",
       "<style>\n",
       "    .dataframe thead tr:only-child th {\n",
       "        text-align: right;\n",
       "    }\n",
       "\n",
       "    .dataframe thead th {\n",
       "        text-align: left;\n",
       "    }\n",
       "\n",
       "    .dataframe tbody tr th {\n",
       "        vertical-align: top;\n",
       "    }\n",
       "</style>\n",
       "<table border=\"1\" class=\"dataframe\">\n",
       "  <thead>\n",
       "    <tr style=\"text-align: right;\">\n",
       "      <th></th>\n",
       "      <th>key1</th>\n",
       "      <th>key2</th>\n",
       "      <th>lval</th>\n",
       "      <th>rval</th>\n",
       "    </tr>\n",
       "  </thead>\n",
       "  <tbody>\n",
       "    <tr>\n",
       "      <th>0</th>\n",
       "      <td>bar</td>\n",
       "      <td>one</td>\n",
       "      <td>3.0</td>\n",
       "      <td>6.0</td>\n",
       "    </tr>\n",
       "    <tr>\n",
       "      <th>1</th>\n",
       "      <td>bar</td>\n",
       "      <td>two</td>\n",
       "      <td>NaN</td>\n",
       "      <td>7.0</td>\n",
       "    </tr>\n",
       "    <tr>\n",
       "      <th>2</th>\n",
       "      <td>foo</td>\n",
       "      <td>one</td>\n",
       "      <td>1.0</td>\n",
       "      <td>4.0</td>\n",
       "    </tr>\n",
       "    <tr>\n",
       "      <th>3</th>\n",
       "      <td>foo</td>\n",
       "      <td>one</td>\n",
       "      <td>1.0</td>\n",
       "      <td>5.0</td>\n",
       "    </tr>\n",
       "    <tr>\n",
       "      <th>4</th>\n",
       "      <td>foo</td>\n",
       "      <td>two</td>\n",
       "      <td>2.0</td>\n",
       "      <td>NaN</td>\n",
       "    </tr>\n",
       "  </tbody>\n",
       "</table>\n",
       "</div>"
      ],
      "text/plain": [
       "  key1 key2  lval  rval\n",
       "0  bar  one   3.0   6.0\n",
       "1  bar  two   NaN   7.0\n",
       "2  foo  one   1.0   4.0\n",
       "3  foo  one   1.0   5.0\n",
       "4  foo  two   2.0   NaN"
      ]
     },
     "execution_count": 43,
     "metadata": {},
     "output_type": "execute_result"
    }
   ],
   "source": [
    "SQL = '''\n",
    "select l.key1, l.key2, l.lval, r.rval from left l left join right r using(key1,key2)\n",
    "union\n",
    "select r.key1, r.key2, l.lval, r.rval from right r left join left l using(key1,key2)\n",
    "'''\n",
    "df = pd.read_sql_query(SQL, con);\n",
    "df"
   ]
  },
  {
   "cell_type": "markdown",
   "metadata": {},
   "source": [
    "- 何か変な感じです！\n",
    " - これだと、出力してくれません！、一度、変数に代入しないと表示されません\n",
    " \n",
    " ```python\n",
    "pd.read_sql_query(SQL, con); \n",
    " ```"
   ]
  },
  {
   "cell_type": "code",
   "execution_count": 44,
   "metadata": {
    "ExecuteTime": {
     "end_time": "2017-08-28T07:17:25.117587Z",
     "start_time": "2017-08-28T07:17:25.105556Z"
    }
   },
   "outputs": [
    {
     "data": {
      "text/html": [
       "<div>\n",
       "<style>\n",
       "    .dataframe thead tr:only-child th {\n",
       "        text-align: right;\n",
       "    }\n",
       "\n",
       "    .dataframe thead th {\n",
       "        text-align: left;\n",
       "    }\n",
       "\n",
       "    .dataframe tbody tr th {\n",
       "        vertical-align: top;\n",
       "    }\n",
       "</style>\n",
       "<table border=\"1\" class=\"dataframe\">\n",
       "  <thead>\n",
       "    <tr style=\"text-align: right;\">\n",
       "      <th></th>\n",
       "      <th>key1</th>\n",
       "      <th>key2</th>\n",
       "      <th>lval</th>\n",
       "      <th>rval</th>\n",
       "    </tr>\n",
       "  </thead>\n",
       "  <tbody>\n",
       "    <tr>\n",
       "      <th>3</th>\n",
       "      <td>bar</td>\n",
       "      <td>one</td>\n",
       "      <td>3.0</td>\n",
       "      <td>6.0</td>\n",
       "    </tr>\n",
       "    <tr>\n",
       "      <th>4</th>\n",
       "      <td>bar</td>\n",
       "      <td>two</td>\n",
       "      <td>NaN</td>\n",
       "      <td>7.0</td>\n",
       "    </tr>\n",
       "    <tr>\n",
       "      <th>0</th>\n",
       "      <td>foo</td>\n",
       "      <td>one</td>\n",
       "      <td>1.0</td>\n",
       "      <td>4.0</td>\n",
       "    </tr>\n",
       "    <tr>\n",
       "      <th>1</th>\n",
       "      <td>foo</td>\n",
       "      <td>one</td>\n",
       "      <td>1.0</td>\n",
       "      <td>5.0</td>\n",
       "    </tr>\n",
       "    <tr>\n",
       "      <th>2</th>\n",
       "      <td>foo</td>\n",
       "      <td>two</td>\n",
       "      <td>2.0</td>\n",
       "      <td>NaN</td>\n",
       "    </tr>\n",
       "  </tbody>\n",
       "</table>\n",
       "</div>"
      ],
      "text/plain": [
       "  key1 key2  lval  rval\n",
       "3  bar  one   3.0   6.0\n",
       "4  bar  two   NaN   7.0\n",
       "0  foo  one   1.0   4.0\n",
       "1  foo  one   1.0   5.0\n",
       "2  foo  two   2.0   NaN"
      ]
     },
     "execution_count": 44,
     "metadata": {},
     "output_type": "execute_result"
    }
   ],
   "source": [
    "pd.merge(left, right, on=['key1', 'key2'], how='outer').sort_values([\"key1\"])"
   ]
  },
  {
   "cell_type": "code",
   "execution_count": null,
   "metadata": {
    "collapsed": true
   },
   "outputs": [],
   "source": []
  },
  {
   "cell_type": "markdown",
   "metadata": {},
   "source": [
    "- inner join 相当\n",
    "\n",
    "```sql\n",
    "select distinct l.key1, l.key2 as key2_x, l.lval, r.key2 as key2_y, r.rval from left l inner join right r using(key1);\n",
    "```"
   ]
  },
  {
   "cell_type": "code",
   "execution_count": 45,
   "metadata": {
    "ExecuteTime": {
     "end_time": "2017-08-28T07:17:26.947022Z",
     "start_time": "2017-08-28T07:17:26.929977Z"
    }
   },
   "outputs": [
    {
     "data": {
      "text/html": [
       "<div>\n",
       "<style>\n",
       "    .dataframe thead tr:only-child th {\n",
       "        text-align: right;\n",
       "    }\n",
       "\n",
       "    .dataframe thead th {\n",
       "        text-align: left;\n",
       "    }\n",
       "\n",
       "    .dataframe tbody tr th {\n",
       "        vertical-align: top;\n",
       "    }\n",
       "</style>\n",
       "<table border=\"1\" class=\"dataframe\">\n",
       "  <thead>\n",
       "    <tr style=\"text-align: right;\">\n",
       "      <th></th>\n",
       "      <th>key1</th>\n",
       "      <th>key2_x</th>\n",
       "      <th>lval</th>\n",
       "      <th>key2_y</th>\n",
       "      <th>rval</th>\n",
       "    </tr>\n",
       "  </thead>\n",
       "  <tbody>\n",
       "    <tr>\n",
       "      <th>0</th>\n",
       "      <td>foo</td>\n",
       "      <td>one</td>\n",
       "      <td>1</td>\n",
       "      <td>one</td>\n",
       "      <td>4</td>\n",
       "    </tr>\n",
       "    <tr>\n",
       "      <th>1</th>\n",
       "      <td>foo</td>\n",
       "      <td>one</td>\n",
       "      <td>1</td>\n",
       "      <td>one</td>\n",
       "      <td>5</td>\n",
       "    </tr>\n",
       "    <tr>\n",
       "      <th>2</th>\n",
       "      <td>foo</td>\n",
       "      <td>two</td>\n",
       "      <td>2</td>\n",
       "      <td>one</td>\n",
       "      <td>4</td>\n",
       "    </tr>\n",
       "    <tr>\n",
       "      <th>3</th>\n",
       "      <td>foo</td>\n",
       "      <td>two</td>\n",
       "      <td>2</td>\n",
       "      <td>one</td>\n",
       "      <td>5</td>\n",
       "    </tr>\n",
       "    <tr>\n",
       "      <th>4</th>\n",
       "      <td>bar</td>\n",
       "      <td>one</td>\n",
       "      <td>3</td>\n",
       "      <td>one</td>\n",
       "      <td>6</td>\n",
       "    </tr>\n",
       "    <tr>\n",
       "      <th>5</th>\n",
       "      <td>bar</td>\n",
       "      <td>one</td>\n",
       "      <td>3</td>\n",
       "      <td>two</td>\n",
       "      <td>7</td>\n",
       "    </tr>\n",
       "  </tbody>\n",
       "</table>\n",
       "</div>"
      ],
      "text/plain": [
       "  key1 key2_x  lval key2_y  rval\n",
       "0  foo    one     1    one     4\n",
       "1  foo    one     1    one     5\n",
       "2  foo    two     2    one     4\n",
       "3  foo    two     2    one     5\n",
       "4  bar    one     3    one     6\n",
       "5  bar    one     3    two     7"
      ]
     },
     "execution_count": 45,
     "metadata": {},
     "output_type": "execute_result"
    }
   ],
   "source": [
    "pd.merge(left, right, on='key1')"
   ]
  },
  {
   "cell_type": "markdown",
   "metadata": {},
   "source": [
    "- inner join 相当\n",
    "```sql\n",
    "select distinct l.key1, l.key2 as key2_left, l.lval, r.key2 as key2_right, r.rval from left l inner join right r using(key1);\n",
    "```"
   ]
  },
  {
   "cell_type": "code",
   "execution_count": 46,
   "metadata": {
    "ExecuteTime": {
     "end_time": "2017-08-28T07:17:30.543342Z",
     "start_time": "2017-08-28T07:17:30.529305Z"
    }
   },
   "outputs": [
    {
     "data": {
      "text/html": [
       "<div>\n",
       "<style>\n",
       "    .dataframe thead tr:only-child th {\n",
       "        text-align: right;\n",
       "    }\n",
       "\n",
       "    .dataframe thead th {\n",
       "        text-align: left;\n",
       "    }\n",
       "\n",
       "    .dataframe tbody tr th {\n",
       "        vertical-align: top;\n",
       "    }\n",
       "</style>\n",
       "<table border=\"1\" class=\"dataframe\">\n",
       "  <thead>\n",
       "    <tr style=\"text-align: right;\">\n",
       "      <th></th>\n",
       "      <th>key1</th>\n",
       "      <th>key2_left</th>\n",
       "      <th>lval</th>\n",
       "      <th>key2_right</th>\n",
       "      <th>rval</th>\n",
       "    </tr>\n",
       "  </thead>\n",
       "  <tbody>\n",
       "    <tr>\n",
       "      <th>0</th>\n",
       "      <td>foo</td>\n",
       "      <td>one</td>\n",
       "      <td>1</td>\n",
       "      <td>one</td>\n",
       "      <td>4</td>\n",
       "    </tr>\n",
       "    <tr>\n",
       "      <th>1</th>\n",
       "      <td>foo</td>\n",
       "      <td>one</td>\n",
       "      <td>1</td>\n",
       "      <td>one</td>\n",
       "      <td>5</td>\n",
       "    </tr>\n",
       "    <tr>\n",
       "      <th>2</th>\n",
       "      <td>foo</td>\n",
       "      <td>two</td>\n",
       "      <td>2</td>\n",
       "      <td>one</td>\n",
       "      <td>4</td>\n",
       "    </tr>\n",
       "    <tr>\n",
       "      <th>3</th>\n",
       "      <td>foo</td>\n",
       "      <td>two</td>\n",
       "      <td>2</td>\n",
       "      <td>one</td>\n",
       "      <td>5</td>\n",
       "    </tr>\n",
       "    <tr>\n",
       "      <th>4</th>\n",
       "      <td>bar</td>\n",
       "      <td>one</td>\n",
       "      <td>3</td>\n",
       "      <td>one</td>\n",
       "      <td>6</td>\n",
       "    </tr>\n",
       "    <tr>\n",
       "      <th>5</th>\n",
       "      <td>bar</td>\n",
       "      <td>one</td>\n",
       "      <td>3</td>\n",
       "      <td>two</td>\n",
       "      <td>7</td>\n",
       "    </tr>\n",
       "  </tbody>\n",
       "</table>\n",
       "</div>"
      ],
      "text/plain": [
       "  key1 key2_left  lval key2_right  rval\n",
       "0  foo       one     1        one     4\n",
       "1  foo       one     1        one     5\n",
       "2  foo       two     2        one     4\n",
       "3  foo       two     2        one     5\n",
       "4  bar       one     3        one     6\n",
       "5  bar       one     3        two     7"
      ]
     },
     "execution_count": 46,
     "metadata": {},
     "output_type": "execute_result"
    }
   ],
   "source": [
    "pd.merge(left, right, on='key1', suffixes=('_left', '_right'))"
   ]
  },
  {
   "cell_type": "code",
   "execution_count": null,
   "metadata": {
    "collapsed": true
   },
   "outputs": [],
   "source": []
  },
  {
   "cell_type": "code",
   "execution_count": null,
   "metadata": {
    "collapsed": true
   },
   "outputs": [],
   "source": []
  },
  {
   "cell_type": "code",
   "execution_count": null,
   "metadata": {
    "collapsed": true
   },
   "outputs": [],
   "source": []
  }
 ],
 "metadata": {
  "kernelspec": {
   "display_name": "Python 3",
   "language": "python",
   "name": "python3"
  },
  "language_info": {
   "codemirror_mode": {
    "name": "ipython",
    "version": 3
   },
   "file_extension": ".py",
   "mimetype": "text/x-python",
   "name": "python",
   "nbconvert_exporter": "python",
   "pygments_lexer": "ipython3",
   "version": "3.5.3"
  },
  "toc": {
   "colors": {
    "hover_highlight": "#DAA520",
    "navigate_num": "#000000",
    "navigate_text": "#333333",
    "running_highlight": "#FF0000",
    "selected_highlight": "#FFD700",
    "sidebar_border": "#EEEEEE",
    "wrapper_background": "#FFFFFF"
   },
   "moveMenuLeft": true,
   "nav_menu": {
    "height": "452px",
    "width": "252px"
   },
   "navigate_menu": true,
   "number_sections": true,
   "sideBar": true,
   "threshold": 4,
   "toc_cell": false,
   "toc_position": {
    "height": "852px",
    "left": "0px",
    "right": "1172.01px",
    "top": "106.997px",
    "width": "261px"
   },
   "toc_section_display": "block",
   "toc_window_display": true,
   "widenNotebook": false
  },
  "varInspector": {
   "cols": {
    "lenName": 16,
    "lenType": 16,
    "lenVar": 40
   },
   "kernels_config": {
    "python": {
     "delete_cmd_postfix": "",
     "delete_cmd_prefix": "del ",
     "library": "var_list.py",
     "varRefreshCmd": "print(var_dic_list())"
    },
    "r": {
     "delete_cmd_postfix": ") ",
     "delete_cmd_prefix": "rm(",
     "library": "var_list.r",
     "varRefreshCmd": "cat(var_dic_list()) "
    }
   },
   "types_to_exclude": [
    "module",
    "function",
    "builtin_function_or_method",
    "instance",
    "_Feature"
   ],
   "window_display": false
  }
 },
 "nbformat": 4,
 "nbformat_minor": 1
}
