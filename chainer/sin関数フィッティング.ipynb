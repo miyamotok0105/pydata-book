{
 "cells": [
  {
   "cell_type": "code",
   "execution_count": null,
   "metadata": {
    "collapsed": true
   },
   "outputs": [],
   "source": [
    "#http://qiita.com/hikobotch/items/018808ef795061176824"
   ]
  },
  {
   "cell_type": "code",
   "execution_count": 16,
   "metadata": {},
   "outputs": [],
   "source": [
    "# -*- coding: utf-8 -*-\n",
    "\n",
    "# とりあえず片っ端からimport\n",
    "import numpy as np\n",
    "import chainer\n",
    "# from chainer import cuda, Function, gradient_check, Variable, optimizers, serializers, utils\n",
    "from chainer import cuda, Function, Variable, optimizers, serializers, utils\n",
    "# from chainer import Link, Chain, ChainList\n",
    "import chainer.functions as F\n",
    "import chainer.links as L\n",
    "import time\n",
    "from matplotlib import pyplot as plt\n",
    "%matplotlib inline\n"
   ]
  },
  {
   "cell_type": "code",
   "execution_count": 20,
   "metadata": {},
   "outputs": [
    {
     "name": "stdout",
     "output_type": "stream",
     "text": [
      "(array([ 0.        ,  0.6981317 ,  1.3962634 ,  2.0943951 ,  2.7925268 ,\n",
      "        3.4906585 ,  4.1887902 ,  4.88692191,  5.58505361,  6.28318531]), array([  0.00000000e+00,   6.42787610e-01,   9.84807753e-01,\n",
      "         8.66025404e-01,   3.42020143e-01,  -3.42020143e-01,\n",
      "        -8.66025404e-01,  -9.84807753e-01,  -6.42787610e-01,\n",
      "        -2.44929360e-16]))\n"
     ]
    }
   ],
   "source": [
    "# データ\n",
    "def get_dataset(N):\n",
    "    x = np.linspace(0, 2 * np.pi, N)\n",
    "    y = np.sin(x)\n",
    "    return x, y\n",
    "print(get_dataset(10))"
   ]
  },
  {
   "cell_type": "code",
   "execution_count": 22,
   "metadata": {
    "collapsed": true
   },
   "outputs": [],
   "source": [
    "# ニューラルネットワーク\n",
    "class MyChain(chainer.Chain):\n",
    "    def __init__(self, n_units=10):\n",
    "        super(MyChain, self).__init__(\n",
    "             l1=L.Linear(1, n_units),\n",
    "             l2=L.Linear(n_units, n_units),\n",
    "             l3=L.Linear(n_units, 1))\n",
    "\n",
    "    def __call__(self, x_data, y_data):\n",
    "        x = Variable(x_data.astype(np.float32).reshape(len(x_data),1)) # Variableオブジェクトに変換\n",
    "        y = Variable(y_data.astype(np.float32).reshape(len(y_data),1)) # Variableオブジェクトに変換\n",
    "        return F.mean_squared_error(self.predict(x), y)\n",
    "\n",
    "    def  predict(self, x):\n",
    "        h1 = F.relu(self.l1(x))\n",
    "        h2 = F.relu(self.l2(h1))\n",
    "        h3 = self.l3(h2)\n",
    "        return h3\n",
    "\n",
    "    def get_predata(self, x):\n",
    "        return self.predict(Variable(x.astype(np.float32).reshape(len(x),1))).data\n"
   ]
  },
  {
   "cell_type": "code",
   "execution_count": null,
   "metadata": {
    "collapsed": true
   },
   "outputs": [],
   "source": [
    "\n",
    "# main\n",
    "if __name__ == \"__main__\":\n",
    "\n",
    "    # 学習データ\n",
    "    N = 100\n",
    "    x_train, y_train = get_dataset(N)\n",
    "\n",
    "    # テストデータ\n",
    "    N_test = 900\n",
    "    x_test, y_test = get_dataset(N_test)\n",
    "\n",
    "    # 学習パラメータ\n",
    "    batchsize = 10\n",
    "    n_epoch = 500\n",
    "    n_units = 100\n",
    "\n",
    "    # モデル作成\n",
    "    model = MyChain(n_units)\n",
    "    optimizer = optimizers.Adam()\n",
    "    optimizer.setup(model)\n",
    "\n",
    "    # 学習ループ\n",
    "    train_losses =[]\n",
    "    test_losses =[]\n",
    "    print(\"start...\")\n",
    "    start_time = time.time()\n",
    "    #n_epochが500だと500回まわる\n",
    "    for epoch in range(1, n_epoch + 1):\n",
    "\n",
    "        # training\n",
    "        perm = np.random.permutation(N)\n",
    "        sum_loss = 0\n",
    "        #batchsizeが100個のデータに対して10個ずつまわる\n",
    "        for i in range(0, N, batchsize):\n",
    "            x_batch = x_train[perm[i:i + batchsize]]\n",
    "            y_batch = y_train[perm[i:i + batchsize]]\n",
    "\n",
    "            model.zerograds()\n",
    "            loss = model(x_batch,y_batch)\n",
    "            sum_loss += loss.data * batchsize\n",
    "            loss.backward()\n",
    "            optimizer.update()\n",
    "\n",
    "        average_loss = sum_loss / N\n",
    "        train_losses.append(average_loss)\n",
    "\n",
    "        # test\n",
    "        loss = model(x_test,y_test)\n",
    "        test_losses.append(loss.data)\n",
    "\n",
    "        # 学習過程を出力\n",
    "        if epoch % 10 == 0:\n",
    "            print(\"epoch: {}/{} train loss: {} test loss: {}\".format(epoch, n_epoch, average_loss, loss.data))\n",
    "\n",
    "        # 学習結果のグラフ作成\n",
    "        if epoch in [10, 500]:\n",
    "            theta = np.linspace(0, 2 * np.pi, N_test)\n",
    "            sin = np.sin(theta)\n",
    "            test = model.get_predata(theta)\n",
    "            plt.plot(theta, sin, label = \"sin\")\n",
    "            plt.plot(theta, test, label = \"test\")\n",
    "            plt.legend()\n",
    "            plt.grid(True)\n",
    "            plt.xlim(0, 2 * np.pi)\n",
    "            plt.ylim(-1.2, 1.2)\n",
    "            plt.title(\"sin\")\n",
    "            plt.xlabel(\"theta\")\n",
    "            plt.ylabel(\"amp\")\n",
    "            plt.savefig(\"fig/fig_sin_epoch{}.png\".format(epoch)) # figフォルダが存在していることを前提\n",
    "            plt.clf()\n",
    "\n",
    "    print(\"end\")\n",
    "\n",
    "    interval = int(time.time() - start_time)\n",
    "    print(\"実行時間: {}sec\".format(interval))\n",
    "\n",
    "\n",
    "    # 誤差のグラフ作成\n",
    "    plt.plot(train_losses, label = \"train_loss\")\n",
    "    plt.plot(test_losses, label = \"test_loss\")\n",
    "    plt.yscale('log')\n",
    "    plt.legend()\n",
    "    plt.grid(True)\n",
    "    plt.title(\"loss\")\n",
    "    plt.xlabel(\"epoch\")\n",
    "    plt.ylabel(\"loss\")\n",
    "    plt.savefig(\"fig/fig_loss.png\") # figフォルダが存在していることを前提\n",
    "    plt.clf()\n"
   ]
  }
 ],
 "metadata": {
  "kernelspec": {
   "display_name": "Python 3",
   "language": "python",
   "name": "python3"
  },
  "language_info": {
   "codemirror_mode": {
    "name": "ipython",
    "version": 3
   },
   "file_extension": ".py",
   "mimetype": "text/x-python",
   "name": "python",
   "nbconvert_exporter": "python",
   "pygments_lexer": "ipython3",
   "version": "3.5.3"
  }
 },
 "nbformat": 4,
 "nbformat_minor": 2
}
