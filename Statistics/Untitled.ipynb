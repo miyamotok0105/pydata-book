{
 "cells": [
  {
   "cell_type": "code",
   "execution_count": 2,
   "metadata": {},
   "outputs": [
    {
     "data": {
      "text/plain": [
       "R version 3.4.1 (2017-06-30)\n",
       "Platform: x86_64-apple-darwin13.4.0 (64-bit)\n",
       "Running under: macOS Sierra 10.12.6\n",
       "\n",
       "Matrix products: default\n",
       "BLAS: /System/Library/Frameworks/Accelerate.framework/Versions/A/Frameworks/vecLib.framework/Versions/A/libBLAS.dylib\n",
       "LAPACK: /System/Library/Frameworks/Accelerate.framework/Versions/A/Frameworks/vecLib.framework/Versions/A/libLAPACK.dylib\n",
       "\n",
       "locale:\n",
       "[1] ja_JP.UTF-8/ja_JP.UTF-8/ja_JP.UTF-8/C/ja_JP.UTF-8/ja_JP.UTF-8\n",
       "\n",
       "attached base packages:\n",
       "[1] stats     graphics  grDevices utils     datasets  methods   base     \n",
       "\n",
       "loaded via a namespace (and not attached):\n",
       " [1] compiler_3.4.1  R6_2.2.1        magrittr_1.5    IRdisplay_0.4.4\n",
       " [5] pbdZMQ_0.2-6    tools_3.4.1     crayon_1.3.2    uuid_0.1-2     \n",
       " [9] stringi_1.1.5   IRkernel_0.7.1  jsonlite_1.5    stringr_1.2.0  \n",
       "[13] digest_0.6.12   repr_0.10       evaluate_0.10  "
      ]
     },
     "metadata": {},
     "output_type": "display_data"
    }
   ],
   "source": [
    "sessionInfo()"
   ]
  },
  {
   "cell_type": "code",
   "execution_count": 1,
   "metadata": {},
   "outputs": [
    {
     "name": "stderr",
     "output_type": "stream",
     "text": [
      "Warning message:\n",
      "“unable to access index for repository http://cran.r-project.org/src/contrib:\n",
      "   インターネットルーチンがロードできません ”Warning message:\n",
      "“package ‘VGAM’ is not available (for R version 3.4.1)”"
     ]
    }
   ],
   "source": [
    "# needed_packages = c(\"ggplot2\", \"reshape2\", \"grid\", \"RColorBrewer\", \"VGAM\")\n",
    "# if (length(setdiff(needed_packages, rownames(installed.packages()))) > 0) {\n",
    "#   install.packages(setdiff(needed_packages, rownames(installed.packages())),\n",
    "#                    dependencies=TRUE, repos=\"http://cran.r-project.org\")\n",
    "# }"
   ]
  },
  {
   "cell_type": "code",
   "execution_count": 3,
   "metadata": {},
   "outputs": [
    {
     "ename": "ERROR",
     "evalue": "Error in library(vars): there is no package called ‘vars’\n",
     "output_type": "error",
     "traceback": [
      "Error in library(vars): there is no package called ‘vars’\nTraceback:\n",
      "1. library(vars)",
      "2. stop(txt, domain = NA)"
     ]
    }
   ],
   "source": [
    "library(vars)\n",
    "# install.packages(\"vars\")"
   ]
  },
  {
   "cell_type": "code",
   "execution_count": 2,
   "metadata": {},
   "outputs": [
    {
     "name": "stderr",
     "output_type": "stream",
     "text": [
      "Warning message:\n",
      "“unable to access index for repository https://cran.r-project.org/src/contrib:\n",
      "   インターネットルーチンがロードできません ”Warning message:\n",
      "“package ‘vars’ is not available (for R version 3.4.1)”"
     ]
    }
   ],
   "source": [
    " install.packages(\"vars\")"
   ]
  },
  {
   "cell_type": "code",
   "execution_count": 1,
   "metadata": {},
   "outputs": [
    {
     "ename": "ERROR",
     "evalue": "Error in library(VGAM): there is no package called ‘VGAM’\n",
     "output_type": "error",
     "traceback": [
      "Error in library(VGAM): there is no package called ‘VGAM’\nTraceback:\n",
      "1. library(VGAM)",
      "2. stop(txt, domain = NA)"
     ]
    }
   ],
   "source": [
    "library(ggplot2)\n",
    "library(reshape2)\n",
    "library(grid)\n",
    "library(RColorBrewer)\n",
    "library(VGAM) # [dp]pareto"
   ]
  },
  {
   "cell_type": "code",
   "execution_count": null,
   "metadata": {
    "collapsed": true
   },
   "outputs": [],
   "source": []
  }
 ],
 "metadata": {
  "kernelspec": {
   "display_name": "R",
   "language": "R",
   "name": "ir"
  },
  "language_info": {
   "codemirror_mode": "r",
   "file_extension": ".r",
   "mimetype": "text/x-r-source",
   "name": "R",
   "pygments_lexer": "r",
   "version": "3.4.1"
  }
 },
 "nbformat": 4,
 "nbformat_minor": 2
}
