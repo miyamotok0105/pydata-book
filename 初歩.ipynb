{
 "cells": [
  {
   "cell_type": "code",
   "execution_count": 2,
   "metadata": {},
   "outputs": [
    {
     "name": "stdout",
     "output_type": "stream",
     "text": [
      "            NIKKEI225\n",
      "DATE                 \n",
      "1949-05-16     176.21\n",
      "1949-05-17     174.80\n",
      "1949-05-18     172.53\n",
      "1949-05-19     171.34\n",
      "1949-05-20     169.20\n",
      "1949-05-23     171.85\n",
      "1949-05-24     172.75\n",
      "1949-05-25     171.53\n",
      "1949-05-26     170.43\n",
      "1949-05-27     172.76\n",
      "1949-05-30     176.21\n",
      "1949-05-31     176.52\n",
      "1949-06-01     175.97\n",
      "1949-06-02     174.76\n",
      "1949-06-03     175.48\n",
      "1949-06-06     174.92\n",
      "1949-06-07     173.83\n",
      "1949-06-08     171.53\n",
      "1949-06-09     170.15\n",
      "1949-06-10     167.98\n",
      "1949-06-13     165.27\n",
      "1949-06-14     158.98\n",
      "1949-06-15     153.81\n",
      "1949-06-16     157.80\n",
      "1949-06-17     160.13\n",
      "1949-06-20     155.45\n",
      "1949-06-21     152.99\n",
      "1949-06-22     155.01\n",
      "1949-06-23     155.76\n",
      "1949-06-24     154.04\n",
      "...               ...\n",
      "2017-08-21   19393.13\n",
      "2017-08-22   19383.84\n",
      "2017-08-23   19434.64\n",
      "2017-08-24   19353.77\n",
      "2017-08-25   19452.61\n",
      "2017-08-28   19449.90\n",
      "2017-08-29   19362.55\n",
      "2017-08-30   19506.54\n",
      "2017-08-31   19646.24\n",
      "2017-09-01   19691.47\n",
      "2017-09-04   19508.25\n",
      "2017-09-05   19385.81\n",
      "2017-09-06   19357.97\n",
      "2017-09-07   19396.52\n",
      "2017-09-08   19274.82\n",
      "2017-09-11   19545.77\n",
      "2017-09-12   19776.62\n",
      "2017-09-13   19865.82\n",
      "2017-09-14   19807.44\n",
      "2017-09-15   19909.50\n",
      "2017-09-18        NaN\n",
      "2017-09-19   20299.38\n",
      "2017-09-20   20310.46\n",
      "2017-09-21   20347.48\n",
      "2017-09-22   20296.45\n",
      "2017-09-25   20397.58\n",
      "2017-09-26   20330.19\n",
      "2017-09-27   20267.05\n",
      "2017-09-28   20363.11\n",
      "2017-09-29   20356.28\n",
      "\n",
      "[17840 rows x 1 columns]\n"
     ]
    },
    {
     "data": {
      "image/png": "[encoded data removed]",
      "text/plain": [
       "<matplotlib.figure.Figure at 0x114f7dc88>"
      ]
     },
     "metadata": {},
     "output_type": "display_data"
    }
   ],
   "source": [
    "#!/usr/bin/env python3\n",
    " \n",
    "import pandas_datareader.data as pdr\n",
    "import matplotlib.pyplot as plt\n",
    "import datetime as dt\n",
    "%matplotlib inline\n",
    "\n",
    "def displayN225():\n",
    "    yesterday = dt.datetime.today() - dt.timedelta(days=1)\n",
    "    N225 = pdr.DataReader('NIKKEI225', 'fred', '1949/5/16', yesterday.strftime(\"%Y/%m/%d\"))\n",
    "    \n",
    "    print(N225)\n",
    "    N225.plot(color='red')\n",
    "    plt.ylabel('NIKKEI225')\n",
    "    plt.xlabel('DATE')\n",
    "    plt.show()\n",
    " \n",
    "\n",
    "displayN225()"
   ]
  },
  {
   "cell_type": "code",
   "execution_count": null,
   "metadata": {},
   "outputs": [],
   "source": []
  }
 ],
 "metadata": {
  "kernelspec": {
   "display_name": "Python 3",
   "language": "python",
   "name": "python3"
  },
  "language_info": {
   "codemirror_mode": {
    "name": "ipython",
    "version": 3
   },
   "file_extension": ".py",
   "mimetype": "text/x-python",
   "name": "python",
   "nbconvert_exporter": "python",
   "pygments_lexer": "ipython3",
   "version": "3.5.4"
  }
 },
 "nbformat": 4,
 "nbformat_minor": 2
}
